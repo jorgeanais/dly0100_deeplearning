{
 "cells": [
  {
   "cell_type": "code",
   "execution_count": 6,
   "metadata": {},
   "outputs": [],
   "source": [
    "import pandas as pd\n"
   ]
  },
  {
   "cell_type": "code",
   "execution_count": 7,
   "metadata": {},
   "outputs": [],
   "source": [
    "SCORE_FILE = \"https://raw.githubusercontent.com/jorgeanais/dly0100_deeplearning/main/.notas/eval1_score.csv\"\n",
    "df = pd.read_csv(SCORE_FILE)"
   ]
  },
  {
   "cell_type": "code",
   "execution_count": 8,
   "metadata": {},
   "outputs": [],
   "source": [
    "def calc_mark(points):\n",
    "    \"\"\"\n",
    "    Calcula la nota de la evaluación 1 a partir de los puntos obtenidos.\n",
    "    retorna 7 si puntaje = THRESHOLD_7\n",
    "    retorna 4 si puntaje = THRESHOLD_4\n",
    "    retorna 1 si puntaje = 0\n",
    "    \"\"\"\n",
    "\n",
    "    THRESHOLD_4 = 60\n",
    "    THRESHOLD_7 = 120\n",
    "\n",
    "    if points < THRESHOLD_4:\n",
    "        mark = 3 * points / THRESHOLD_4\n",
    "    else:\n",
    "        mark = 3 + 3 * (points - THRESHOLD_4) / (THRESHOLD_7 - THRESHOLD_4)\n",
    "    \n",
    "    return mark + 1"
   ]
  },
  {
   "cell_type": "code",
   "execution_count": 9,
   "metadata": {},
   "outputs": [],
   "source": [
    "df[\"nota\"] = df[\"score\"].map(calc_mark)"
   ]
  },
  {
   "cell_type": "code",
   "execution_count": 15,
   "metadata": {},
   "outputs": [
    {
     "data": {
      "text/plain": [
       "<Axes: >"
      ]
     },
     "execution_count": 15,
     "metadata": {},
     "output_type": "execute_result"
    },
    {
     "data": {
      "image/png": "[encoded data removed]",
      "text/plain": [
       "<Figure size 640x480 with 1 Axes>"
      ]
     },
     "metadata": {},
     "output_type": "display_data"
    }
   ],
   "source": [
    "df[\"nota\"].hist(bins=6)"
   ]
  },
  {
   "cell_type": "code",
   "execution_count": 14,
   "metadata": {},
   "outputs": [
    {
     "data": {
      "text/plain": [
       "count    11.000000\n",
       "mean      4.636364\n",
       "std       0.977008\n",
       "min       3.000000\n",
       "25%       4.000000\n",
       "50%       5.000000\n",
       "75%       5.500000\n",
       "max       6.000000\n",
       "Name: nota, dtype: float64"
      ]
     },
     "execution_count": 14,
     "metadata": {},
     "output_type": "execute_result"
    }
   ],
   "source": [
    "df[\"nota\"].describe()"
   ]
  },
  {
   "cell_type": "code",
   "execution_count": 13,
   "metadata": {},
   "outputs": [
    {
     "data": {
      "text/html": [
       "<div>\n",
       "<style scoped>\n",
       "    .dataframe tbody tr th:only-of-type {\n",
       "        vertical-align: middle;\n",
       "    }\n",
       "\n",
       "    .dataframe tbody tr th {\n",
       "        vertical-align: top;\n",
       "    }\n",
       "\n",
       "    .dataframe thead th {\n",
       "        text-align: right;\n",
       "    }\n",
       "</style>\n",
       "<table border=\"1\" class=\"dataframe\">\n",
       "  <thead>\n",
       "    <tr style=\"text-align: right;\">\n",
       "      <th></th>\n",
       "      <th>id</th>\n",
       "      <th>name</th>\n",
       "      <th>score</th>\n",
       "      <th>nota</th>\n",
       "    </tr>\n",
       "  </thead>\n",
       "  <tbody>\n",
       "    <tr>\n",
       "      <th>0</th>\n",
       "      <td>1</td>\n",
       "      <td>DENISSE ALCANTARA PINA</td>\n",
       "      <td>60</td>\n",
       "      <td>4.0</td>\n",
       "    </tr>\n",
       "    <tr>\n",
       "      <th>1</th>\n",
       "      <td>2</td>\n",
       "      <td>AARON BENJAMIN ARRIAGADA CARRASCO</td>\n",
       "      <td>100</td>\n",
       "      <td>6.0</td>\n",
       "    </tr>\n",
       "    <tr>\n",
       "      <th>2</th>\n",
       "      <td>3</td>\n",
       "      <td>ROBERTO ANTONIO CIFUENTES ORREGO</td>\n",
       "      <td>90</td>\n",
       "      <td>5.5</td>\n",
       "    </tr>\n",
       "    <tr>\n",
       "      <th>3</th>\n",
       "      <td>4</td>\n",
       "      <td>DIEGO ALEXIS CONCHA RAMOS</td>\n",
       "      <td>40</td>\n",
       "      <td>3.0</td>\n",
       "    </tr>\n",
       "    <tr>\n",
       "      <th>4</th>\n",
       "      <td>5</td>\n",
       "      <td>ANDRES BASTIAN FLORES COFRE</td>\n",
       "      <td>60</td>\n",
       "      <td>4.0</td>\n",
       "    </tr>\n",
       "    <tr>\n",
       "      <th>5</th>\n",
       "      <td>6</td>\n",
       "      <td>JOAQUIN IGNACIO FRITZ ASTORGA</td>\n",
       "      <td>90</td>\n",
       "      <td>5.5</td>\n",
       "    </tr>\n",
       "    <tr>\n",
       "      <th>6</th>\n",
       "      <td>7</td>\n",
       "      <td>FRANCISCO IGNACIO LARA TRONCCI</td>\n",
       "      <td>90</td>\n",
       "      <td>5.5</td>\n",
       "    </tr>\n",
       "    <tr>\n",
       "      <th>7</th>\n",
       "      <td>8</td>\n",
       "      <td>GUSTAVO LUNA BRITO</td>\n",
       "      <td>80</td>\n",
       "      <td>5.0</td>\n",
       "    </tr>\n",
       "    <tr>\n",
       "      <th>8</th>\n",
       "      <td>9</td>\n",
       "      <td>MICHELL ALEJANDRO MIRANDA MENDEZ</td>\n",
       "      <td>60</td>\n",
       "      <td>4.0</td>\n",
       "    </tr>\n",
       "    <tr>\n",
       "      <th>9</th>\n",
       "      <td>10</td>\n",
       "      <td>JAVIER NEGRETE SALAS</td>\n",
       "      <td>80</td>\n",
       "      <td>5.0</td>\n",
       "    </tr>\n",
       "    <tr>\n",
       "      <th>10</th>\n",
       "      <td>11</td>\n",
       "      <td>DANILO ENRIQUE TRONCOSO VARGAS</td>\n",
       "      <td>50</td>\n",
       "      <td>3.5</td>\n",
       "    </tr>\n",
       "  </tbody>\n",
       "</table>\n",
       "</div>"
      ],
      "text/plain": [
       "    id                               name  score  nota\n",
       "0    1             DENISSE ALCANTARA PINA     60   4.0\n",
       "1    2  AARON BENJAMIN ARRIAGADA CARRASCO    100   6.0\n",
       "2    3   ROBERTO ANTONIO CIFUENTES ORREGO     90   5.5\n",
       "3    4          DIEGO ALEXIS CONCHA RAMOS     40   3.0\n",
       "4    5        ANDRES BASTIAN FLORES COFRE     60   4.0\n",
       "5    6      JOAQUIN IGNACIO FRITZ ASTORGA     90   5.5\n",
       "6    7     FRANCISCO IGNACIO LARA TRONCCI     90   5.5\n",
       "7    8                 GUSTAVO LUNA BRITO     80   5.0\n",
       "8    9   MICHELL ALEJANDRO MIRANDA MENDEZ     60   4.0\n",
       "9   10               JAVIER NEGRETE SALAS     80   5.0\n",
       "10  11     DANILO ENRIQUE TRONCOSO VARGAS     50   3.5"
      ]
     },
     "execution_count": 13,
     "metadata": {},
     "output_type": "execute_result"
    }
   ],
   "source": [
    "df"
   ]
  },
  {
   "cell_type": "code",
   "execution_count": null,
   "metadata": {},
   "outputs": [],
   "source": []
  }
 ],
 "metadata": {
  "kernelspec": {
   "display_name": "py311",
   "language": "python",
   "name": "python3"
  },
  "language_info": {
   "codemirror_mode": {
    "name": "ipython",
    "version": 3
   },
   "file_extension": ".py",
   "mimetype": "text/x-python",
   "name": "python",
   "nbconvert_exporter": "python",
   "pygments_lexer": "ipython3",
   "version": "3.11.0"
  },
  "orig_nbformat": 4
 },
 "nbformat": 4,
 "nbformat_minor": 2
}
