{
  "cells": [
    {
      "cell_type": "markdown",
      "metadata": {
        "id": "GQERIYfmtA0R"
      },
      "source": [
        "# Entrenado redes Feed-Forward\n",
        "\n",
        "Usaremos keras para de manera muy fácil entrenar redes feed-forward usando descenso estocástico de  gradiente."
      ]
    },
    {
      "cell_type": "code",
      "execution_count": null,
      "metadata": {
        "id": "c0nB0cEExPJV"
      },
      "outputs": [],
      "source": [
        "# Importamos librerías necesarias\n",
        "\n",
        "from tensorflow import keras\n",
        "import numpy as np\n",
        "import tensorflow as tf\n",
        "from matplotlib import pyplot as plt"
      ]
    },
    {
      "cell_type": "code",
      "execution_count": null,
      "metadata": {
        "id": "ZZzjBNa0-wsy"
      },
      "outputs": [],
      "source": [
        "# Setamos los seed para números random\n",
        "\n",
        "np.random.seed(30)\n",
        "tf.random.set_seed(30)"
      ]
    },
    {
      "cell_type": "code",
      "execution_count": null,
      "metadata": {
        "colab": {
          "base_uri": "https://localhost:8080/",
          "height": 86
        },
        "id": "6gAmlQFrxW-B",
        "outputId": "0d4ac9b4-4016-44c1-97d9-cc11bd9d0d8b"
      },
      "outputs": [],
      "source": [
        "# Cargamos los datos de entrenamiento de MNIST\n",
        "\n",
        "(imgs, labs), _ = keras.datasets.mnist.load_data()\n",
        "print(imgs.shape)\n",
        "print(labs.shape)"
      ]
    },
    {
      "cell_type": "code",
      "execution_count": null,
      "metadata": {
        "colab": {
          "base_uri": "https://localhost:8080/",
          "height": 485
        },
        "id": "StRf2AYEIBZC",
        "outputId": "23db571c-57c4-4bf8-a3b8-0877714371c1"
      },
      "outputs": [],
      "source": [
        "# Mostramos una grilla de ejemplos (al azar)\n",
        "\n",
        "h = 4 # alto de la grilla\n",
        "w = 4 # ancho de la grilla\n",
        "fig, axs = plt.subplots(h, w, figsize=(2*h,2*w))\n",
        "for i in range(h):\n",
        "  for j in range(w):\n",
        "    ex = np.random.randint(len(imgs))\n",
        "    axs[i,j].set_title(\"etiqueta: \" + str(labs[ex]))\n",
        "    axs[i,j].set_xticklabels([])\n",
        "    axs[i,j].set_yticklabels([])\n",
        "    axs[i,j].grid(False)\n",
        "    axs[i,j].imshow(imgs[ex])"
      ]
    },
    {
      "cell_type": "code",
      "execution_count": null,
      "metadata": {
        "colab": {
          "base_uri": "https://localhost:8080/",
          "height": 52
        },
        "id": "m7bfM8Gbz-U3",
        "outputId": "1284cd3f-f306-4e68-a589-6c03b86ec5d6"
      },
      "outputs": [],
      "source": [
        "# Tranformamos los datos para el entrenamiento\n",
        "\n",
        "# los X's los cambiamos a vectores de una dimension\n",
        "# y luego normalizamos\n",
        "X = imgs.reshape(60000,28*28)\n",
        "X = X / 255\n",
        "print(X.shape)\n",
        "\n",
        "# los Y's los cambiamos a vecotres de 10 componentes (one-hot)\n",
        "Y = keras.utils.to_categorical(labs, 10)\n",
        "print(Y.shape)"
      ]
    },
    {
      "cell_type": "code",
      "execution_count": null,
      "metadata": {
        "colab": {
          "base_uri": "https://localhost:8080/",
          "height": 35
        },
        "id": "UPMdvGVwMuBX",
        "outputId": "5e6e6426-cefd-490e-ffa9-b4dabf977ff2"
      },
      "outputs": [],
      "source": [
        "# cantidad de ejemplos, neuronas de entrada y neuronas de salida\n",
        "\n",
        "M = X.shape[0]\n",
        "N = X.shape[1]\n",
        "C = Y.shape[1]\n",
        "\n",
        "print(M,N,C)"
      ]
    },
    {
      "cell_type": "code",
      "execution_count": null,
      "metadata": {
        "id": "72WabCf34AUm"
      },
      "outputs": [],
      "source": [
        "# tamaños de capas escondidas\n",
        "\n",
        "h1 = 64\n",
        "h2 = 32"
      ]
    },
    {
      "cell_type": "code",
      "execution_count": null,
      "metadata": {
        "colab": {
          "base_uri": "https://localhost:8080/",
          "height": 259
        },
        "id": "_0HVLruexh6o",
        "outputId": "0770d8e8-e983-460e-f137-dc9bf24ef6f1"
      },
      "outputs": [],
      "source": [
        "# nuestra red feed-forward\n",
        "\n",
        "red = keras.Sequential()\n",
        "red.add(keras.layers.Dense(h1, input_dim=N, activation='relu', name='primera_capa'))\n",
        "red.add(keras.layers.Dense(h2, activation='relu', name='segunda_capa'))\n",
        "red.add(keras.layers.Dense(C, activation='softmax', name='capa_de_output'))\n",
        "\n",
        "red.summary()"
      ]
    },
    {
      "cell_type": "code",
      "execution_count": null,
      "metadata": {
        "id": "xiaYBAcbyDsi"
      },
      "outputs": [],
      "source": [
        "# Ahora compilamos la red para poder entrenar (con .compile)\n",
        "# Necesitamos definir \n",
        "#   - la pérdica (\"loss\"), en nuestro caso, \"categorical_crossentropy\"\n",
        "#   - el algoritmo de optimización (\"optimizer\"), en nuestro caso \"sgd\"\n",
        "# También podemos agregar una lista de métrics (\"metrics\"). \n",
        "# Agregamos \"accuracy\"\n",
        "\n",
        "red.compile(\n",
        "    loss='categorical_crossentropy',\n",
        "    optimizer='sgd',\n",
        "    metrics=['accuracy']\n",
        ")"
      ]
    },
    {
      "cell_type": "code",
      "execution_count": null,
      "metadata": {
        "colab": {
          "base_uri": "https://localhost:8080/",
          "height": 431
        },
        "id": "gFJ_O1qy6hSb",
        "outputId": "df778834-5f82-4627-9da1-f9a4ed041ca3"
      },
      "outputs": [],
      "source": [
        "# Entrenamos simplemente haciendo .fit y entregando los inputs\n",
        "# Podemos definir también la cantidad de épocas (\"epochs\"), \n",
        "# el tamaño del paquete de entrenamiento (\"batch_size\"), \n",
        "# y otros parámetros que veremos más adelante.\n",
        "# Guardamos el resultado en una variable para analizar.\n",
        "\n",
        "h = red.fit(X, Y,\n",
        "        epochs=5,\n",
        "        batch_size=1,\n",
        "       )"
      ]
    },
    {
      "cell_type": "code",
      "execution_count": null,
      "metadata": {
        "colab": {
          "base_uri": "https://localhost:8080/",
          "height": 297
        },
        "id": "SqsNfTwlPE8E",
        "outputId": "c07f15dd-f328-4629-aada-06ab77b14f53"
      },
      "outputs": [],
      "source": [
        "# imprime la pérdida para cada época\n",
        "\n",
        "plt.plot(h.history['loss'])\n",
        "plt.title('Pérdida')\n",
        "plt.xlabel('Época')\n",
        "plt.show()\n"
      ]
    },
    {
      "cell_type": "code",
      "execution_count": null,
      "metadata": {
        "colab": {
          "base_uri": "https://localhost:8080/",
          "height": 297
        },
        "id": "TNZIwMhsaLTj",
        "outputId": "b470d750-fd46-404c-f3bb-4cf27cb047ee"
      },
      "outputs": [],
      "source": [
        "# imprime el porcentaje de acierto para cada época\n",
        "\n",
        "plt.plot(h.history['accuracy'])\n",
        "plt.title('% Acierto')\n",
        "plt.xlabel('Época')\n",
        "plt.show()\n"
      ]
    },
    {
      "cell_type": "code",
      "execution_count": null,
      "metadata": {
        "colab": {
          "base_uri": "https://localhost:8080/",
          "height": 609
        },
        "id": "n9iNGmF1OLgK",
        "outputId": "efe31fc1-160b-4bc7-a687-e13c9f4828e4"
      },
      "outputs": [],
      "source": [
        "# Veamos algunas predicciones\n",
        "h = 5\n",
        "w = 5\n",
        "\n",
        "fig, axs = plt.subplots(h, w, figsize=(2*h,2*w))\n",
        "for i in range(h):\n",
        "  for j in range(w):\n",
        "    ex = np.random.randint(len(imgs))\n",
        "    Xin = X[ex].reshape(1,28*28)\n",
        "    Ypred = red.predict(Xin).reshape(10)\n",
        "    lpred = np.argmax(Ypred)\n",
        "    \n",
        "    axs[i,j].set_title(\"img:\" + str(ex) + \"\\n real: \" + str(labs[ex]) + \" red: \" + str(lpred))\n",
        "    axs[i,j].set_xticklabels([])\n",
        "    axs[i,j].set_yticklabels([])\n",
        "    axs[i,j].grid(False)\n",
        "    axs[i,j].imshow(imgs[ex])"
      ]
    },
    {
      "cell_type": "markdown",
      "metadata": {
        "id": "xzmG-YFd9cSA"
      },
      "source": [
        "## Ejercicio 1: ¿Sin normalizar datos?\n",
        "\n",
        "Elimina la parte del código anterior que normaliza los datos (donde dividimos por 255) y mira qué le pasa al entrenamiento. No tiene que escribir nuevo código, sólo saca esa parte y reentrena  la red (debes crear otra vez la red, compilarla y luego  hacer `fit`)"
      ]
    },
    {
      "cell_type": "markdown",
      "metadata": {
        "id": "oO33zWumtSwc"
      },
      "source": [
        "## Ejercicio 2: Entrenando por más épocas\n",
        "\n",
        "Entrena la red, esta vez por más épocas (pueba con 20 o 30). Para comenzar el entrenamiento desde 0 otra vez, debes reconstruir la red y luego ejecutar `.compile` otra vez (puedes copiar el código de arriba). Luego del entrenamiento, imprime la historia y compáralo con el resultado anterior. \n",
        "\n",
        "Hazle cambios a la red o al entrenamiento para intentar mejorar aun más el acierto. Comenta con tus compañeros qué cambios podrían dar buenos resultados y pruébalos ¿Hasta qué acierto puedes llegar? \n",
        "\n",
        "(IMPORTANTE: No olvides normalizar el input de la red otra vez)"
      ]
    },
    {
      "cell_type": "code",
      "execution_count": null,
      "metadata": {
        "id": "_M3frehpTVTt"
      },
      "outputs": [],
      "source": [
        "# Reconstruimos y recompilamos la red\n",
        "\n",
        "h1 = 64\n",
        "h2 = 32\n",
        "\n",
        "red = keras.Sequential()\n",
        "red.add(keras.layers.Dense(h1, input_dim=N, activation='relu', name='primera_capa'))\n",
        "red.add(keras.layers.Dense(h2, activation='relu', name='segunda_capa'))\n",
        "red.add(keras.layers.Dense(C, activation='softmax', name='capa_de_output'))\n",
        "\n",
        "red.compile(\n",
        "    loss='categorical_crossentropy',\n",
        "    optimizer='sgd',\n",
        "    metrics=['accuracy']\n",
        ")\n",
        "\n",
        "# Acá empieza tu código para entrenamiento  (~3 líneas)\n",
        "\n",
        "# Acá termina tu código"
      ]
    },
    {
      "cell_type": "code",
      "execution_count": null,
      "metadata": {
        "id": "0rXa5znYu2KR"
      },
      "outputs": [],
      "source": [
        "# Imprime el porcentaje de acierto para cada época\n",
        "\n",
        "# Acá empieza tu código  (~5 líneas)\n",
        "\n",
        "# Acá termina tu código"
      ]
    },
    {
      "cell_type": "markdown",
      "metadata": {
        "id": "Yn4GOa6U_n4e"
      },
      "source": [
        "# CIFAR10: Entrenando con datos mas complejos"
      ]
    },
    {
      "cell_type": "markdown",
      "metadata": {
        "id": "-OAFmUdxxHaq"
      },
      "source": [
        "Entrenaremos una red para aprender los datos de [CIFAR10](https://www.cs.toronto.edu/~kriz/cifar.html). Este es un conjunto de 50.000 imágenes de entrenamiento etiquetadas en 10 clases (0:avión, 1:automobil, 2:pájaro, 3:gato, 4:venado, 5:perro, 6:rana, 7:caballo, 8:barco, 9:camión).\n",
        "\n",
        "Comenzaremos cargando los datos y mostrando algunos ejemplos"
      ]
    },
    {
      "cell_type": "code",
      "execution_count": null,
      "metadata": {
        "colab": {
          "base_uri": "https://localhost:8080/",
          "height": 86
        },
        "id": "J7k_SnFrxGbT",
        "outputId": "bd94274f-bb01-4060-8a5c-a24a83c1c4f0"
      },
      "outputs": [],
      "source": [
        "(imgs,labs), _ = keras.datasets.cifar10.load_data()\n",
        "print(imgs.shape)\n",
        "print(labs.shape)"
      ]
    },
    {
      "cell_type": "code",
      "execution_count": null,
      "metadata": {
        "id": "x3PylcMgxsoY"
      },
      "outputs": [],
      "source": [
        "# Lista de nombres para usar como etiquetas\n",
        "\n",
        "nombres = ['avión', 'auto', 'pájaro', 'gato', 'venado', 'perro', 'rana', 'caballo', 'barco', 'camión']"
      ]
    },
    {
      "cell_type": "code",
      "execution_count": null,
      "metadata": {
        "colab": {
          "base_uri": "https://localhost:8080/",
          "height": 572
        },
        "id": "XUcrrRw9vvIG",
        "outputId": "4ec023d1-d96d-44e0-da04-bb8f587adbdd"
      },
      "outputs": [],
      "source": [
        "# Mostramos una grilla de ejemplos (al azar)\n",
        "\n",
        "h = 6 # alto de la grilla\n",
        "w = 6 # ancho de la grilla\n",
        "fig, axs = plt.subplots(h, w, figsize=(1.6*h,1.6*w))\n",
        "for i in range(h):\n",
        "  for j in range(w):\n",
        "    ex = np.random.randint(len(imgs))\n",
        "    axs[i,j].set_title(nombres[labs[ex][0]])\n",
        "    axs[i,j].grid(False)\n",
        "    axs[i,j].set_xticklabels([])\n",
        "    axs[i,j].set_yticklabels([])\n",
        "    axs[i,j].imshow(imgs[ex])"
      ]
    },
    {
      "cell_type": "code",
      "execution_count": null,
      "metadata": {
        "id": "YVpKmJCtyPHU"
      },
      "outputs": [],
      "source": [
        "# los X's los cambiamos a vectores de una dimension\n",
        "# y luego normalizamos\n",
        "X = imgs.reshape(50000,32*32*3)\n",
        "X = X / 255 \n",
        "print(X.shape)\n",
        "\n",
        "# los Y's los cambiamos a vecotres de 10 componentes (one-hot)\n",
        "Y = keras.utils.to_categorical(labs, 10)\n",
        "print(Y.shape)"
      ]
    },
    {
      "cell_type": "code",
      "execution_count": null,
      "metadata": {
        "id": "zZoG7s25yq2K"
      },
      "outputs": [],
      "source": [
        "# cantidad de ejemplos, neuronas de entrada y neuronas de salida\n",
        "\n",
        "M = X.shape[0]\n",
        "N = X.shape[1]\n",
        "C = Y.shape[1]\n",
        "\n",
        "print(M,N,C)"
      ]
    },
    {
      "cell_type": "markdown",
      "metadata": {
        "id": "4lnlmIHD1BpD"
      },
      "source": [
        "##  Ejercicio 3: Entrenando con CIFAR10\n",
        "\n",
        "Ahora usa todo lo que  has aprendido para crear una red y  entrenar con los datos de CIFAR10. Trata de crear una red que alcance al menos unn  55% de acierto en los datos de entrenamiento. Esta parte requiere bastante más código! Al finalizar muestra  una grilla con las predicciones de tu red."
      ]
    },
    {
      "cell_type": "code",
      "execution_count": null,
      "metadata": {
        "id": "BOaB_dIHyxsG"
      },
      "outputs": [],
      "source": [
        "# Crea la red, compílala, entrénala, muestra el acierto por época\n",
        "# y finalmente muestra ejemplos de las predicciones\n",
        "\n"
      ]
    }
  ],
  "metadata": {
    "accelerator": "GPU",
    "colab": {
      "collapsed_sections": [],
      "name": "Lab_2: Entrenando red feed-forward",
      "provenance": []
    },
    "kernelspec": {
      "display_name": "Python 3",
      "name": "python3"
    },
    "language_info": {
      "name": "python",
      "version": "3.11.0"
    }
  },
  "nbformat": 4,
  "nbformat_minor": 0
}
