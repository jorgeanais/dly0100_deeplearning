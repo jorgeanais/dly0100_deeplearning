{
  "nbformat": 4,
  "nbformat_minor": 0,
  "metadata": {
    "colab": {
      "provenance": [],
      "gpuType": "T4"
    },
    "kernelspec": {
      "name": "python3",
      "display_name": "Python 3"
    },
    "language_info": {
      "name": "python"
    },
    "accelerator": "GPU"
  },
  "cells": [
    {
      "cell_type": "markdown",
      "source": [
        "**Evaluación 4**\n",
        "\n",
        "Caso: TweetsClasificacion\n",
        "\n",
        "Notebook basado en el trabajo entregado por los alumnos Michell Miranda/ Denisse Alcántara/ Diego Concha\n",
        "\n",
        "Asignatura: DEEP LEARNING - DLY0100 -002V\n",
        "\n",
        "Docente: Jorge Anais"
      ],
      "metadata": {
        "id": "vl9dIiiSdjqY"
      }
    },
    {
      "cell_type": "code",
      "source": [
        "import numpy as np\n",
        "import pandas as pd\n",
        "import matplotlib.pyplot as plt\n",
        "import tensorflow as tf\n",
        "from sklearn.preprocessing import LabelEncoder\n",
        "from tensorflow.keras.preprocessing.text import Tokenizer\n",
        "from tensorflow.keras.preprocessing.sequence import pad_sequences\n",
        "from tensorflow.keras.models import Sequential\n",
        "from tensorflow.keras.layers import Embedding, Bidirectional, LSTM, Dense\n",
        "from matplotlib.patches import Rectangle, Circle"
      ],
      "metadata": {
        "id": "E_bOYWZeYqgw"
      },
      "execution_count": 1,
      "outputs": []
    },
    {
      "cell_type": "code",
      "source": [
        "# Configurar TensorFlow para utilizar GPU\n",
        "physical_devices = tf.config.list_physical_devices('GPU')\n",
        "tf.config.experimental.set_memory_growth(physical_devices[0], True)"
      ],
      "metadata": {
        "id": "MUbJZB9hdFdu"
      },
      "execution_count": 2,
      "outputs": []
    },
    {
      "cell_type": "code",
      "source": [
        "from google.colab import drive\n",
        "drive.mount('/content/drive')"
      ],
      "metadata": {
        "colab": {
          "base_uri": "https://localhost:8080/"
        },
        "id": "BTnORapv-Jns",
        "outputId": "b73ff3b2-74c8-4371-9ba3-40f14d946d92"
      },
      "execution_count": 3,
      "outputs": [
        {
          "output_type": "stream",
          "name": "stdout",
          "text": [
            "Mounted at /content/drive\n"
          ]
        }
      ]
    },
    {
      "cell_type": "code",
      "source": [
        "data = pd.read_csv(\n",
        "    \"/content/drive/MyDrive/2023-1/DLY0100/notebooks/ev4_jorge/TweetsClasificacion.csv\",\n",
        "    names=['sentimientos', 'comentarios'],\n",
        "    sep=';',\n",
        ")"
      ],
      "metadata": {
        "id": "TqDUhSjz-GwM"
      },
      "execution_count": 4,
      "outputs": []
    },
    {
      "cell_type": "markdown",
      "source": [
        "# Carga de datos"
      ],
      "metadata": {
        "id": "Hnkm1R8yqZ7N"
      }
    },
    {
      "cell_type": "code",
      "source": [
        "# Mapear los sentimientos a valores numéricos\n",
        "label_encoder = LabelEncoder()\n",
        "data['sentimientos'] = label_encoder.fit_transform(data['sentimientos'])"
      ],
      "metadata": {
        "id": "M7VvFUH3aclo"
      },
      "execution_count": 5,
      "outputs": []
    },
    {
      "cell_type": "code",
      "source": [
        "# Preprocesamiento de los datos\n",
        "tokenizer = Tokenizer()\n",
        "tokenizer.fit_on_texts(data['comentarios'])\n",
        "sequences = tokenizer.texts_to_sequences(data['comentarios'])\n",
        "padded_sequences = pad_sequences(sequences)"
      ],
      "metadata": {
        "id": "CWCYp4uwajmQ"
      },
      "execution_count": 6,
      "outputs": []
    },
    {
      "cell_type": "code",
      "source": [
        "# Dividir los datos en entrenamiento y prueba\n",
        "X = padded_sequences\n",
        "y = data['sentimientos']\n",
        "num_classes = len(set(y))\n",
        "y = tf.keras.utils.to_categorical(y, num_classes=num_classes)\n"
      ],
      "metadata": {
        "id": "UMpZZxAHa2_1"
      },
      "execution_count": 7,
      "outputs": []
    },
    {
      "cell_type": "markdown",
      "source": [
        "COMENTARIO PROFESOR"
      ],
      "metadata": {
        "id": "azGI-Dvxm7Rf"
      }
    },
    {
      "cell_type": "code",
      "source": [
        "# train_size = int(0.8 * len(X))\n",
        "# X_train, X_test = X[:train_size], X[train_size:]\n",
        "# y_train, y_test = y[:train_size], y[train_size:]"
      ],
      "metadata": {
        "id": "S_q2018tYShe"
      },
      "execution_count": null,
      "outputs": []
    },
    {
      "cell_type": "code",
      "source": [
        "# Para evitar el desbalance de datos mejor hacer\n",
        "from sklearn.model_selection import train_test_split\n",
        "\n",
        "X_train, X_test, y_train, y_test = train_test_split(\n",
        "    X, y, test_size=0.3, random_state=1\n",
        ")"
      ],
      "metadata": {
        "id": "mtHhuIY5m6NC"
      },
      "execution_count": 8,
      "outputs": []
    },
    {
      "cell_type": "markdown",
      "source": [
        "FIN COMENTARIO PROFESOR"
      ],
      "metadata": {
        "id": "x_iFL9_Um-Yd"
      }
    },
    {
      "cell_type": "markdown",
      "source": [
        "# Red Recurrente LSTM"
      ],
      "metadata": {
        "id": "itcaee7HWcDU"
      }
    },
    {
      "cell_type": "code",
      "source": [
        "model = Sequential()\n",
        "model = Sequential()\n",
        "model.add(\n",
        "    Embedding(\n",
        "        input_dim=len(tokenizer.word_index) + 1,\n",
        "        output_dim=100,\n",
        "        input_length=X.shape[1]\n",
        "    )\n",
        ")\n",
        "model.add(LSTM(128))\n",
        "model.add(Dense(num_classes, activation='softmax'))"
      ],
      "metadata": {
        "id": "cGwbTR_fa6Rc"
      },
      "execution_count": 10,
      "outputs": []
    },
    {
      "cell_type": "code",
      "source": [
        "# Compilar y entrenar el modelo\n",
        "model.compile(loss='categorical_crossentropy',\n",
        "              optimizer='adam',\n",
        "              metrics=['accuracy'])"
      ],
      "metadata": {
        "id": "486136U0YclB"
      },
      "execution_count": null,
      "outputs": []
    },
    {
      "cell_type": "code",
      "source": [
        "model.summary()"
      ],
      "metadata": {
        "colab": {
          "base_uri": "https://localhost:8080/"
        },
        "id": "g2J28QAYYfKV",
        "outputId": "be317025-88a0-43a9-adf3-f5c860be619f"
      },
      "execution_count": 13,
      "outputs": [
        {
          "output_type": "stream",
          "name": "stdout",
          "text": [
            "Model: \"sequential_2\"\n",
            "_________________________________________________________________\n",
            " Layer (type)                Output Shape              Param #   \n",
            "=================================================================\n",
            " embedding (Embedding)       (None, 52, 100)           40291300  \n",
            "                                                                 \n",
            " lstm (LSTM)                 (None, 128)               117248    \n",
            "                                                                 \n",
            " dense (Dense)               (None, 2)                 258       \n",
            "                                                                 \n",
            "=================================================================\n",
            "Total params: 40,408,806\n",
            "Trainable params: 40,408,806\n",
            "Non-trainable params: 0\n",
            "_________________________________________________________________\n"
          ]
        }
      ]
    },
    {
      "cell_type": "code",
      "source": [
        "history = model.fit(\n",
        "    X_train, y_train,\n",
        "    epochs=10,\n",
        "    batch_size=128,\n",
        "    validation_data=(X_test, y_test)\n",
        ")"
      ],
      "metadata": {
        "colab": {
          "base_uri": "https://localhost:8080/"
        },
        "id": "xSDjq6cMWmxH",
        "outputId": "6ecf49b3-d6de-42e2-8568-07dda2bec8a8"
      },
      "execution_count": 11,
      "outputs": [
        {
          "output_type": "stream",
          "name": "stdout",
          "text": [
            "Epoch 1/10\n",
            "8750/8750 [==============================] - 228s 25ms/step - loss: 0.4043 - accuracy: 0.8149 - val_loss: 0.3791 - val_accuracy: 0.8286\n",
            "Epoch 2/10\n",
            "8750/8750 [==============================] - 182s 21ms/step - loss: 0.3230 - accuracy: 0.8590 - val_loss: 0.3815 - val_accuracy: 0.8292\n",
            "Epoch 3/10\n",
            "8750/8750 [==============================] - 180s 21ms/step - loss: 0.2634 - accuracy: 0.8882 - val_loss: 0.4139 - val_accuracy: 0.8208\n",
            "Epoch 4/10\n",
            "8750/8750 [==============================] - 165s 19ms/step - loss: 0.2146 - accuracy: 0.9103 - val_loss: 0.4577 - val_accuracy: 0.8142\n",
            "Epoch 5/10\n",
            "8750/8750 [==============================] - 156s 18ms/step - loss: 0.1805 - accuracy: 0.9248 - val_loss: 0.5265 - val_accuracy: 0.8088\n",
            "Epoch 6/10\n",
            "8750/8750 [==============================] - 166s 19ms/step - loss: 0.1556 - accuracy: 0.9356 - val_loss: 0.6079 - val_accuracy: 0.8014\n",
            "Epoch 7/10\n",
            "8750/8750 [==============================] - 166s 19ms/step - loss: 0.1358 - accuracy: 0.9443 - val_loss: 0.6636 - val_accuracy: 0.8000\n",
            "Epoch 8/10\n",
            "8750/8750 [==============================] - 157s 18ms/step - loss: 0.1194 - accuracy: 0.9512 - val_loss: 0.7420 - val_accuracy: 0.7945\n",
            "Epoch 9/10\n",
            "8750/8750 [==============================] - 167s 19ms/step - loss: 0.1057 - accuracy: 0.9573 - val_loss: 0.8032 - val_accuracy: 0.7925\n",
            "Epoch 10/10\n",
            "8750/8750 [==============================] - 165s 19ms/step - loss: 0.0945 - accuracy: 0.9622 - val_loss: 0.8478 - val_accuracy: 0.7876\n"
          ]
        }
      ]
    },
    {
      "cell_type": "code",
      "source": [
        "plt.subplot(211)\n",
        "plt.title('Precision')\n",
        "plt.plot(history.history['accuracy'], label='Entrenamiento')\n",
        "plt.plot(history.history['val_accuracy'], label='Validacion')\n",
        "plt.legend(loc='upper left')\n",
        "\n",
        "plt.subplot(212)\n",
        "plt.title('Perdida')\n",
        "plt.plot(history.history['loss'], label='Entrenamiento')\n",
        "plt.plot(history.history['val_loss'], label='Validacion')\n",
        "plt.legend(loc='upper right')\n",
        "\n",
        "plt.tight_layout()\n",
        "plt.show()"
      ],
      "metadata": {
        "colab": {
          "base_uri": "https://localhost:8080/",
          "height": 486
        },
        "id": "tmiFHqijYuu1",
        "outputId": "7554d668-bdb6-40f0-9d40-14141c6350f5"
      },
      "execution_count": 12,
      "outputs": [
        {
          "output_type": "display_data",
          "data": {
            "text/plain": [
              "<Figure size 640x480 with 2 Axes>"
            ],
            "image/png": "[encoded data removed]"
          },
          "metadata": {}
        }
      ]
    },
    {
      "cell_type": "markdown",
      "source": [
        "## Red recurrente LSTM bidireccional"
      ],
      "metadata": {
        "id": "L5GN6VFiYw3A"
      }
    },
    {
      "cell_type": "code",
      "source": [
        "# RNN LSTM bidireccional\n",
        "model_bi = Sequential()\n",
        "model_bi.add(\n",
        "    Embedding(\n",
        "        input_dim=len(tokenizer.word_index) + 1,\\\n",
        "        output_dim=100,\n",
        "        input_length=X.shape[1]\n",
        "    )\n",
        ")\n",
        "model_bi.add(Bidirectional(LSTM(128)))\n",
        "model_bi.add(Dense(num_classes, activation='softmax'))"
      ],
      "metadata": {
        "id": "f6dGdvVmYz_9"
      },
      "execution_count": null,
      "outputs": []
    },
    {
      "cell_type": "code",
      "source": [
        "# Compilar el modelo\n",
        "model_bi.compile(\n",
        "    loss='categorical_crossentropy',\n",
        "    optimizer='adam',\n",
        "    metrics=['accuracy']\n",
        ")"
      ],
      "metadata": {
        "id": "8NOtSbbNZHx9"
      },
      "execution_count": null,
      "outputs": []
    },
    {
      "cell_type": "code",
      "source": [
        "model_bi.summary()"
      ],
      "metadata": {
        "id": "VA_Cc4nQZQ5X"
      },
      "execution_count": null,
      "outputs": []
    },
    {
      "cell_type": "code",
      "source": [
        "history_bi = model_bi.fit(\n",
        "    X_train, y_train,\n",
        "    epochs=10,\n",
        "    batch_size=128,\n",
        "    validation_data=(X_test, y_test)\n",
        ")"
      ],
      "metadata": {
        "id": "BI5196-pZRuI"
      },
      "execution_count": null,
      "outputs": []
    },
    {
      "cell_type": "code",
      "source": [
        "plt.subplot(211)\n",
        "plt.title('Precision')\n",
        "plt.plot(history_bi.history['accuracy'], label='Entrenamiento')\n",
        "plt.plot(history_bi.history['val_accuracy'], label='Validacion')\n",
        "plt.legend(loc='upper left')\n",
        "\n",
        "plt.subplot(212)\n",
        "plt.title('Perdida')\n",
        "plt.plot(history_bi.history['loss'], label='Entrenamiento')\n",
        "plt.plot(history_bi.history['val_loss'], label='Validacion')\n",
        "plt.legend(loc='upper right')\n",
        "\n",
        "plt.tight_layout()\n",
        "plt.show()"
      ],
      "metadata": {
        "id": "47YZn2eHZleB"
      },
      "execution_count": null,
      "outputs": []
    }
  ]
}