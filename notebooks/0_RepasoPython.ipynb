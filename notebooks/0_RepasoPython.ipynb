{
  "nbformat": 4,
  "nbformat_minor": 0,
  "metadata": {
    "colab": {
      "provenance": [],
      "toc_visible": true
    },
    "kernelspec": {
      "name": "python3",
      "display_name": "Python 3"
    },
    "language_info": {
      "name": "python"
    }
  },
  "cells": [
    {
      "cell_type": "markdown",
      "source": [
        "# Brevísimo repaso de Python y la librería numérica Numpy.\n",
        "\n",
        "> Profesor Jorge Anais  \n",
        "> DLY0100 Deep Learning  \n",
        "\n",
        "El objetivo de este notebook es conocer los Jupyter Notebooks, y repasar los principales conceptos de Python y la librería numérica Numpy. Estas herramientas serán fundamentales a lo largo del este curso de Deep Learning"
      ],
      "metadata": {
        "id": "GQlAbNbn_g5s"
      }
    },
    {
      "cell_type": "markdown",
      "source": [
        "# Python\n",
        "\n",
        "Python es un lenguaje de programción de alto nivel, moderno y que es muy usado en diferentes disciplinas. En los últimos años se ha hecho muy popular también en ambientes científicos debido a que es muy fácil de aprender.\n",
        "\n",
        "Python fue creado por [Guido van Rossum](https://es.wikipedia.org/wiki/Guido_van_Rossum) en los años noventa, y su desarrollo a continuado hasta hoy en día.\n",
        "\n",
        "Si quieres saber más de Python, puedes revisar su documentación en su [sitio oficial](https://www.python.org/)."
      ],
      "metadata": {
        "id": "DdzwhGgof2lD"
      }
    },
    {
      "cell_type": "markdown",
      "source": [
        "## Jupyter notebooks\n",
        "\n",
        "Jupyter es una interfaz de comandos para computación interactiva que puede utilizarse con diversos lenguajes de programación (Julia, R, Python, entre otros). Su versatilidad para interactuar con el contenido lo hacen ideal para explorar conjuntos de datos complejos, y aplicar metodologías de Ciencias de Datos."
      ],
      "metadata": {
        "id": "xvIFLHZDAt_6"
      }
    },
    {
      "cell_type": "markdown",
      "source": [
        "## Cómo utilizar los Notebooks?\n",
        "\n",
        "Cada notebook consiste de celdas de trabajo, las cuales tienen dos modos:\n",
        "1. Código\n",
        "2. Markdown (textual)\n",
        "\n",
        "Puedes hacer lucir muy bien tú notebook utilizando la sintáxis de Markdown. Si quieres saber más puedes revisar [aquí](https://www.markdownguide.org/).\n",
        "\n",
        "A continuación de dejo algunos ejemplo:"
      ],
      "metadata": {
        "id": "gIcDh3zBCHZE"
      }
    },
    {
      "cell_type": "markdown",
      "source": [
        "# Título principal (Título 1)\n",
        "## Subtítulo (Título 2)\n",
        "### Título de nivel 3\n",
        "#### Y así sucesivamente"
      ],
      "metadata": {
        "id": "y7h17Z_WDaFV"
      }
    },
    {
      "cell_type": "markdown",
      "source": [
        "Puedes usar \n",
        "\n",
        "*letras cursivas*\to\n",
        "\n",
        "**letras en negritas**\n",
        "\n",
        "Puedes definir listas con números:\n",
        "\n",
        "1. Item 1\n",
        "2. Item 2\n",
        "\n",
        "o con bullets\n",
        "\n",
        "* Item \n",
        "* Another item\n",
        "\n",
        "Podemos introducir tablas fácilmente. \n",
        "\n",
        "| Esta | es   |\n",
        "|------|------|\n",
        "| una  | tabla|"
      ],
      "metadata": {
        "id": "qmTx8gnmDgym"
      }
    },
    {
      "cell_type": "markdown",
      "source": [
        "## Salidas muy largas\n",
        "\n",
        "Puedes ocultar la salida de las celdas en el menu Editar. Para salidas muy grandes, Jupyter incluirá un *scroll* automáticamente."
      ],
      "metadata": {
        "id": "twi4OCq_DnBK"
      }
    },
    {
      "cell_type": "code",
      "source": [
        "for i in range(500):\n",
        "    print(500 - i)"
      ],
      "metadata": {
        "colab": {
          "base_uri": "https://localhost:8080/"
        },
        "id": "WWmA-zE8D8A6",
        "outputId": "bf24e4c6-f933-4b6e-c157-08f3e3e80638"
      },
      "execution_count": 1,
      "outputs": [
        {
          "output_type": "stream",
          "name": "stdout",
          "text": [
            "500\n",
            "499\n",
            "498\n",
            "497\n",
            "496\n",
            "495\n",
            "494\n",
            "493\n",
            "492\n",
            "491\n",
            "490\n",
            "489\n",
            "488\n",
            "487\n",
            "486\n",
            "485\n",
            "484\n",
            "483\n",
            "482\n",
            "481\n",
            "480\n",
            "479\n",
            "478\n",
            "477\n",
            "476\n",
            "475\n",
            "474\n",
            "473\n",
            "472\n",
            "471\n",
            "470\n",
            "469\n",
            "468\n",
            "467\n",
            "466\n",
            "465\n",
            "464\n",
            "463\n",
            "462\n",
            "461\n",
            "460\n",
            "459\n",
            "458\n",
            "457\n",
            "456\n",
            "455\n",
            "454\n",
            "453\n",
            "452\n",
            "451\n",
            "450\n",
            "449\n",
            "448\n",
            "447\n",
            "446\n",
            "445\n",
            "444\n",
            "443\n",
            "442\n",
            "441\n",
            "440\n",
            "439\n",
            "438\n",
            "437\n",
            "436\n",
            "435\n",
            "434\n",
            "433\n",
            "432\n",
            "431\n",
            "430\n",
            "429\n",
            "428\n",
            "427\n",
            "426\n",
            "425\n",
            "424\n",
            "423\n",
            "422\n",
            "421\n",
            "420\n",
            "419\n",
            "418\n",
            "417\n",
            "416\n",
            "415\n",
            "414\n",
            "413\n",
            "412\n",
            "411\n",
            "410\n",
            "409\n",
            "408\n",
            "407\n",
            "406\n",
            "405\n",
            "404\n",
            "403\n",
            "402\n",
            "401\n",
            "400\n",
            "399\n",
            "398\n",
            "397\n",
            "396\n",
            "395\n",
            "394\n",
            "393\n",
            "392\n",
            "391\n",
            "390\n",
            "389\n",
            "388\n",
            "387\n",
            "386\n",
            "385\n",
            "384\n",
            "383\n",
            "382\n",
            "381\n",
            "380\n",
            "379\n",
            "378\n",
            "377\n",
            "376\n",
            "375\n",
            "374\n",
            "373\n",
            "372\n",
            "371\n",
            "370\n",
            "369\n",
            "368\n",
            "367\n",
            "366\n",
            "365\n",
            "364\n",
            "363\n",
            "362\n",
            "361\n",
            "360\n",
            "359\n",
            "358\n",
            "357\n",
            "356\n",
            "355\n",
            "354\n",
            "353\n",
            "352\n",
            "351\n",
            "350\n",
            "349\n",
            "348\n",
            "347\n",
            "346\n",
            "345\n",
            "344\n",
            "343\n",
            "342\n",
            "341\n",
            "340\n",
            "339\n",
            "338\n",
            "337\n",
            "336\n",
            "335\n",
            "334\n",
            "333\n",
            "332\n",
            "331\n",
            "330\n",
            "329\n",
            "328\n",
            "327\n",
            "326\n",
            "325\n",
            "324\n",
            "323\n",
            "322\n",
            "321\n",
            "320\n",
            "319\n",
            "318\n",
            "317\n",
            "316\n",
            "315\n",
            "314\n",
            "313\n",
            "312\n",
            "311\n",
            "310\n",
            "309\n",
            "308\n",
            "307\n",
            "306\n",
            "305\n",
            "304\n",
            "303\n",
            "302\n",
            "301\n",
            "300\n",
            "299\n",
            "298\n",
            "297\n",
            "296\n",
            "295\n",
            "294\n",
            "293\n",
            "292\n",
            "291\n",
            "290\n",
            "289\n",
            "288\n",
            "287\n",
            "286\n",
            "285\n",
            "284\n",
            "283\n",
            "282\n",
            "281\n",
            "280\n",
            "279\n",
            "278\n",
            "277\n",
            "276\n",
            "275\n",
            "274\n",
            "273\n",
            "272\n",
            "271\n",
            "270\n",
            "269\n",
            "268\n",
            "267\n",
            "266\n",
            "265\n",
            "264\n",
            "263\n",
            "262\n",
            "261\n",
            "260\n",
            "259\n",
            "258\n",
            "257\n",
            "256\n",
            "255\n",
            "254\n",
            "253\n",
            "252\n",
            "251\n",
            "250\n",
            "249\n",
            "248\n",
            "247\n",
            "246\n",
            "245\n",
            "244\n",
            "243\n",
            "242\n",
            "241\n",
            "240\n",
            "239\n",
            "238\n",
            "237\n",
            "236\n",
            "235\n",
            "234\n",
            "233\n",
            "232\n",
            "231\n",
            "230\n",
            "229\n",
            "228\n",
            "227\n",
            "226\n",
            "225\n",
            "224\n",
            "223\n",
            "222\n",
            "221\n",
            "220\n",
            "219\n",
            "218\n",
            "217\n",
            "216\n",
            "215\n",
            "214\n",
            "213\n",
            "212\n",
            "211\n",
            "210\n",
            "209\n",
            "208\n",
            "207\n",
            "206\n",
            "205\n",
            "204\n",
            "203\n",
            "202\n",
            "201\n",
            "200\n",
            "199\n",
            "198\n",
            "197\n",
            "196\n",
            "195\n",
            "194\n",
            "193\n",
            "192\n",
            "191\n",
            "190\n",
            "189\n",
            "188\n",
            "187\n",
            "186\n",
            "185\n",
            "184\n",
            "183\n",
            "182\n",
            "181\n",
            "180\n",
            "179\n",
            "178\n",
            "177\n",
            "176\n",
            "175\n",
            "174\n",
            "173\n",
            "172\n",
            "171\n",
            "170\n",
            "169\n",
            "168\n",
            "167\n",
            "166\n",
            "165\n",
            "164\n",
            "163\n",
            "162\n",
            "161\n",
            "160\n",
            "159\n",
            "158\n",
            "157\n",
            "156\n",
            "155\n",
            "154\n",
            "153\n",
            "152\n",
            "151\n",
            "150\n",
            "149\n",
            "148\n",
            "147\n",
            "146\n",
            "145\n",
            "144\n",
            "143\n",
            "142\n",
            "141\n",
            "140\n",
            "139\n",
            "138\n",
            "137\n",
            "136\n",
            "135\n",
            "134\n",
            "133\n",
            "132\n",
            "131\n",
            "130\n",
            "129\n",
            "128\n",
            "127\n",
            "126\n",
            "125\n",
            "124\n",
            "123\n",
            "122\n",
            "121\n",
            "120\n",
            "119\n",
            "118\n",
            "117\n",
            "116\n",
            "115\n",
            "114\n",
            "113\n",
            "112\n",
            "111\n",
            "110\n",
            "109\n",
            "108\n",
            "107\n",
            "106\n",
            "105\n",
            "104\n",
            "103\n",
            "102\n",
            "101\n",
            "100\n",
            "99\n",
            "98\n",
            "97\n",
            "96\n",
            "95\n",
            "94\n",
            "93\n",
            "92\n",
            "91\n",
            "90\n",
            "89\n",
            "88\n",
            "87\n",
            "86\n",
            "85\n",
            "84\n",
            "83\n",
            "82\n",
            "81\n",
            "80\n",
            "79\n",
            "78\n",
            "77\n",
            "76\n",
            "75\n",
            "74\n",
            "73\n",
            "72\n",
            "71\n",
            "70\n",
            "69\n",
            "68\n",
            "67\n",
            "66\n",
            "65\n",
            "64\n",
            "63\n",
            "62\n",
            "61\n",
            "60\n",
            "59\n",
            "58\n",
            "57\n",
            "56\n",
            "55\n",
            "54\n",
            "53\n",
            "52\n",
            "51\n",
            "50\n",
            "49\n",
            "48\n",
            "47\n",
            "46\n",
            "45\n",
            "44\n",
            "43\n",
            "42\n",
            "41\n",
            "40\n",
            "39\n",
            "38\n",
            "37\n",
            "36\n",
            "35\n",
            "34\n",
            "33\n",
            "32\n",
            "31\n",
            "30\n",
            "29\n",
            "28\n",
            "27\n",
            "26\n",
            "25\n",
            "24\n",
            "23\n",
            "22\n",
            "21\n",
            "20\n",
            "19\n",
            "18\n",
            "17\n",
            "16\n",
            "15\n",
            "14\n",
            "13\n",
            "12\n",
            "11\n",
            "10\n",
            "9\n",
            "8\n",
            "7\n",
            "6\n",
            "5\n",
            "4\n",
            "3\n",
            "2\n",
            "1\n"
          ]
        }
      ]
    },
    {
      "cell_type": "markdown",
      "source": [
        "# Repaso de Python\n",
        "\n",
        "## Variables\n",
        "\n",
        "Un nombre que se usa para denotar algo o un valor se llama variable. En Python, las variables se pueden declarar y se le pueden asignar valores de la siguiente manera,\n",
        "\n",
        "\n"
      ],
      "metadata": {
        "id": "BSo-W5PvF1Qu"
      }
    },
    {
      "cell_type": "code",
      "source": [
        "x = 2\n",
        "y = 5\n",
        "xy = 'Hey'"
      ],
      "metadata": {
        "id": "LEInZHmRF5sE"
      },
      "execution_count": 2,
      "outputs": []
    },
    {
      "cell_type": "code",
      "source": [
        "# Aquí usamos nuestra primera función: print()\n",
        "print(x+y, xy)"
      ],
      "metadata": {
        "colab": {
          "base_uri": "https://localhost:8080/"
        },
        "id": "L1-d9FpnGYoJ",
        "outputId": "37c39f58-9b2e-4b61-b9d4-c420b8efb494"
      },
      "execution_count": 3,
      "outputs": [
        {
          "output_type": "stream",
          "name": "stdout",
          "text": [
            "7 Hey\n"
          ]
        }
      ]
    },
    {
      "cell_type": "markdown",
      "source": [
        "## Operadores aritméticos\n",
        "\n",
        "| Símbolo | Tarea ejecutada |\n",
        "|:---:|---:|\n",
        "| +  | Suma |\n",
        "| -  | Resta |\n",
        "| /  | División |\n",
        "| %  | Módulo |\n",
        "| *  | Multiplicación |\n",
        "| //  | Función de parte entera - Piso |\n",
        "| **  | Potencia |\n",
        "\n",
        "# Operadores relacionales\n",
        "\n",
        "|   Símbolo   | Tarea ejecutada |\n",
        "|:-----:|---|\n",
        "| == | igual |\n",
        "| !=  | no igual |\n",
        "| < | menor que |\n",
        "| > | mayor que |\n",
        "| <=  | menor o igual queo |\n",
        "| >=  | mayor o igual que |\n",
        "\n"
      ],
      "metadata": {
        "id": "HQxfw-6MGpPj"
      }
    },
    {
      "cell_type": "markdown",
      "source": [
        "## Algunas funciones interesantes de Python\n",
        "\n"
      ],
      "metadata": {
        "id": "0-bYojr_G64w"
      }
    },
    {
      "cell_type": "markdown",
      "source": [
        "`type()` esta función es probablemente las más usada en Python; ella nos entrega en tipo de objeto que estamos manejando."
      ],
      "metadata": {
        "id": "A2JNDyiyHK1L"
      }
    },
    {
      "cell_type": "code",
      "source": [
        "b = 10"
      ],
      "metadata": {
        "id": "ENTnz3ZQHSze"
      },
      "execution_count": 4,
      "outputs": []
    },
    {
      "cell_type": "code",
      "source": [
        "type(b)"
      ],
      "metadata": {
        "id": "jHwhUHR9HV2A",
        "colab": {
          "base_uri": "https://localhost:8080/"
        },
        "outputId": "f6e9d6cb-db56-4d9c-8308-34f9bbdcc045"
      },
      "execution_count": 5,
      "outputs": [
        {
          "output_type": "execute_result",
          "data": {
            "text/plain": [
              "int"
            ]
          },
          "metadata": {},
          "execution_count": 5
        }
      ]
    },
    {
      "cell_type": "code",
      "source": [
        "type(\"Hola mundo\")"
      ],
      "metadata": {
        "id": "zfohGnifHWIF",
        "colab": {
          "base_uri": "https://localhost:8080/"
        },
        "outputId": "e7b4c7ef-315d-4901-c4ba-89bfd4f7a212"
      },
      "execution_count": 6,
      "outputs": [
        {
          "output_type": "execute_result",
          "data": {
            "text/plain": [
              "str"
            ]
          },
          "metadata": {},
          "execution_count": 6
        }
      ]
    },
    {
      "cell_type": "code",
      "source": [
        "c = 3\n",
        "d = b / c"
      ],
      "metadata": {
        "id": "GygcOGzJHWKE"
      },
      "execution_count": 7,
      "outputs": []
    },
    {
      "cell_type": "markdown",
      "source": [
        "`range()` esta función crea una lista de elementos del tipo range.\n"
      ],
      "metadata": {
        "id": "1CpuzXMRHSH3"
      }
    },
    {
      "cell_type": "code",
      "source": [
        "range(7)"
      ],
      "metadata": {
        "id": "rG27TJgHHhZo",
        "colab": {
          "base_uri": "https://localhost:8080/"
        },
        "outputId": "b5c3b739-4dc5-4781-d769-e6eaefa35508"
      },
      "execution_count": 8,
      "outputs": [
        {
          "output_type": "execute_result",
          "data": {
            "text/plain": [
              "range(0, 7)"
            ]
          },
          "metadata": {},
          "execution_count": 8
        }
      ]
    },
    {
      "cell_type": "code",
      "source": [
        "type(range(7))"
      ],
      "metadata": {
        "id": "BuVGKJwrHhb7",
        "colab": {
          "base_uri": "https://localhost:8080/"
        },
        "outputId": "6134dddf-6e68-49e6-d712-3dbb21a0763e"
      },
      "execution_count": 9,
      "outputs": [
        {
          "output_type": "execute_result",
          "data": {
            "text/plain": [
              "range"
            ]
          },
          "metadata": {},
          "execution_count": 9
        }
      ]
    },
    {
      "cell_type": "code",
      "source": [
        "len(range(7))"
      ],
      "metadata": {
        "id": "tURSXHTaHheK",
        "colab": {
          "base_uri": "https://localhost:8080/"
        },
        "outputId": "078d4bfa-77b4-4986-e1c7-c44800d1de07"
      },
      "execution_count": 10,
      "outputs": [
        {
          "output_type": "execute_result",
          "data": {
            "text/plain": [
              "7"
            ]
          },
          "metadata": {},
          "execution_count": 10
        }
      ]
    },
    {
      "cell_type": "markdown",
      "source": [
        "`help()` esta función nos entrega una descripción detallada de la function pasada como argumento"
      ],
      "metadata": {
        "id": "ses6W1dsHvmD"
      }
    },
    {
      "cell_type": "code",
      "source": [
        "help(range)"
      ],
      "metadata": {
        "colab": {
          "base_uri": "https://localhost:8080/"
        },
        "id": "0qw-1wm-H1YF",
        "outputId": "7611455d-6347-44bc-8beb-14891652f562"
      },
      "execution_count": 11,
      "outputs": [
        {
          "output_type": "stream",
          "name": "stdout",
          "text": [
            "Help on class range in module builtins:\n",
            "\n",
            "class range(object)\n",
            " |  range(stop) -> range object\n",
            " |  range(start, stop[, step]) -> range object\n",
            " |  \n",
            " |  Return an object that produces a sequence of integers from start (inclusive)\n",
            " |  to stop (exclusive) by step.  range(i, j) produces i, i+1, i+2, ..., j-1.\n",
            " |  start defaults to 0, and stop is omitted!  range(4) produces 0, 1, 2, 3.\n",
            " |  These are exactly the valid indices for a list of 4 elements.\n",
            " |  When step is given, it specifies the increment (or decrement).\n",
            " |  \n",
            " |  Methods defined here:\n",
            " |  \n",
            " |  __bool__(self, /)\n",
            " |      True if self else False\n",
            " |  \n",
            " |  __contains__(self, key, /)\n",
            " |      Return key in self.\n",
            " |  \n",
            " |  __eq__(self, value, /)\n",
            " |      Return self==value.\n",
            " |  \n",
            " |  __ge__(self, value, /)\n",
            " |      Return self>=value.\n",
            " |  \n",
            " |  __getattribute__(self, name, /)\n",
            " |      Return getattr(self, name).\n",
            " |  \n",
            " |  __getitem__(self, key, /)\n",
            " |      Return self[key].\n",
            " |  \n",
            " |  __gt__(self, value, /)\n",
            " |      Return self>value.\n",
            " |  \n",
            " |  __hash__(self, /)\n",
            " |      Return hash(self).\n",
            " |  \n",
            " |  __iter__(self, /)\n",
            " |      Implement iter(self).\n",
            " |  \n",
            " |  __le__(self, value, /)\n",
            " |      Return self<=value.\n",
            " |  \n",
            " |  __len__(self, /)\n",
            " |      Return len(self).\n",
            " |  \n",
            " |  __lt__(self, value, /)\n",
            " |      Return self<value.\n",
            " |  \n",
            " |  __ne__(self, value, /)\n",
            " |      Return self!=value.\n",
            " |  \n",
            " |  __reduce__(...)\n",
            " |      Helper for pickle.\n",
            " |  \n",
            " |  __repr__(self, /)\n",
            " |      Return repr(self).\n",
            " |  \n",
            " |  __reversed__(...)\n",
            " |      Return a reverse iterator.\n",
            " |  \n",
            " |  count(...)\n",
            " |      rangeobject.count(value) -> integer -- return number of occurrences of value\n",
            " |  \n",
            " |  index(...)\n",
            " |      rangeobject.index(value) -> integer -- return index of value.\n",
            " |      Raise ValueError if the value is not present.\n",
            " |  \n",
            " |  ----------------------------------------------------------------------\n",
            " |  Static methods defined here:\n",
            " |  \n",
            " |  __new__(*args, **kwargs) from builtins.type\n",
            " |      Create and return a new object.  See help(type) for accurate signature.\n",
            " |  \n",
            " |  ----------------------------------------------------------------------\n",
            " |  Data descriptors defined here:\n",
            " |  \n",
            " |  start\n",
            " |  \n",
            " |  step\n",
            " |  \n",
            " |  stop\n",
            "\n"
          ]
        }
      ]
    },
    {
      "cell_type": "code",
      "source": [
        "range?"
      ],
      "metadata": {
        "id": "Mb5h4R6DH28l"
      },
      "execution_count": 12,
      "outputs": []
    },
    {
      "cell_type": "markdown",
      "source": [
        "## Guía de estilos\n",
        "\n",
        "Python propone mejoras al lenguaje, mediante el *Python Enhancement program* (PEP). Cada regla propuesta llevan una codificación: **PEP-numero_correlativo**\n",
        "\n",
        "Uno muy famoso es la guía de estilo para el código Python [PEP-8](https://peps.python.org/pep-0008/). \n",
        "\n",
        "## <font color='teal'>Tarea:</font>\n",
        "Revisa el documento y escribe utilizando Markdown 1 estilo que te llame la atención."
      ],
      "metadata": {
        "id": "nDbqoPxQH6dX"
      }
    },
    {
      "cell_type": "markdown",
      "source": [
        "Escribe aquí..."
      ],
      "metadata": {
        "id": "grxtTA2SJwAZ"
      }
    },
    {
      "cell_type": "markdown",
      "source": [
        "<font color='teal'>Fin tarea</font>\n"
      ],
      "metadata": {
        "id": "v3jkFnCUJzUO"
      }
    },
    {
      "cell_type": "markdown",
      "source": [
        "## Imprimiendo en pantalla\n",
        "\n",
        "En Python, las comillas simples, dobles y triples se utilizan para denotar una cadena o *string*."
      ],
      "metadata": {
        "id": "SF_yPLnWJkaz"
      }
    },
    {
      "cell_type": "code",
      "source": [
        "print(\"Hola Mundo\")"
      ],
      "metadata": {
        "colab": {
          "base_uri": "https://localhost:8080/"
        },
        "id": "i7C_VHjAKVZE",
        "outputId": "17b1238c-f46a-4817-b7ee-9c2fbadea566"
      },
      "execution_count": 13,
      "outputs": [
        {
          "output_type": "stream",
          "name": "stdout",
          "text": [
            "Hola Mundo\n"
          ]
        }
      ]
    },
    {
      "cell_type": "code",
      "source": [
        "print('Hola Mundo')"
      ],
      "metadata": {
        "colab": {
          "base_uri": "https://localhost:8080/"
        },
        "id": "3AwkCF7OKdN1",
        "outputId": "347db835-8e25-475d-ae8e-4a418e02714b"
      },
      "execution_count": 14,
      "outputs": [
        {
          "output_type": "stream",
          "name": "stdout",
          "text": [
            "Hola Mundo\n"
          ]
        }
      ]
    },
    {
      "cell_type": "markdown",
      "source": [
        "## Formateo de strings (f-Strings)"
      ],
      "metadata": {
        "id": "lY-o7_6nKthL"
      }
    },
    {
      "cell_type": "code",
      "source": [
        "nombre = \"Juan\"\n",
        "edad = 22\n",
        "f\"Hola, {nombre}. Tu tienes {edad} años.\""
      ],
      "metadata": {
        "colab": {
          "base_uri": "https://localhost:8080/",
          "height": 36
        },
        "id": "CKIEHPAjKmvO",
        "outputId": "7471ab21-9847-4789-a165-b4d86499c110"
      },
      "execution_count": 15,
      "outputs": [
        {
          "output_type": "execute_result",
          "data": {
            "text/plain": [
              "'Hola, Juan. Tu tienes 22 años.'"
            ],
            "application/vnd.google.colaboratory.intrinsic+json": {
              "type": "string"
            }
          },
          "metadata": {},
          "execution_count": 15
        }
      ]
    },
    {
      "cell_type": "markdown",
      "source": [
        "Los f-strings pueden evaluar operaciones en su interior:"
      ],
      "metadata": {
        "id": "UlUKGcffLCl-"
      }
    },
    {
      "cell_type": "code",
      "source": [
        "f'{2} x {8} = {2 * 8}'"
      ],
      "metadata": {
        "colab": {
          "base_uri": "https://localhost:8080/",
          "height": 36
        },
        "id": "mCLZ5voxK7yW",
        "outputId": "1bfd1cb3-21f0-41a5-a17a-84691ebed049"
      },
      "execution_count": 16,
      "outputs": [
        {
          "output_type": "execute_result",
          "data": {
            "text/plain": [
              "'2 x 8 = 16'"
            ],
            "application/vnd.google.colaboratory.intrinsic+json": {
              "type": "string"
            }
          },
          "metadata": {},
          "execution_count": 16
        }
      ]
    },
    {
      "cell_type": "code",
      "source": [
        "# Notaciones numéricas\n",
        "val = 12_345_678\n",
        "print(f\"Actual Number = {val:d}\")\n",
        "print(f\"Float of the number = {val:f}\")\n",
        "print(f\"Octal equivalent of the number = {val:o}\")\n",
        "print(f\"Hexadecimal equivalent of the number = {val:x}\")\n",
        "print(f\"Exponential equivalent of the number = {val:e}\")"
      ],
      "metadata": {
        "colab": {
          "base_uri": "https://localhost:8080/"
        },
        "id": "c1nEXwGgLLWP",
        "outputId": "db78f9af-ca57-4aba-fc90-5c09ceec42aa"
      },
      "execution_count": 17,
      "outputs": [
        {
          "output_type": "stream",
          "name": "stdout",
          "text": [
            "Actual Number = 12345678\n",
            "Float of the number = 12345678.000000\n",
            "Octal equivalent of the number = 57060516\n",
            "Hexadecimal equivalent of the number = bc614e\n",
            "Exponential equivalent of the number = 1.234568e+07\n"
          ]
        }
      ]
    },
    {
      "cell_type": "code",
      "source": [
        "# Cantidad de números a mostrar\n",
        "numero_pi = 3.141_592_653\n",
        "print(f\"{numero_pi:.2f}\")\n",
        "print(f\"{numero_pi:.5f}\")\n",
        "print(f\"{numero_pi:9.5f}\")\n",
        "print(f\"{numero_pi:09.5f}\")"
      ],
      "metadata": {
        "colab": {
          "base_uri": "https://localhost:8080/"
        },
        "id": "TxGpaLllMRz2",
        "outputId": "20fdba84-90f0-4716-e74f-cc495d14fff1"
      },
      "execution_count": 18,
      "outputs": [
        {
          "output_type": "stream",
          "name": "stdout",
          "text": [
            "3.14\n",
            "3.14159\n",
            "  3.14159\n",
            "003.14159\n"
          ]
        }
      ]
    },
    {
      "cell_type": "code",
      "source": [],
      "metadata": {
        "id": "Xz1CdUyvi4lW"
      },
      "execution_count": 18,
      "outputs": []
    },
    {
      "cell_type": "markdown",
      "source": [
        "Para más información revisa el [PEP-0498](https://peps.python.org/pep-0498/) o también puedes ver este video de *arjan codes* en [YT](https://www.youtube.com/watch?v=Mfmr_Puhtew&t=842s)."
      ],
      "metadata": {
        "id": "U8PfQMxdLbsx"
      }
    },
    {
      "cell_type": "markdown",
      "source": [
        "## Estructuras de datos\n",
        "\n",
        "Las estructuras de datos nos permite almacenar datos. Los datos pueden ser de cualquier tipo (strings, floats, boolenas, otras estructuras de datos, ...). Python tiene 4 tipos principales de estructuras de datos.\n",
        "\n",
        "### Listas\n",
        "Las listas son **mutables** (el contenido puede cambiar), y **ordenadas** (se puede acceder a través de un índice).\n",
        "\n",
        "```python\n",
        "my_list = [1, 2.0, \"z\"]\n",
        "```\n",
        "\n",
        "### Tuplas\n",
        "\n",
        "Las tuplas son **inmutables**, y **secuencias ordenadas** de ítemes\n",
        "\n",
        "```python\n",
        "t = (\"a\", 1)\n",
        "```\n",
        "\n",
        "### Diccionarios\n",
        "La mayoría de los lenguajes de programación tienen lo que se llama una tabla hash, que es una combinación de elementos clave-valor. Este tipo de estructuras permite tiempos de búsqueda de objetos más rápidos cuando las estructuras tienen muchos elementos.\n",
        "\n",
        "\n",
        "```python\n",
        "animals = {\n",
        "  'elefante': 'loxodonta africana',\n",
        "  'lobo': 'canis lupus',\n",
        "  'tigre': 'panthera tigris',\n",
        "  'ratón': 'mus musculus'\n",
        "}\n",
        "```\n",
        "Ojo que la llave debe es **inmutable**.\n",
        "\n",
        "### Sets\n",
        "\n",
        "Conjunto de elementos **ordenados** e **inmutables**.\n",
        "\n",
        "```python\n",
        "myset = {1, 2, \"Hola\", 3}\n",
        "```\n",
        "\n",
        "Los sets se pueden operar como los conjuntos en matemáticas (unión, intersección, diferencia y diferencia simétrica)\n",
        "\n",
        "\n",
        "\n",
        "```python\n",
        "a = {1, 2, 3, 4, 5, 6}\n",
        "b = {4, 5, 6, 7, 8, 9, 10}\n",
        "\n",
        "a.union(b)  # a | b\n",
        "# {1, 2, 3, 4, 5, 6, 7, 8, 9, 10}\n",
        "\n",
        "a.intersection(b)  # a & b\n",
        "# {4, 5, 6}\n",
        "\n",
        "a.difference(b) # a - b\n",
        "# {1, 2, 3}\n",
        "\n",
        "a ^ b\n",
        "# {1, 2, 3, 7, 8, 9, 10}\n",
        "```\n",
        "\n",
        "\n"
      ],
      "metadata": {
        "id": "Zm2wlQpoPQDL"
      }
    },
    {
      "cell_type": "markdown",
      "source": [
        "## Control de flujo\n",
        "\n",
        "```python\n",
        "if not (a > 3 and b < 4):\n",
        "    print(\"Es verdadero\")\n",
        "else:\n",
        "    print(\"Es falso\")\n",
        "```\n",
        "\n",
        "## Ciclo While\n",
        "\n",
        "```python\n",
        "value = 1\n",
        "while value != 0:\n",
        "    value = int(input(\"Ingrese un nuevo valor (0 para salir): \")\n",
        "else:\n",
        "    print(\"Adiós\")\n",
        "\n",
        "```\n",
        "## Ciclo For\n",
        "```python\n",
        "for i in [1, 2, 3]:\n",
        "    print(i)\n",
        "else:\n",
        "    print(\"Adiós\")\n",
        "```\n",
        "\n",
        "## Saliendo de un ciclo\n",
        "```python\n",
        "while True:\n",
        "    s = input(\"Ingresa algo: \")\n",
        "    if s == \"quit\":\n",
        "        break\n",
        "    print(\"Largo del string ingresado: \", len(s))\n",
        "```\n",
        "\n",
        "## Continuando al siguiente elemento\n",
        "```python\n",
        "for num in [2, 3, 5, 6, 7, 8, 9]:\n",
        "    if num % 2 == 0:\n",
        "        print(\"Numero par: \", num)\n",
        "        continue\n",
        "    print(\"Se encontro un numero: \", num)\n",
        "```"
      ],
      "metadata": {
        "id": "fomeGV_VSvix"
      }
    },
    {
      "cell_type": "markdown",
      "source": [
        "## Funciones en Python\n",
        "\n",
        "Las funciones nos permiten acortar o reusar codigo en nuestro programa\n",
        "\n",
        "```python\n",
        "def di_hola():\n",
        "    print(\"¡Hola! Soy un computador con el poderosísimo Python\")\n",
        "```\n",
        "\n",
        "Argumentos\n",
        "```python\n",
        "def di_hola(nombre, edad=20):\n",
        "    print(f\"¡Hola! mi nombre es {nombre} y tengo {edad}.\")\n",
        "```\n",
        "\n",
        "Retorno\n",
        "```python\n",
        "def maximo(a, b):\n",
        "    if a > b:\n",
        "        return a\n",
        "    else:\n",
        "        return b\n",
        "```\n",
        "\n"
      ],
      "metadata": {
        "id": "pLkydKsDUzwY"
      }
    },
    {
      "cell_type": "markdown",
      "source": [
        "## Iterando estructuras de datos\n",
        "\n",
        "Facilmente se puede iterar sobre los elementos que están dentro de una estructura de datos. Por ejemplo:\n",
        "\n",
        "Enumerando los items de una lista:\n",
        "```python\n",
        "for idx, item in enumerate([\"a\", \"b\", \"c\"]):\n",
        "    print(f\"El contenido del elemento {idx} es {item}\")\n",
        "```\n",
        "\n",
        "\n",
        "Iterando sobre dos listas al mismo tiempo:\n",
        "```python\n",
        "lista_a = [\"uno\", \"dos\", \"tres\"]\n",
        "lista_b = [\"alfa\", \"beta\", \"gama\"]\n",
        "\n",
        "for item_a, item_b in zip(lista_a, lista_b):\n",
        "    print(f\"El contenido del elemento {idx} es {item}\")\n",
        "```\n",
        "\n",
        "\n",
        "    "
      ],
      "metadata": {
        "id": "dlD6dzA_WPMR"
      }
    },
    {
      "cell_type": "markdown",
      "source": [
        "## Ciclos y estructuras al mismo tiempo: comprehensions\n",
        "\n",
        "Algunas veces uno requiere construir una estructura de datos de manera iterativa. Esto se puede hacer de una manera muy elegante en Python\n",
        "\n"
      ],
      "metadata": {
        "id": "0V3mVgB4WBHu"
      }
    },
    {
      "cell_type": "code",
      "source": [
        "lista = [\"manzana\", \"pera\", \"platano\"]\n",
        "nueva_lista = [item + \"_maduro\" for item in lista]\n",
        "print(nueva_lista)"
      ],
      "metadata": {
        "colab": {
          "base_uri": "https://localhost:8080/"
        },
        "id": "xrF9wZq6YPEE",
        "outputId": "abe47c7b-674b-4a6c-a8e4-48b9bb21d18c"
      },
      "execution_count": 19,
      "outputs": [
        {
          "output_type": "stream",
          "name": "stdout",
          "text": [
            "['manzana_maduro', 'pera_maduro', 'platano_maduro']\n"
          ]
        }
      ]
    },
    {
      "cell_type": "code",
      "source": [
        "lista = [\"manzana\", \"pera\", \"platano\"]\n",
        "nueva_lista = [item + \"_madura\" for item in lista if item[-1] == \"a\"]\n",
        "print(nueva_lista)"
      ],
      "metadata": {
        "colab": {
          "base_uri": "https://localhost:8080/"
        },
        "id": "B_w-k3ngYUl-",
        "outputId": "638775f4-f3c8-484f-a312-36c3c04b06b2"
      },
      "execution_count": 20,
      "outputs": [
        {
          "output_type": "stream",
          "name": "stdout",
          "text": [
            "['manzana_madura', 'pera_madura']\n"
          ]
        }
      ]
    },
    {
      "cell_type": "markdown",
      "source": [
        "## Excepciones en Python\n",
        "\n",
        "Las excepciones permiten evidenciar que ha ocurrido un error al ejecutar nuestro programa. Las excepciones pueden ser manejadas para que el programa no termine."
      ],
      "metadata": {
        "id": "z0cOmHH3Ymc3"
      }
    },
    {
      "cell_type": "code",
      "source": [
        "def razon(a, b):\n",
        "    try:\n",
        "        return(a / b)\n",
        "    except ZeroDivisionError:\n",
        "        print(\"División por cero. Se retornará un valor None\")\n",
        "        return None"
      ],
      "metadata": {
        "id": "ONYG5bBfYl2V"
      },
      "execution_count": 21,
      "outputs": []
    },
    {
      "cell_type": "markdown",
      "source": [
        "También puede lanzar una excepción facilmente."
      ],
      "metadata": {
        "id": "4EHN-crHZnJ7"
      }
    },
    {
      "cell_type": "code",
      "source": [
        "def cuenta_regresiva(numero):\n",
        "    if numero < 0:\n",
        "        raise ValueError(\"El valor de entrada no puede ser negativo.\")\n",
        "    \n",
        "    for i in reversed(range(numero + 1)):\n",
        "        print(i)\n",
        "        "
      ],
      "metadata": {
        "id": "XycJfOChZOCa"
      },
      "execution_count": 22,
      "outputs": []
    },
    {
      "cell_type": "code",
      "source": [
        "cuenta_regresiva(5)"
      ],
      "metadata": {
        "colab": {
          "base_uri": "https://localhost:8080/"
        },
        "id": "lXgXe-sLaPfM",
        "outputId": "8af76c94-a984-435b-c0d4-167f07113a57"
      },
      "execution_count": 23,
      "outputs": [
        {
          "output_type": "stream",
          "name": "stdout",
          "text": [
            "5\n",
            "4\n",
            "3\n",
            "2\n",
            "1\n",
            "0\n"
          ]
        }
      ]
    },
    {
      "cell_type": "code",
      "source": [
        "cuenta_regresiva(-5)"
      ],
      "metadata": {
        "colab": {
          "base_uri": "https://localhost:8080/",
          "height": 339
        },
        "id": "Bzso6SbdaVuY",
        "outputId": "a3a39465-9997-4b25-a750-4bcce154cfd7"
      },
      "execution_count": 24,
      "outputs": [
        {
          "output_type": "error",
          "ename": "ValueError",
          "evalue": "ignored",
          "traceback": [
            "\u001b[0;31m---------------------------------------------------------------------------\u001b[0m",
            "\u001b[0;31mValueError\u001b[0m                                Traceback (most recent call last)",
            "\u001b[0;32m<ipython-input-24-9c8147acce5b>\u001b[0m in \u001b[0;36m<module>\u001b[0;34m\u001b[0m\n\u001b[0;32m----> 1\u001b[0;31m \u001b[0mcuenta_regresiva\u001b[0m\u001b[0;34m(\u001b[0m\u001b[0;34m-\u001b[0m\u001b[0;36m5\u001b[0m\u001b[0;34m)\u001b[0m\u001b[0;34m\u001b[0m\u001b[0;34m\u001b[0m\u001b[0m\n\u001b[0m",
            "\u001b[0;32m<ipython-input-22-3077bb99536d>\u001b[0m in \u001b[0;36mcuenta_regresiva\u001b[0;34m(numero)\u001b[0m\n\u001b[1;32m      1\u001b[0m \u001b[0;32mdef\u001b[0m \u001b[0mcuenta_regresiva\u001b[0m\u001b[0;34m(\u001b[0m\u001b[0mnumero\u001b[0m\u001b[0;34m)\u001b[0m\u001b[0;34m:\u001b[0m\u001b[0;34m\u001b[0m\u001b[0;34m\u001b[0m\u001b[0m\n\u001b[1;32m      2\u001b[0m     \u001b[0;32mif\u001b[0m \u001b[0mnumero\u001b[0m \u001b[0;34m<\u001b[0m \u001b[0;36m0\u001b[0m\u001b[0;34m:\u001b[0m\u001b[0;34m\u001b[0m\u001b[0;34m\u001b[0m\u001b[0m\n\u001b[0;32m----> 3\u001b[0;31m         \u001b[0;32mraise\u001b[0m \u001b[0mValueError\u001b[0m\u001b[0;34m(\u001b[0m\u001b[0;34m\"El valor de entrada no puede ser negativo.\"\u001b[0m\u001b[0;34m)\u001b[0m\u001b[0;34m\u001b[0m\u001b[0;34m\u001b[0m\u001b[0m\n\u001b[0m\u001b[1;32m      4\u001b[0m \u001b[0;34m\u001b[0m\u001b[0m\n\u001b[1;32m      5\u001b[0m     \u001b[0;32mfor\u001b[0m \u001b[0mi\u001b[0m \u001b[0;32min\u001b[0m \u001b[0mreversed\u001b[0m\u001b[0;34m(\u001b[0m\u001b[0mrange\u001b[0m\u001b[0;34m(\u001b[0m\u001b[0mnumero\u001b[0m \u001b[0;34m+\u001b[0m \u001b[0;36m1\u001b[0m\u001b[0;34m)\u001b[0m\u001b[0;34m)\u001b[0m\u001b[0;34m:\u001b[0m\u001b[0;34m\u001b[0m\u001b[0;34m\u001b[0m\u001b[0m\n",
            "\u001b[0;31mValueError\u001b[0m: El valor de entrada no puede ser negativo."
          ]
        }
      ]
    },
    {
      "cell_type": "markdown",
      "source": [
        "## PEP 484: Type hints\n",
        "\n",
        "Muchos lenguajes requieren que el tipo de las variables o estructuras de datos sean declaradas (lenguajes de tipado estático), sin embargo, en Python esto no es necesario porque utiliza un tipado dinámico.\n",
        "\n",
        "Los **type hints**, si bien son algo opcional y no cambian para nada la funcionalidad del lenguaje, puede ser beneficioso sobre todo si quieres que tu código pueda entenderse más facilmente.\n",
        "\n",
        "Algunos beneficios son: acorta la documentación del código, mejora la experiencia de entender un código que escribió alguien más o tu mismo hace mucho tiempo,  te permiten entender mejor que estructuras de datos se esperan tanto en la entrada y la salida.\n"
      ],
      "metadata": {
        "id": "0OLVAgaxcOTl"
      }
    },
    {
      "cell_type": "markdown",
      "source": [
        "**Ejemplo**  \n",
        "\n",
        "Mira las siguientes funciones, y trata de responde las siguientes preguntas:\n",
        "- ¿cuál es el propósito de la función?\n",
        "- ¿qué tipo de datos espera obtener?\n",
        "- ¿qué estructura de datos retorna?"
      ],
      "metadata": {
        "id": "g50vqlLygAvr"
      }
    },
    {
      "cell_type": "code",
      "source": [
        "def funcioncita(num):\n",
        "    return [int(d) for d in num]"
      ],
      "metadata": {
        "id": "kVrY5j5leYoU"
      },
      "execution_count": 25,
      "outputs": []
    },
    {
      "cell_type": "code",
      "source": [
        "def obtener_digitos(num: int) -> list[int]:\n",
        "  return [int(d) for d in num]"
      ],
      "metadata": {
        "id": "_H0r8mgEfVej"
      },
      "execution_count": 26,
      "outputs": []
    },
    {
      "cell_type": "markdown",
      "source": [
        "¿Cuál de las dos te parece más rápido de entender?"
      ],
      "metadata": {
        "id": "WsKW7pZFgTAQ"
      }
    },
    {
      "cell_type": "markdown",
      "source": [
        "# Python en la ciencia\n",
        "\n",
        "Python es un lenguaje multipropósito, lo cual lo hace más adaptable que lenguajes especializados en calculos (MATLAB, IDL, Julia).\n",
        "\n",
        "La mayoría (o todos) los módulos científicos, o intensivos en el computo numérico, utilizan el módulo [**Numpy**](https://numpy.org/).\n",
        "\n",
        "A continuación revisaremos un breve repaso de qué consiste esta libreria.\n",
        "\n"
      ],
      "metadata": {
        "id": "oPIgbTDOOe2E"
      }
    },
    {
      "cell_type": "markdown",
      "source": [
        "## Numpy: arrays\n",
        "\n",
        "*   Un `array` es un bloque contínuo de memoria que contiene datos del mismo tipo.\n",
        "*   Los `array`s pueden ser de cualquier **dimension** y **tamaño**.\n",
        "*   Los `array` pueden ser usados vectorialmente, es decir, no es necesario recorrer cada elemento del array para realizar una operación.\n",
        "* Listas y arrays son muy diferentes\n",
        "  - Una lista puede tener datos de diferente tipo.\n",
        "  - Los elementos de una lista no son un bloque contiguo de memoria.\n",
        "  - Para cada elemento de una lista, Python tiene que hacer un montón de trabajo preliminar (chequeo de tipo, etc)\n",
        "  - Para un array, una operación es hecha al unísono para todos los elementos del array.\n",
        "* Numpy incluye un montón de funciones matemáticas\n",
        "\n"
      ],
      "metadata": {
        "id": "w4MH-UtdPexE"
      }
    },
    {
      "cell_type": "code",
      "source": [
        "# Primer paso\n",
        "import numpy as np"
      ],
      "metadata": {
        "id": "UGoaXqx6Pifk"
      },
      "execution_count": 27,
      "outputs": []
    },
    {
      "cell_type": "markdown",
      "source": [
        "Creando `arrays`"
      ],
      "metadata": {
        "id": "xuAIyB03RCb2"
      }
    },
    {
      "cell_type": "code",
      "source": [
        "# Desde una lista\n",
        "np.array([1., 2., 3., 4., ])"
      ],
      "metadata": {
        "colab": {
          "base_uri": "https://localhost:8080/"
        },
        "id": "B8EQRJzRQ2rs",
        "outputId": "2429c29c-e2eb-4f62-8a8e-6f6266eddc27"
      },
      "execution_count": 28,
      "outputs": [
        {
          "output_type": "execute_result",
          "data": {
            "text/plain": [
              "array([1., 2., 3., 4.])"
            ]
          },
          "metadata": {},
          "execution_count": 28
        }
      ]
    },
    {
      "cell_type": "code",
      "source": [
        "# Con valores fijos\n",
        "np.zeros(10)"
      ],
      "metadata": {
        "colab": {
          "base_uri": "https://localhost:8080/"
        },
        "id": "JF4KTIGLRGnH",
        "outputId": "bc45ab69-0211-4242-b336-31d2780d74e8"
      },
      "execution_count": 29,
      "outputs": [
        {
          "output_type": "execute_result",
          "data": {
            "text/plain": [
              "array([0., 0., 0., 0., 0., 0., 0., 0., 0., 0.])"
            ]
          },
          "metadata": {},
          "execution_count": 29
        }
      ]
    },
    {
      "cell_type": "code",
      "source": [
        "np.ones(10)"
      ],
      "metadata": {
        "colab": {
          "base_uri": "https://localhost:8080/"
        },
        "id": "DLvxjYjuRjDL",
        "outputId": "25a13338-d84c-4aa0-86f8-dc0b7afc2446"
      },
      "execution_count": 30,
      "outputs": [
        {
          "output_type": "execute_result",
          "data": {
            "text/plain": [
              "array([1., 1., 1., 1., 1., 1., 1., 1., 1., 1.])"
            ]
          },
          "metadata": {},
          "execution_count": 30
        }
      ]
    },
    {
      "cell_type": "code",
      "source": [
        "# En un rango dado\n",
        "np.arange(0., 10., 0.25)"
      ],
      "metadata": {
        "colab": {
          "base_uri": "https://localhost:8080/"
        },
        "id": "pVi2cEnHRUvR",
        "outputId": "9a2f5570-998c-4e04-85dd-9c4fe6ea9900"
      },
      "execution_count": 31,
      "outputs": [
        {
          "output_type": "execute_result",
          "data": {
            "text/plain": [
              "array([0.  , 0.25, 0.5 , 0.75, 1.  , 1.25, 1.5 , 1.75, 2.  , 2.25, 2.5 ,\n",
              "       2.75, 3.  , 3.25, 3.5 , 3.75, 4.  , 4.25, 4.5 , 4.75, 5.  , 5.25,\n",
              "       5.5 , 5.75, 6.  , 6.25, 6.5 , 6.75, 7.  , 7.25, 7.5 , 7.75, 8.  ,\n",
              "       8.25, 8.5 , 8.75, 9.  , 9.25, 9.5 , 9.75])"
            ]
          },
          "metadata": {},
          "execution_count": 31
        }
      ]
    },
    {
      "cell_type": "code",
      "source": [
        "np.linspace(0., 1., 10)"
      ],
      "metadata": {
        "colab": {
          "base_uri": "https://localhost:8080/"
        },
        "id": "jOuWxF1bRd5I",
        "outputId": "91be4241-1373-473c-a65a-e721eec0786b"
      },
      "execution_count": 32,
      "outputs": [
        {
          "output_type": "execute_result",
          "data": {
            "text/plain": [
              "array([0.        , 0.11111111, 0.22222222, 0.33333333, 0.44444444,\n",
              "       0.55555556, 0.66666667, 0.77777778, 0.88888889, 1.        ])"
            ]
          },
          "metadata": {},
          "execution_count": 32
        }
      ]
    },
    {
      "cell_type": "markdown",
      "source": [
        "Puedes seguir investigando [aquí](https://numpy.org/doc/stable/reference/routines.array-creation.html). "
      ],
      "metadata": {
        "id": "Wm6PPa4ER4Uj"
      }
    },
    {
      "cell_type": "markdown",
      "source": [
        "## Arrays de N dimensiones"
      ],
      "metadata": {
        "id": "VNPowNEDSEcb"
      }
    },
    {
      "cell_type": "code",
      "source": [
        "np.array([[1., 2., 3.], [4., 5., 6.]])"
      ],
      "metadata": {
        "colab": {
          "base_uri": "https://localhost:8080/"
        },
        "id": "QLCBkvvVRqJ1",
        "outputId": "1cb5e866-b847-4b0d-91d2-7e2b0b8d1577"
      },
      "execution_count": 33,
      "outputs": [
        {
          "output_type": "execute_result",
          "data": {
            "text/plain": [
              "array([[1., 2., 3.],\n",
              "       [4., 5., 6.]])"
            ]
          },
          "metadata": {},
          "execution_count": 33
        }
      ]
    },
    {
      "cell_type": "code",
      "source": [
        "np.zeros((20, 5))"
      ],
      "metadata": {
        "colab": {
          "base_uri": "https://localhost:8080/"
        },
        "id": "5CRL0zDdSRq6",
        "outputId": "123bd85e-75cb-4f00-8031-4033879aeb54"
      },
      "execution_count": 34,
      "outputs": [
        {
          "output_type": "execute_result",
          "data": {
            "text/plain": [
              "array([[0., 0., 0., 0., 0.],\n",
              "       [0., 0., 0., 0., 0.],\n",
              "       [0., 0., 0., 0., 0.],\n",
              "       [0., 0., 0., 0., 0.],\n",
              "       [0., 0., 0., 0., 0.],\n",
              "       [0., 0., 0., 0., 0.],\n",
              "       [0., 0., 0., 0., 0.],\n",
              "       [0., 0., 0., 0., 0.],\n",
              "       [0., 0., 0., 0., 0.],\n",
              "       [0., 0., 0., 0., 0.],\n",
              "       [0., 0., 0., 0., 0.],\n",
              "       [0., 0., 0., 0., 0.],\n",
              "       [0., 0., 0., 0., 0.],\n",
              "       [0., 0., 0., 0., 0.],\n",
              "       [0., 0., 0., 0., 0.],\n",
              "       [0., 0., 0., 0., 0.],\n",
              "       [0., 0., 0., 0., 0.],\n",
              "       [0., 0., 0., 0., 0.],\n",
              "       [0., 0., 0., 0., 0.],\n",
              "       [0., 0., 0., 0., 0.]])"
            ]
          },
          "metadata": {},
          "execution_count": 34
        }
      ]
    },
    {
      "cell_type": "markdown",
      "source": [
        "### Número de dimensiones"
      ],
      "metadata": {
        "id": "LZWt9mzpStyp"
      }
    },
    {
      "cell_type": "code",
      "source": [
        "# Para conocer el número de dimensiones\n",
        "mi_array_nd = np.ones((10, 3))\n",
        "np.ndim(mi_array_nd)"
      ],
      "metadata": {
        "colab": {
          "base_uri": "https://localhost:8080/"
        },
        "id": "eteLdy9BSXNm",
        "outputId": "27b0b76d-31d1-4feb-f84f-ecb592f2b6f1"
      },
      "execution_count": 35,
      "outputs": [
        {
          "output_type": "execute_result",
          "data": {
            "text/plain": [
              "2"
            ]
          },
          "metadata": {},
          "execution_count": 35
        }
      ]
    },
    {
      "cell_type": "code",
      "source": [
        "# O también\n",
        "mi_array_nd.ndim"
      ],
      "metadata": {
        "colab": {
          "base_uri": "https://localhost:8080/"
        },
        "id": "w-D_ll9TSm--",
        "outputId": "29dc1fee-842f-459f-bc98-fe84d96e7cec"
      },
      "execution_count": 36,
      "outputs": [
        {
          "output_type": "execute_result",
          "data": {
            "text/plain": [
              "2"
            ]
          },
          "metadata": {},
          "execution_count": 36
        }
      ]
    },
    {
      "cell_type": "markdown",
      "source": [
        "### Forma (shape)"
      ],
      "metadata": {
        "id": "TK8ynqXKSv4L"
      }
    },
    {
      "cell_type": "code",
      "source": [
        "np.shape(mi_array_nd)"
      ],
      "metadata": {
        "colab": {
          "base_uri": "https://localhost:8080/"
        },
        "id": "aPWrZ0aDSqo7",
        "outputId": "c5cdd6f8-22b0-44fe-e23c-3fce1a0dab5b"
      },
      "execution_count": 37,
      "outputs": [
        {
          "output_type": "execute_result",
          "data": {
            "text/plain": [
              "(10, 3)"
            ]
          },
          "metadata": {},
          "execution_count": 37
        }
      ]
    },
    {
      "cell_type": "code",
      "source": [
        "mi_array_nd.shape"
      ],
      "metadata": {
        "colab": {
          "base_uri": "https://localhost:8080/"
        },
        "id": "YzYD5H7SS0zV",
        "outputId": "17d7f4a4-f9b5-48f1-af9e-1d67ed4208fe"
      },
      "execution_count": 38,
      "outputs": [
        {
          "output_type": "execute_result",
          "data": {
            "text/plain": [
              "(10, 3)"
            ]
          },
          "metadata": {},
          "execution_count": 38
        }
      ]
    },
    {
      "cell_type": "markdown",
      "source": [
        "Siempre puedes cambiar la forma de un array, siempre y cuando se mantenga el tamaño total"
      ],
      "metadata": {
        "id": "F4Dmh8ZYS7KW"
      }
    },
    {
      "cell_type": "code",
      "source": [
        "array_unidimensional = np.linspace(0., 1., 20)\n",
        "np.reshape(array_unidimensional, (5, 4))"
      ],
      "metadata": {
        "colab": {
          "base_uri": "https://localhost:8080/"
        },
        "id": "v7n0Yxu7S2gd",
        "outputId": "282f1e89-39dd-4333-a24d-65d7fb60f274"
      },
      "execution_count": 39,
      "outputs": [
        {
          "output_type": "execute_result",
          "data": {
            "text/plain": [
              "array([[0.        , 0.05263158, 0.10526316, 0.15789474],\n",
              "       [0.21052632, 0.26315789, 0.31578947, 0.36842105],\n",
              "       [0.42105263, 0.47368421, 0.52631579, 0.57894737],\n",
              "       [0.63157895, 0.68421053, 0.73684211, 0.78947368],\n",
              "       [0.84210526, 0.89473684, 0.94736842, 1.        ]])"
            ]
          },
          "metadata": {},
          "execution_count": 39
        }
      ]
    },
    {
      "cell_type": "markdown",
      "source": [
        "## Tipos de datos\n",
        " Por defecto, floats son de tipo np.float64 y los enteros de tipo np.int64.\n",
        "\n",
        " Se puede acceder al tipo de dato de un array con `myarray.dtype`. Notar que `type(mi_array)` retorna `numpy.array` porque el tipo de datos es interno a numpy, y Python no lo puede ver directamente.\n",
        "\n",
        "Pueden haber distintas razones para tulizar diferentes tipos de datos\n",
        "- Uso de memoria\n",
        "- Velocidad de cómputo\n",
        "- Precisión numérica requerida\n"
      ],
      "metadata": {
        "id": "tNL8KMKETawa"
      }
    },
    {
      "cell_type": "code",
      "source": [
        "# Creación con un tipo diferente de dato\n",
        "mi_arreglo = np.zeros(10, dtype=np.uint8)"
      ],
      "metadata": {
        "id": "kJTVLch_UNZu"
      },
      "execution_count": 40,
      "outputs": []
    },
    {
      "cell_type": "code",
      "source": [
        "# Convertir a otro tipo\n",
        "mi_arreglo.astype(np.int16)"
      ],
      "metadata": {
        "colab": {
          "base_uri": "https://localhost:8080/"
        },
        "id": "YP9r3ef-TSxf",
        "outputId": "f53358bb-de7a-458c-9ed9-41f20a00a270"
      },
      "execution_count": 41,
      "outputs": [
        {
          "output_type": "execute_result",
          "data": {
            "text/plain": [
              "array([0, 0, 0, 0, 0, 0, 0, 0, 0, 0], dtype=int16)"
            ]
          },
          "metadata": {},
          "execution_count": 41
        }
      ]
    },
    {
      "cell_type": "markdown",
      "source": [
        "Revisa la documentación para más detalles: https://numpy.org/doc/stable/user/basics.types.html"
      ],
      "metadata": {
        "id": "EBo98RGuUfzz"
      }
    },
    {
      "cell_type": "markdown",
      "source": [
        "## Indices y strides\n",
        "\n",
        "Un elemento de un array puede ser accesado por su indice"
      ],
      "metadata": {
        "id": "u6WgiGTHUw5W"
      }
    },
    {
      "cell_type": "code",
      "source": [
        "mi_array = np.linspace(0., 1., 11)\n",
        "mi_array[3]"
      ],
      "metadata": {
        "colab": {
          "base_uri": "https://localhost:8080/"
        },
        "id": "YStjheWqU7W7",
        "outputId": "bbb80b1b-62ba-4ff7-c05b-1ddd24d8ee13"
      },
      "execution_count": 42,
      "outputs": [
        {
          "output_type": "execute_result",
          "data": {
            "text/plain": [
              "0.30000000000000004"
            ]
          },
          "metadata": {},
          "execution_count": 42
        }
      ]
    },
    {
      "cell_type": "code",
      "source": [
        "# Tambien podemos obtener un slice del array.\n",
        "mi_array[3:6]"
      ],
      "metadata": {
        "colab": {
          "base_uri": "https://localhost:8080/"
        },
        "id": "6zeJhkxwVYnv",
        "outputId": "ebe9f734-98f8-4103-d4c4-bad57569d3c8"
      },
      "execution_count": 43,
      "outputs": [
        {
          "output_type": "execute_result",
          "data": {
            "text/plain": [
              "array([0.3, 0.4, 0.5])"
            ]
          },
          "metadata": {},
          "execution_count": 43
        }
      ]
    },
    {
      "cell_type": "code",
      "source": [
        "# En caso de muchas dimensiones\n",
        "mi_array_nd = np.linspace(0., 1., 20).reshape((5, 4))\n",
        "mi_array_nd"
      ],
      "metadata": {
        "colab": {
          "base_uri": "https://localhost:8080/"
        },
        "id": "Vos8MwyTVePU",
        "outputId": "1790cfad-e376-41b6-c53b-87acff20fe00"
      },
      "execution_count": 44,
      "outputs": [
        {
          "output_type": "execute_result",
          "data": {
            "text/plain": [
              "array([[0.        , 0.05263158, 0.10526316, 0.15789474],\n",
              "       [0.21052632, 0.26315789, 0.31578947, 0.36842105],\n",
              "       [0.42105263, 0.47368421, 0.52631579, 0.57894737],\n",
              "       [0.63157895, 0.68421053, 0.73684211, 0.78947368],\n",
              "       [0.84210526, 0.89473684, 0.94736842, 1.        ]])"
            ]
          },
          "metadata": {},
          "execution_count": 44
        }
      ]
    },
    {
      "cell_type": "code",
      "source": [
        "mi_array_nd[2,3]"
      ],
      "metadata": {
        "colab": {
          "base_uri": "https://localhost:8080/"
        },
        "id": "GG1jwwr7VuR6",
        "outputId": "3f671aa3-e883-4f12-f52c-489e251bd972"
      },
      "execution_count": 45,
      "outputs": [
        {
          "output_type": "execute_result",
          "data": {
            "text/plain": [
              "0.5789473684210527"
            ]
          },
          "metadata": {},
          "execution_count": 45
        }
      ]
    },
    {
      "cell_type": "code",
      "source": [
        "mi_array_nd[:,3]"
      ],
      "metadata": {
        "colab": {
          "base_uri": "https://localhost:8080/"
        },
        "id": "eeXOaz2VVz_Y",
        "outputId": "a03407a8-acc9-4bf6-869d-901e97632a6e"
      },
      "execution_count": 46,
      "outputs": [
        {
          "output_type": "execute_result",
          "data": {
            "text/plain": [
              "array([0.15789474, 0.36842105, 0.57894737, 0.78947368, 1.        ])"
            ]
          },
          "metadata": {},
          "execution_count": 46
        }
      ]
    },
    {
      "cell_type": "code",
      "source": [
        "mi_array_nd[-1,:]"
      ],
      "metadata": {
        "colab": {
          "base_uri": "https://localhost:8080/"
        },
        "id": "KIYj9GvgV88H",
        "outputId": "ec5930d1-6857-484b-f8dd-c7d71daa806c"
      },
      "execution_count": 47,
      "outputs": [
        {
          "output_type": "execute_result",
          "data": {
            "text/plain": [
              "array([0.84210526, 0.89473684, 0.94736842, 1.        ])"
            ]
          },
          "metadata": {},
          "execution_count": 47
        }
      ]
    },
    {
      "cell_type": "markdown",
      "source": [
        "## Seleccionar elementos de un array\n",
        "\n",
        "A veces es necesario acceder a elementos no contiguos de un array, algunas opciones son"
      ],
      "metadata": {
        "id": "HM3xYoIBWFpn"
      }
    },
    {
      "cell_type": "code",
      "source": [
        "mi_array[[0,2,4]]"
      ],
      "metadata": {
        "colab": {
          "base_uri": "https://localhost:8080/"
        },
        "id": "5u-4PMq4WAgz",
        "outputId": "550073e2-a08f-466f-80ba-4c6b1e0e366f"
      },
      "execution_count": 48,
      "outputs": [
        {
          "output_type": "execute_result",
          "data": {
            "text/plain": [
              "array([0. , 0.2, 0.4])"
            ]
          },
          "metadata": {},
          "execution_count": 48
        }
      ]
    },
    {
      "cell_type": "code",
      "source": [
        "idx = np.where(mi_array > 0.45)\n",
        "mi_array[idx]"
      ],
      "metadata": {
        "colab": {
          "base_uri": "https://localhost:8080/"
        },
        "id": "9qdFQ3bVWZy4",
        "outputId": "559c7754-abed-47e7-f3eb-9736d99f5f25"
      },
      "execution_count": 49,
      "outputs": [
        {
          "output_type": "execute_result",
          "data": {
            "text/plain": [
              "array([0.5, 0.6, 0.7, 0.8, 0.9, 1. ])"
            ]
          },
          "metadata": {},
          "execution_count": 49
        }
      ]
    },
    {
      "cell_type": "code",
      "source": [],
      "metadata": {
        "id": "vc-9uYUCWpFa"
      },
      "execution_count": 49,
      "outputs": []
    },
    {
      "cell_type": "markdown",
      "source": [
        "## Operaciones en arrays\n"
      ],
      "metadata": {
        "id": "0fUrVOLsa7zV"
      }
    },
    {
      "cell_type": "code",
      "source": [
        "# Operaciones con un escalar aplica a todos los elementos de un array\n",
        "mi_array + 1"
      ],
      "metadata": {
        "colab": {
          "base_uri": "https://localhost:8080/"
        },
        "id": "cP8Ib6wRa-ia",
        "outputId": "f7ee3901-1eaf-4cd5-a4c6-5376e2961b99"
      },
      "execution_count": 50,
      "outputs": [
        {
          "output_type": "execute_result",
          "data": {
            "text/plain": [
              "array([1. , 1.1, 1.2, 1.3, 1.4, 1.5, 1.6, 1.7, 1.8, 1.9, 2. ])"
            ]
          },
          "metadata": {},
          "execution_count": 50
        }
      ]
    },
    {
      "cell_type": "code",
      "source": [
        "# Operaciones entre arrays aplican en todos los elementos con el mismo indice\n",
        "mi_array_1 = np.array([1., 2., 3., 4., 5., 6., 7., 8., 9., 10.,])\n",
        "mi_array_2 = np.array([.1, .2, .3, .4, .5, .6, .7, .8, .9, 1.,])\n",
        "\n",
        "mi_array_1 + mi_array_2"
      ],
      "metadata": {
        "colab": {
          "base_uri": "https://localhost:8080/"
        },
        "id": "hJEBufr4cMd9",
        "outputId": "17cba408-03c3-4b63-a70f-2adb4fcf1c22"
      },
      "execution_count": 51,
      "outputs": [
        {
          "output_type": "execute_result",
          "data": {
            "text/plain": [
              "array([ 1.1,  2.2,  3.3,  4.4,  5.5,  6.6,  7.7,  8.8,  9.9, 11. ])"
            ]
          },
          "metadata": {},
          "execution_count": 51
        }
      ]
    },
    {
      "cell_type": "code",
      "source": [
        "# Los arrays no necesariamente tienen que tener la misma dimension\n",
        "import numpy.random as rd\n",
        "mi_array_1 = rd.random((5, 4, 3))\n",
        "print(mi_array_1)"
      ],
      "metadata": {
        "colab": {
          "base_uri": "https://localhost:8080/"
        },
        "id": "UBI6ghPwcgIg",
        "outputId": "0362fba9-0a07-4520-ab59-09f075f15510"
      },
      "execution_count": 52,
      "outputs": [
        {
          "output_type": "stream",
          "name": "stdout",
          "text": [
            "[[[0.59856881 0.91894642 0.21917753]\n",
            "  [0.5620649  0.28219249 0.64731821]\n",
            "  [0.75586195 0.13388179 0.36788109]\n",
            "  [0.66299652 0.30077245 0.85542895]]\n",
            "\n",
            " [[0.24785724 0.37658364 0.9920416 ]\n",
            "  [0.46643392 0.89970683 0.57391127]\n",
            "  [0.45719855 0.01869575 0.81039571]\n",
            "  [0.21898943 0.57725589 0.62979394]]\n",
            "\n",
            " [[0.09424179 0.16084463 0.49245219]\n",
            "  [0.63089787 0.75402846 0.63238537]\n",
            "  [0.14691293 0.9435708  0.18987265]\n",
            "  [0.20117145 0.45530987 0.60888473]]\n",
            "\n",
            " [[0.95047944 0.77479617 0.70979927]\n",
            "  [0.49735395 0.50098335 0.27999582]\n",
            "  [0.33261974 0.33071095 0.14311373]\n",
            "  [0.84844788 0.4597921  0.69160934]]\n",
            "\n",
            " [[0.73557593 0.24959027 0.95134453]\n",
            "  [0.26933076 0.92918656 0.79999342]\n",
            "  [0.84924541 0.0084179  0.88919782]\n",
            "  [0.44479569 0.82955949 0.23406586]]]\n"
          ]
        }
      ]
    },
    {
      "cell_type": "code",
      "source": [
        "mi_array_2 = rd.random((4, 3))\n",
        "print(mi_array_2)"
      ],
      "metadata": {
        "colab": {
          "base_uri": "https://localhost:8080/"
        },
        "id": "UUVvDpkYc47N",
        "outputId": "742ae2ae-c9c8-4a15-8c5e-7a0fb4e7d7bd"
      },
      "execution_count": 53,
      "outputs": [
        {
          "output_type": "stream",
          "name": "stdout",
          "text": [
            "[[0.49330972 0.93664711 0.4054677 ]\n",
            " [0.30820568 0.24506508 0.79015456]\n",
            " [0.69955455 0.95323689 0.55868589]\n",
            " [0.03073081 0.9351008  0.40264057]]\n"
          ]
        }
      ]
    },
    {
      "cell_type": "code",
      "source": [
        "# La dimension del array mas pequeno debe tener las mismas ultimas dimensiones que el array mas grande.\n",
        "mi_array_1 + mi_array_2"
      ],
      "metadata": {
        "colab": {
          "base_uri": "https://localhost:8080/"
        },
        "id": "gzqprYPueB56",
        "outputId": "fab431e7-1877-4b75-b957-e3dd50416ab3"
      },
      "execution_count": 54,
      "outputs": [
        {
          "output_type": "execute_result",
          "data": {
            "text/plain": [
              "array([[[1.09187853, 1.85559353, 0.62464524],\n",
              "        [0.87027058, 0.52725757, 1.43747276],\n",
              "        [1.4554165 , 1.08711868, 0.92656698],\n",
              "        [0.69372733, 1.23587325, 1.25806952]],\n",
              "\n",
              "       [[0.74116696, 1.31323075, 1.3975093 ],\n",
              "        [0.7746396 , 1.14477191, 1.36406583],\n",
              "        [1.1567531 , 0.97193264, 1.3690816 ],\n",
              "        [0.24972024, 1.5123567 , 1.03243451]],\n",
              "\n",
              "       [[0.58755151, 1.09749174, 0.8979199 ],\n",
              "        [0.93910355, 0.99909354, 1.42253993],\n",
              "        [0.84646748, 1.89680769, 0.74855854],\n",
              "        [0.23190226, 1.39041067, 1.01152531]],\n",
              "\n",
              "       [[1.44378917, 1.71144327, 1.11526698],\n",
              "        [0.80555963, 0.74604843, 1.07015038],\n",
              "        [1.03217429, 1.28394784, 0.70179962],\n",
              "        [0.87917869, 1.3948929 , 1.09424991]],\n",
              "\n",
              "       [[1.22888565, 1.18623738, 1.35681223],\n",
              "        [0.57753644, 1.17425164, 1.59014798],\n",
              "        [1.54879995, 0.9616548 , 1.44788371],\n",
              "        [0.4755265 , 1.76466029, 0.63670643]]])"
            ]
          },
          "metadata": {},
          "execution_count": 54
        }
      ]
    },
    {
      "cell_type": "markdown",
      "source": [
        "## Operaciones aritméticas y mateméticas\n",
        "\n",
        "Numpy trae muchas funciones matemáticas\n",
        "- trigonométria: `np.sin()`, `np.arcsin()`, `np.degrees()`, `np.radians()`, etc.\n",
        "- Funciones hiperbólica: `np.sinh()`, `np.arcsinh()`, etc.\n",
        "- Aproximación: `np.round()`, `np.floor()`, `np.ceil()`, etc.\n",
        "- Exponenciación y logaritmos: `np.exp()`, `np.log()`, `np.log10()`, etc.\n",
        "- complejos: `np.angle()`, `np.real()`, `np.imag()`, `np.conj()`\n",
        "- misceláneo: `np.prod()`, `np.sum()`, `np.cumsum()`, `np.diff()`, `np.trapz()`."
      ],
      "metadata": {
        "id": "ZH9CIJ4Pedjv"
      }
    },
    {
      "cell_type": "markdown",
      "source": [
        "## Estadistica básica con Numpy\n",
        "\n",
        "Numpy tiene varias rutinas para calcular estadísticos de un array"
      ],
      "metadata": {
        "id": "vwTUXbjwFiwa"
      }
    },
    {
      "cell_type": "code",
      "source": [
        "# Mínimo y máximo\n",
        "print(np.min(mi_array), np.max(mi_array))"
      ],
      "metadata": {
        "colab": {
          "base_uri": "https://localhost:8080/"
        },
        "id": "CpFFANPZFiIN",
        "outputId": "cd2bcfae-d8d4-46e3-870b-1709e71d8168"
      },
      "execution_count": 55,
      "outputs": [
        {
          "output_type": "stream",
          "name": "stdout",
          "text": [
            "0.0 1.0\n"
          ]
        }
      ]
    },
    {
      "cell_type": "code",
      "source": [
        "# Valor medio y mediana\n",
        "print(np.mean(mi_array), np.median(mi_array))"
      ],
      "metadata": {
        "colab": {
          "base_uri": "https://localhost:8080/"
        },
        "id": "ofxxhLq8eHAk",
        "outputId": "304e3497-a14f-4d89-b769-2932d65412a2"
      },
      "execution_count": 56,
      "outputs": [
        {
          "output_type": "stream",
          "name": "stdout",
          "text": [
            "0.5000000000000001 0.5\n"
          ]
        }
      ]
    },
    {
      "cell_type": "code",
      "source": [
        "# Varianza y desviación estándar\n",
        "print(np.var(mi_array),\" \",  np.std(mi_array))"
      ],
      "metadata": {
        "colab": {
          "base_uri": "https://localhost:8080/"
        },
        "id": "7FWTNborGGbo",
        "outputId": "4ab6ea73-8d0e-42ad-bd87-3f39b8794bdb"
      },
      "execution_count": 57,
      "outputs": [
        {
          "output_type": "stream",
          "name": "stdout",
          "text": [
            "0.1   0.31622776601683794\n"
          ]
        }
      ]
    },
    {
      "cell_type": "code",
      "source": [
        "# Percentiles\n",
        "np.percentile(mi_array, 90.)"
      ],
      "metadata": {
        "colab": {
          "base_uri": "https://localhost:8080/"
        },
        "id": "DcHKMwC9GOTG",
        "outputId": "3ea73e29-9ec2-4e44-ac53-6f3f00508d6d"
      },
      "execution_count": 58,
      "outputs": [
        {
          "output_type": "execute_result",
          "data": {
            "text/plain": [
              "0.9"
            ]
          },
          "metadata": {},
          "execution_count": 58
        }
      ]
    },
    {
      "cell_type": "code",
      "source": [
        "# Histogramas\n",
        "np.histogram(mi_array)"
      ],
      "metadata": {
        "colab": {
          "base_uri": "https://localhost:8080/"
        },
        "id": "dM9UhDhzGT3i",
        "outputId": "69ccf875-d917-4af1-947e-9b732cf1f8ae"
      },
      "execution_count": 59,
      "outputs": [
        {
          "output_type": "execute_result",
          "data": {
            "text/plain": [
              "(array([1, 1, 1, 1, 1, 1, 1, 1, 1, 2]),\n",
              " array([0. , 0.1, 0.2, 0.3, 0.4, 0.5, 0.6, 0.7, 0.8, 0.9, 1. ]))"
            ]
          },
          "metadata": {},
          "execution_count": 59
        }
      ]
    },
    {
      "cell_type": "markdown",
      "source": [
        "## Realizando gráficos con Matplotlib\n",
        "\n",
        "Disponer de gráficos legíbles y agradables es muy importante para transmitir información. Una de las librerías más comunes en térinos de gráficos es [Matplolib](https://matplotlib.org/stable/plot_types/index.html).\n",
        "\n",
        "Matplorlib permite crear distintos tips  de gráficos en 2D, entre ellos\n",
        "- gráficos línea\n",
        "- gráficos de dispersión\n",
        "- histogramas\n",
        "- gráficos de contorno\n",
        "- gráficos polares y de tarta\n",
        "- imágenes\n",
        "\n",
        "También es posible crear interfaces gráficas sencillas.\n",
        "\n"
      ],
      "metadata": {
        "id": "JQMHN-dLGon3"
      }
    },
    {
      "cell_type": "code",
      "source": [
        "import matplotlib.pyplot as plt"
      ],
      "metadata": {
        "id": "qcyJdMOiGkP9"
      },
      "execution_count": 60,
      "outputs": []
    },
    {
      "cell_type": "code",
      "source": [
        "# Ejemplo gráfico de línea\n",
        "\n",
        "alpha = np.linspace(0., 2. * np.pi, 100)\n",
        "\n",
        "plt.plot(alpha, np.sin(alpha), color=\"red\", lw=2, label=\"Seno\")\n",
        "plt.plot(alpha, np.cos(alpha), color=\"blue\", lw=2, label=\"Coseno\")\n",
        "plt.xlabel(r\"Angulo $\\alpha$ (radianes)\")\n",
        "plt.minorticks_on()\n",
        "marcas = [r\"0\", r\"$\\pi/2$\", r\"$\\pi$\", r\"$3\\pi/2$\", r\"$2\\pi$\"]\n",
        "plt.xticks(np.linspace(0, 2 * np.pi, 5), marcas)\n",
        "plt.legend();"
      ],
      "metadata": {
        "colab": {
          "base_uri": "https://localhost:8080/",
          "height": 286
        },
        "id": "zzU5WzGmHv5h",
        "outputId": "2cb86e5d-3466-4fa6-c2f3-5fb2025636b0"
      },
      "execution_count": 61,
      "outputs": [
        {
          "output_type": "display_data",
          "data": {
            "text/plain": [
              "<Figure size 432x288 with 1 Axes>"
            ],
            "image/png": "[encoded data removed]"
          },
          "metadata": {
            "needs_background": "light"
          }
        }
      ]
    },
    {
      "cell_type": "code",
      "source": [
        "# Ejemplo gráfico de dispersión\n",
        "import matplotlib\n",
        "\n",
        "x = rd.normal(0., 1., 1000)\n",
        "y = rd.normal(0., 1., 1000)\n",
        "\n",
        "plt.scatter(\n",
        "    x, y,\n",
        "    c=np.arctan2(y, x),\n",
        "    cmap=matplotlib.cm.gist_rainbow,\n",
        "    alpha=0.5,\n",
        "    vmin=-np.pi,\n",
        "    vmax=np.pi\n",
        ")\n",
        "plt.axis(\"equal\")\n",
        "cb=plt.colorbar()\n",
        "cb.set_label(\"Ángulo (radianes)\")\n",
        "cb.set_ticks(np.linspace(-np.pi, np.pi, 5))\n",
        "cb.set_ticklabels([r\"$-\\pi$\", r\"$-\\pi/2$\", r\"0\", r\"$\\pi/2$\", r\"$\\pi$\"])"
      ],
      "metadata": {
        "colab": {
          "base_uri": "https://localhost:8080/",
          "height": 269
        },
        "id": "L5TVRgRrHv7r",
        "outputId": "076d19f7-3d89-4148-c653-7f96fd9350dd"
      },
      "execution_count": 62,
      "outputs": [
        {
          "output_type": "display_data",
          "data": {
            "text/plain": [
              "<Figure size 432x288 with 2 Axes>"
            ],
            "image/png": "[encoded data removed]"
          },
          "metadata": {
            "needs_background": "light"
          }
        }
      ]
    },
    {
      "cell_type": "code",
      "source": [
        "# Ejemplo de histograma 1D\n",
        "\n",
        "data = rd.normal(0., 1., 1000) \n",
        "plt.hist(data, bins=20)\n",
        "plt.ylabel(\"Densidad de probabilidad\");"
      ],
      "metadata": {
        "colab": {
          "base_uri": "https://localhost:8080/",
          "height": 265
        },
        "id": "Q42X12IXHv9n",
        "outputId": "4661a008-d79f-48cd-e825-83ddf0bc6758"
      },
      "execution_count": 63,
      "outputs": [
        {
          "output_type": "display_data",
          "data": {
            "text/plain": [
              "<Figure size 432x288 with 1 Axes>"
            ],
            "image/png": "[encoded data removed]"
          },
          "metadata": {
            "needs_background": "light"
          }
        }
      ]
    },
    {
      "cell_type": "code",
      "source": [
        "# Ejemplo de histograma en 2D\n",
        "\n",
        "x = rd.normal(0., 1., 100000)\n",
        "y = 1. + 2. * x + rd.normal(0., 1., 100000)\n",
        "\n",
        "plt.hexbin(x, y, gridsize=25, bins=\"log\")\n",
        "plt.axis(\"equal\")\n",
        "cb = plt.colorbar()\n",
        "cb.set_label(r\"log$_{10}$ (Número de objetos)\")"
      ],
      "metadata": {
        "colab": {
          "base_uri": "https://localhost:8080/",
          "height": 265
        },
        "id": "HCgwpJhhKyGw",
        "outputId": "f3749c68-fedd-4190-eea4-4f2a56720948"
      },
      "execution_count": 64,
      "outputs": [
        {
          "output_type": "display_data",
          "data": {
            "text/plain": [
              "<Figure size 432x288 with 2 Axes>"
            ],
            "image/png": "[encoded data removed]"
          },
          "metadata": {
            "needs_background": "light"
          }
        }
      ]
    },
    {
      "cell_type": "code",
      "source": [
        "# Gráfico de contorno\n",
        "\n",
        "xrange = np.linspace(-3., 3., 1000)\n",
        "yrange = np.linspace(-3., 3., 1000)\n",
        "\n",
        "x, y = np.meshgrid(xrange, yrange)\n",
        "z = (1. - x/2. + x**5. + y**3.) * np.exp(-x**2. - y**2.)\n",
        "\n",
        "plt.pcolormesh(x, y, z)\n",
        "plt.gca().set_aspect(\"equal\", adjustable=\"box\")\n",
        "cont = plt.contour(x, y, z, 6, colors=[\"blue\", \"red\"])\n",
        "plt.clabel(cont, inline=True, colors=\"white\");\n"
      ],
      "metadata": {
        "colab": {
          "base_uri": "https://localhost:8080/",
          "height": 269
        },
        "id": "Lcr91uPgLl1G",
        "outputId": "68f77573-c79e-495d-eb2b-28c93c703bff"
      },
      "execution_count": 65,
      "outputs": [
        {
          "output_type": "display_data",
          "data": {
            "text/plain": [
              "<Figure size 432x288 with 1 Axes>"
            ],
            "image/png": "[encoded data removed]"
          },
          "metadata": {
            "needs_background": "light"
          }
        }
      ]
    },
    {
      "cell_type": "code",
      "source": [
        "# Multiples plots en mismo gráfico\n",
        "\n",
        "t = np.linspace(0., 2. * np.pi, 200)\n",
        "\n",
        "plt.subplot(2, 1, 1)\n",
        "plt.plot(t, np.cos(5.*t), lw=2)\n",
        "plt.ylabel(\"Sin amortiguar\")\n",
        "plt.subplot(2,1,2)\n",
        "plt.plot(t, np.cos(5.*t) * np.exp(-t/2.), lw=2)\n",
        "plt.plot(t, np.exp(-t/2.), lw=2, ls=\"dashed\", color=\"red\")\n",
        "plt.plot(t, -np.exp(-t/2.), lw=2, ls=\"dashed\", color=\"red\")\n",
        "plt.xlabel(\"Time (s)\")\n",
        "plt.ylabel(\"Amortiguado\")\n",
        "plt.subplots_adjust(hspace=0)\n",
        "\n"
      ],
      "metadata": {
        "colab": {
          "base_uri": "https://localhost:8080/",
          "height": 279
        },
        "id": "ZtXnKLO1Mxhx",
        "outputId": "5ca68559-eb24-4383-9ee2-46dd2f928c72"
      },
      "execution_count": 66,
      "outputs": [
        {
          "output_type": "display_data",
          "data": {
            "text/plain": [
              "<Figure size 432x288 with 2 Axes>"
            ],
            "image/png": "[encoded data removed]"
          },
          "metadata": {
            "needs_background": "light"
          }
        }
      ]
    },
    {
      "cell_type": "markdown",
      "source": [
        "Hay muchísimas más cosas que son posibles de realizar con Matplotib. Te invito a mirar la documentación y la galería con ejemplos [aquí](https://matplotlib.org/stable/gallery/index.html)."
      ],
      "metadata": {
        "id": "9WsaGTNfOOjQ"
      }
    }
  ]
}