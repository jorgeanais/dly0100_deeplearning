{
 "cells": [
  {
   "attachments": {},
   "cell_type": "markdown",
   "metadata": {},
   "source": [
    "# El perceptrón\n",
    "\n",
    "> Profesor Jorge Anais\n",
    "\n",
    "Como vimos en clase, el perceptrón es un modelo muy sencillo. En este notebook implementaremos un perceptrón y revisaremos algunos casos notables."
   ]
  },
  {
   "attachments": {},
   "cell_type": "markdown",
   "metadata": {},
   "source": [
    "## Un perceptrón sencillo en Python\n",
    "\n",
    "Primero definimos la función de activación"
   ]
  },
  {
   "cell_type": "code",
   "execution_count": null,
   "metadata": {},
   "outputs": [],
   "source": [
    "def fn_activacion(u: float) -> float:\n",
    "    \"\"\"\n",
    "    Función de activación simple. \n",
    "    Retorna 1 si el valor de `u` es mayor o igual a 1.\n",
    "    En caso contrario retorna 0.\n",
    "    \"\"\"\n",
    "    \n",
    "    return 1. if u >=1.0 else 0."
   ]
  },
  {
   "attachments": {},
   "cell_type": "markdown",
   "metadata": {},
   "source": [
    "Luego definimos el perceptrón \n",
    "\n",
    "![Compuerta AND](imagenes/01_2/perceptron.png)"
   ]
  },
  {
   "cell_type": "code",
   "execution_count": null,
   "metadata": {},
   "outputs": [],
   "source": [
    "def perceptron(x1: float, x2: float) -> float:\n",
    "    \"\"\"\n",
    "    Calcula la salida del perceptrón donde\n",
    "    x1, x2 son las entradas\n",
    "    W1, W2 son los pesos\n",
    "    B es el sesgo (bias)\n",
    "    \"\"\"\n",
    "    W1 = 0.4\n",
    "    W2 = 0.4\n",
    "    B = 0.4\n",
    "    \n",
    "    return fn_activacion(x1*W1 + x2*W2 + B)"
   ]
  },
  {
   "attachments": {},
   "cell_type": "markdown",
   "metadata": {},
   "source": [
    "Notar que el perceptrón fue definido con pesos arbitrarios (W1, W2 y B iguales a 0.4). Dependiendo de los pesos, el perceptrón puede ser capaz de resolver distintos problemas linealmente separables."
   ]
  },
  {
   "attachments": {},
   "cell_type": "markdown",
   "metadata": {},
   "source": [
    "## Caso compuerta AND\n",
    "\n",
    "![Compuerta AND](imagenes/01_2/compuerta_AND.png)"
   ]
  },
  {
   "attachments": {},
   "cell_type": "markdown",
   "metadata": {},
   "source": [
    "Completa la siguiente tabla con los valores de las entradas y la salida esperada\n",
    "\n",
    "| x1 | x2 | Valor Esperado | Valor obtenido |\n",
    "|----|----|----------------|----------------|\n",
    "| 0  | 0  | 0              |                |\n",
    "| 1  | 0  | 0              |                |\n",
    "| 0  | 1  | 0              |                |\n",
    "| 1  | 1  | 1              |                |"
   ]
  },
  {
   "cell_type": "code",
   "execution_count": null,
   "metadata": {},
   "outputs": [],
   "source": [
    "# Escribe tu código aquí para evaluar el perceptrón con las entradas requeridas en la tabla\n"
   ]
  },
  {
   "attachments": {},
   "cell_type": "markdown",
   "metadata": {},
   "source": [
    "## Caso compuerta OR\n",
    "![Compuerta OR](imagenes/01_2/compuerta_OR.png)"
   ]
  },
  {
   "attachments": {},
   "cell_type": "markdown",
   "metadata": {},
   "source": [
    "Cambia los pesos del perceptrón para que resuelva la compuerta OR. Completa la siguiente tabla con los valores de las entradas y la salida esperada\n",
    "\n",
    "| x1 | x2 | Valor Esperado | Valor obtenido |\n",
    "|----|----|----------------|----------------|\n",
    "| 0  | 0  | 0              |                |\n",
    "| 1  | 0  | 1              |                |\n",
    "| 0  | 1  | 0              |                |\n",
    "| 1  | 1  | 1              |                |"
   ]
  },
  {
   "cell_type": "code",
   "execution_count": null,
   "metadata": {},
   "outputs": [],
   "source": [
    "# Modifica los pesos de esta función\n",
    "\n",
    "def perceptron_OR(x1: float, x2: float) -> float:\n",
    "    \"\"\"\n",
    "    Calcula la salida del perceptrón donde\n",
    "    x1, x2 son las entradas\n",
    "    W1, W2 son los pesos\n",
    "    B es el sesgo (bias)\n",
    "    \"\"\"\n",
    "    W1 = 0.1\n",
    "    W2 = 0.1\n",
    "    B = 0.1\n",
    "    \n",
    "    return fn_activacion(x1*W1 + x2*W2 + B)"
   ]
  },
  {
   "cell_type": "code",
   "execution_count": null,
   "metadata": {},
   "outputs": [],
   "source": [
    "# Corre esta celda para comprobar tu código\n",
    "for x1 in [0, 1]:\n",
    "    for x2 in [0, 1]:\n",
    "        print(f\"Entradas: {x1}, {x2} -> Salida: {perceptron_OR(x1, x2)}\")"
   ]
  },
  {
   "attachments": {},
   "cell_type": "markdown",
   "metadata": {},
   "source": [
    "Nota: Como podrán darse cuenta es muy difícil adivinar cuales son los pesos correctos. Más adelante veremos como podemos resolver este problema.\n",
    "\n",
    "<!-- Una solucion posible es W1=0.2, W2=0.5, B=0.5>"
   ]
  },
  {
   "attachments": {},
   "cell_type": "markdown",
   "metadata": {},
   "source": [
    "## Caso compuerta XOR"
   ]
  },
  {
   "attachments": {},
   "cell_type": "markdown",
   "metadata": {},
   "source": [
    "Como vimos en clases, el caso de la compuerta XOR no es linealmente separable. Para resolverlo, necesitamos una red neuronal con más de una capa.\n",
    "\n",
    "![Compuerta OR](imagenes/01_2/compuerta_XOR.png)"
   ]
  },
  {
   "cell_type": "code",
   "execution_count": null,
   "metadata": {},
   "outputs": [],
   "source": [
    "def perceptron_1(x1: float, x2: float) -> float:\n",
    "    \"\"\"\n",
    "    Calcula la salida del perceptrón donde\n",
    "    x1, x2 son las entradas\n",
    "    W1, W2 son los pesos\n",
    "    B es el sesgo (bias)\n",
    "    \"\"\"\n",
    "    W1 = -0.1\n",
    "    W2 = 0.5\n",
    "    B = 0.5\n",
    "    \n",
    "    return fn_activacion(x1*W1 + x2*W2 + B)\n",
    "\n",
    "\n",
    "def perceptron_2(x1: float, x2: float) -> float:\n",
    "    \"\"\"\n",
    "    Calcula la salida del perceptrón donde\n",
    "    x1, x2 son las entradas\n",
    "    W1, W2 son los pesos\n",
    "    B es el sesgo (bias)\n",
    "    \"\"\"\n",
    "    W1 = 0.5\n",
    "    W2 = -0.1\n",
    "    B = 0.5\n",
    "    \n",
    "    return fn_activacion(x1*W1 + x2*W2 + B)\n"
   ]
  },
  {
   "cell_type": "code",
   "execution_count": null,
   "metadata": {},
   "outputs": [],
   "source": [
    "def combinacion(x1: float, x2: float) -> float:\n",
    "    \"\"\"Esta funcion es la suma de los dos perceptrones anteriores\"\"\"\n",
    "    return fn_activacion(perceptron_1(x1, x2) + perceptron_2(x1, x2))"
   ]
  },
  {
   "cell_type": "code",
   "execution_count": null,
   "metadata": {},
   "outputs": [],
   "source": [
    "# Corre esta celda para comprobar tu código\n",
    "for x1 in [0, 1]:\n",
    "    for x2 in [0, 1]:\n",
    "        print(f\"Entradas: {x1}, {x2} -> Salida: {combinacion(x1, x2)}\")"
   ]
  },
  {
   "attachments": {},
   "cell_type": "markdown",
   "metadata": {},
   "source": [
    "Como puedes comprobar, obtenemos el resultado deseado."
   ]
  },
  {
   "attachments": {},
   "cell_type": "markdown",
   "metadata": {},
   "source": [
    "# Contenido Extra"
   ]
  },
  {
   "attachments": {},
   "cell_type": "markdown",
   "metadata": {},
   "source": [
    "El script `01_perceptron_Rosenblatt.py` contiene una implementación del perceptrón de Rosenblatt.\n",
    "\n",
    "Dentro de la función main() esta implementado un algoritmo para determinar automaticamente los pesos. Prueba a cambiar la `salida deseada` en la variable `CONJUNTO_ENTRENAMIENTO` (linea 23).\n",
    "\n"
   ]
  }
 ],
 "metadata": {
  "kernelspec": {
   "display_name": "py311",
   "language": "python",
   "name": "python3"
  },
  "language_info": {
   "codemirror_mode": {
    "name": "ipython",
    "version": 3
   },
   "file_extension": ".py",
   "mimetype": "text/x-python",
   "name": "python",
   "nbconvert_exporter": "python",
   "pygments_lexer": "ipython3",
   "version": "3.11.0"
  },
  "orig_nbformat": 4
 },
 "nbformat": 4,
 "nbformat_minor": 2
}
