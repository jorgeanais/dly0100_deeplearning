{
  "nbformat": 4,
  "nbformat_minor": 0,
  "metadata": {
    "colab": {
      "provenance": [],
      "toc_visible": true
    },
    "kernelspec": {
      "name": "python3",
      "display_name": "Python 3"
    },
    "language_info": {
      "name": "python"
    }
  },
  "cells": [
    {
      "cell_type": "markdown",
      "source": [
        "# Solución propuesta Evaluación 4\n",
        "\n",
        "Duoc UC  \n",
        "Deep Learning DLY0100-002V  \n",
        "Profesor Jorge Anais  \n",
        "Junio 2023  "
      ],
      "metadata": {
        "id": "bzebMOP2iiK5"
      }
    },
    {
      "cell_type": "markdown",
      "source": [
        "**Nota**: La imiplementación propuesta aquí es para propósitos pedagógicos, y puede ser altamente ineficiente en términos de cómputo."
      ],
      "metadata": {
        "id": "RnwCJK6dkXW8"
      }
    },
    {
      "cell_type": "code",
      "execution_count": 1,
      "metadata": {
        "id": "0TRRv1I_iV1c"
      },
      "outputs": [],
      "source": [
        "from keras.models import Model\n",
        "from keras.layers import Input, CuDNNLSTM, Dense\n",
        "import numpy as np\n",
        "import pandas as pd\n",
        "import re\n",
        "import string\n",
        "\n",
        "\n",
        "from numpy.random import seed\n",
        "seed(1123)\n",
        "\n",
        "import tensorflow\n",
        "tensorflow.random.set_seed(123)"
      ]
    },
    {
      "cell_type": "markdown",
      "source": [
        "## Cargar los datos y explorarlos"
      ],
      "metadata": {
        "id": "rmGj-xZZVd2n"
      }
    },
    {
      "cell_type": "markdown",
      "source": [
        "Cargamos los datos desde google drive"
      ],
      "metadata": {
        "id": "cTzv4d1Hipgx"
      }
    },
    {
      "cell_type": "code",
      "source": [
        "from google.colab import drive\n",
        "drive.mount('/content/drive')"
      ],
      "metadata": {
        "colab": {
          "base_uri": "https://localhost:8080/"
        },
        "id": "NEsOposUihMM",
        "outputId": "9d195fc2-c285-4b3e-e0fd-0902d2e709f5"
      },
      "execution_count": 2,
      "outputs": [
        {
          "output_type": "stream",
          "name": "stdout",
          "text": [
            "Drive already mounted at /content/drive; to attempt to forcibly remount, call drive.mount(\"/content/drive\", force_remount=True).\n"
          ]
        }
      ]
    },
    {
      "cell_type": "code",
      "source": [
        "data_path = \"/content/drive/MyDrive/2023-1/DLY0100/notebooks/ev4_jorge/TweetsClasificacion.csv\""
      ],
      "metadata": {
        "id": "ydLpZyEaihOI"
      },
      "execution_count": 3,
      "outputs": []
    },
    {
      "cell_type": "markdown",
      "source": [
        "Queremos entender como lucen nuestros datos. Note que colab corre sobre una máquina virtual linux, por lo tanto puede usar las mismas utilidades que cualquier máquina linux. En este caso, utilizo el programa `head` y `tail`, que muestra las primeras y últimas 10 líneas de un fichero, respectivamente.\n",
        "\n",
        "El comando `wc -l` nos permite contar el número de líneas\n",
        "\n",
        "No olvide anteponer un signo de exclamación antes de utilizar el comando."
      ],
      "metadata": {
        "id": "rT4m7XGhkvjH"
      }
    },
    {
      "cell_type": "code",
      "source": [
        "!head /content/drive/MyDrive/2023-1/DLY0100/notebooks/ev4_jorge/TweetsClasificacion.csv"
      ],
      "metadata": {
        "colab": {
          "base_uri": "https://localhost:8080/"
        },
        "id": "v0Twhd-zkyTF",
        "outputId": "622a986a-8d3d-4b62-8d32-a3f3528ccd14"
      },
      "execution_count": 4,
      "outputs": [
        {
          "output_type": "stream",
          "name": "stdout",
          "text": [
            "Positivo;I LOVE u guys r the best!!  http://bkite.com/06fuJ\r\n",
            "Positivo;im meeting up with one of my besties tonight! Cant wait!!  - GIRL TALK!!\r\n",
            "Positivo;Being sick can be really cheap when it hurts too much to eat real food  Plus, your friends make you soup\r\n",
            "Positivo;he has that effect on everyone \r\n",
            "Positivo;You can tell him that I just burst out laughing really loud because of that  Thanks for making me come out of my sulk!\r\n",
            "Positivo;Thans for your response. Ihad already find this answer \r\n",
            "Positivo;I am so jealous, hope you had a great time in vegas! how did you like the ACM's?! LOVE YOUR SHOW!! \r\n",
            "Positivo;ah, congrats mr fletcher for finally joining twitter \r\n",
            "Positivo;I RESPONDED  Stupid cat is helping me type. Forgive errors \r\n",
            "Positivo;crazy day of school. there for 10 hours straiiight. about to watch the hills. spencerpratt told me too! ha. happy birthday JB! \r\n"
          ]
        }
      ]
    },
    {
      "cell_type": "code",
      "source": [
        "!tail /content/drive/MyDrive/2023-1/DLY0100/notebooks/ev4_jorge/TweetsClasificacion.csv"
      ],
      "metadata": {
        "colab": {
          "base_uri": "https://localhost:8080/"
        },
        "id": "SP3lfOtyqcyp",
        "outputId": "cc999215-baae-4c20-b37f-7d6750f570d3"
      },
      "execution_count": 5,
      "outputs": [
        {
          "output_type": "stream",
          "name": "stdout",
          "text": [
            "Negativo;Just payed my WAY OVERDUE zta dues. Goodbye $350. That's a good two wks of work.  how depressing. Ruined my day....but at least it's done.\r\n",
            "Negativo;and I think it has a mind of its own,like it always ring when I'm taking a leak..jeez that makes whole thing embarrassingly musical \r\n",
            "Negativo; Banana will be playing later. BUT. Shell be playing with Caro.\r\n",
            "Negativo;read my tweet below \r\n",
            "Negativo;My life  http://mattf.ca/2009/06/24/yay-me/\r\n",
            "Negativo;Tried to get the mutant Fawkes to follow me but he wouldn't  it's so lonely without followers I have never had one :$\r\n",
            "Negativo;Sick  Spending my day laying in bed listening to taylorswift13\r\n",
            "Negativo;Gmail is down? \r\n",
            "Negativo;rest in peace Farrah! So sad \r\n",
            "Negativo;Sounds like a rival is flagging your ads. Not much you can do about that though\r\n"
          ]
        }
      ]
    },
    {
      "cell_type": "code",
      "source": [
        "!wc -l /content/drive/MyDrive/2023-1/DLY0100/notebooks/ev4_jorge/TweetsClasificacion.csv"
      ],
      "metadata": {
        "colab": {
          "base_uri": "https://localhost:8080/"
        },
        "id": "nPM3Bw-ks8lh",
        "outputId": "1e809711-2228-40d3-93ee-026c20d0637c"
      },
      "execution_count": 6,
      "outputs": [
        {
          "output_type": "stream",
          "name": "stdout",
          "text": [
            "1599997 /content/drive/MyDrive/2023-1/DLY0100/notebooks/ev4_jorge/TweetsClasificacion.csv\n"
          ]
        }
      ]
    },
    {
      "cell_type": "markdown",
      "source": [
        "Leemos el archivo utilizando pandas. Ahora sabemos que el separador utilizado es punto y coma, y que son dos columnas, donde la primera corresponde al sentimiento y la segunda al texto del *tweet*. Además el archivo tiene 1 millón y medio de líneas."
      ],
      "metadata": {
        "id": "8lJsXVL4saZG"
      }
    },
    {
      "cell_type": "code",
      "source": [
        "df = pd.read_csv(data_path, sep=\";\", header=None, names=[\"sentimiento\", \"texto\"])"
      ],
      "metadata": {
        "id": "u4mJsZd5sX4h"
      },
      "execution_count": 7,
      "outputs": []
    },
    {
      "cell_type": "code",
      "source": [
        "df"
      ],
      "metadata": {
        "colab": {
          "base_uri": "https://localhost:8080/",
          "height": 423
        },
        "id": "V5aCNLO-skKD",
        "outputId": "3bbedd64-b4c5-4790-c171-ba6ae2b63af3"
      },
      "execution_count": 8,
      "outputs": [
        {
          "output_type": "execute_result",
          "data": {
            "text/plain": [
              "        sentimiento                                              texto\n",
              "0          Positivo  I LOVE u guys r the best!!  http://bkite.com/0...\n",
              "1          Positivo  im meeting up with one of my besties tonight! ...\n",
              "2          Positivo  Being sick can be really cheap when it hurts t...\n",
              "3          Positivo                    he has that effect on everyone \n",
              "4          Positivo  You can tell him that I just burst out laughin...\n",
              "...             ...                                                ...\n",
              "1599992    Negativo  Tried to get the mutant Fawkes to follow me bu...\n",
              "1599993    Negativo  Sick  Spending my day laying in bed listening ...\n",
              "1599994    Negativo                                    Gmail is down? \n",
              "1599995    Negativo                      rest in peace Farrah! So sad \n",
              "1599996    Negativo  Sounds like a rival is flagging your ads. Not ...\n",
              "\n",
              "[1599997 rows x 2 columns]"
            ],
            "text/html": [
              "\n",
              "  <div id=\"df-ba40920f-0786-4436-8c09-97b14d59a3d2\">\n",
              "    <div class=\"colab-df-container\">\n",
              "      <div>\n",
              "<style scoped>\n",
              "    .dataframe tbody tr th:only-of-type {\n",
              "        vertical-align: middle;\n",
              "    }\n",
              "\n",
              "    .dataframe tbody tr th {\n",
              "        vertical-align: top;\n",
              "    }\n",
              "\n",
              "    .dataframe thead th {\n",
              "        text-align: right;\n",
              "    }\n",
              "</style>\n",
              "<table border=\"1\" class=\"dataframe\">\n",
              "  <thead>\n",
              "    <tr style=\"text-align: right;\">\n",
              "      <th></th>\n",
              "      <th>sentimiento</th>\n",
              "      <th>texto</th>\n",
              "    </tr>\n",
              "  </thead>\n",
              "  <tbody>\n",
              "    <tr>\n",
              "      <th>0</th>\n",
              "      <td>Positivo</td>\n",
              "      <td>I LOVE u guys r the best!!  http://bkite.com/0...</td>\n",
              "    </tr>\n",
              "    <tr>\n",
              "      <th>1</th>\n",
              "      <td>Positivo</td>\n",
              "      <td>im meeting up with one of my besties tonight! ...</td>\n",
              "    </tr>\n",
              "    <tr>\n",
              "      <th>2</th>\n",
              "      <td>Positivo</td>\n",
              "      <td>Being sick can be really cheap when it hurts t...</td>\n",
              "    </tr>\n",
              "    <tr>\n",
              "      <th>3</th>\n",
              "      <td>Positivo</td>\n",
              "      <td>he has that effect on everyone</td>\n",
              "    </tr>\n",
              "    <tr>\n",
              "      <th>4</th>\n",
              "      <td>Positivo</td>\n",
              "      <td>You can tell him that I just burst out laughin...</td>\n",
              "    </tr>\n",
              "    <tr>\n",
              "      <th>...</th>\n",
              "      <td>...</td>\n",
              "      <td>...</td>\n",
              "    </tr>\n",
              "    <tr>\n",
              "      <th>1599992</th>\n",
              "      <td>Negativo</td>\n",
              "      <td>Tried to get the mutant Fawkes to follow me bu...</td>\n",
              "    </tr>\n",
              "    <tr>\n",
              "      <th>1599993</th>\n",
              "      <td>Negativo</td>\n",
              "      <td>Sick  Spending my day laying in bed listening ...</td>\n",
              "    </tr>\n",
              "    <tr>\n",
              "      <th>1599994</th>\n",
              "      <td>Negativo</td>\n",
              "      <td>Gmail is down?</td>\n",
              "    </tr>\n",
              "    <tr>\n",
              "      <th>1599995</th>\n",
              "      <td>Negativo</td>\n",
              "      <td>rest in peace Farrah! So sad</td>\n",
              "    </tr>\n",
              "    <tr>\n",
              "      <th>1599996</th>\n",
              "      <td>Negativo</td>\n",
              "      <td>Sounds like a rival is flagging your ads. Not ...</td>\n",
              "    </tr>\n",
              "  </tbody>\n",
              "</table>\n",
              "<p>1599997 rows × 2 columns</p>\n",
              "</div>\n",
              "      <button class=\"colab-df-convert\" onclick=\"convertToInteractive('df-ba40920f-0786-4436-8c09-97b14d59a3d2')\"\n",
              "              title=\"Convert this dataframe to an interactive table.\"\n",
              "              style=\"display:none;\">\n",
              "        \n",
              "  <svg xmlns=\"http://www.w3.org/2000/svg\" height=\"24px\"viewBox=\"0 0 24 24\"\n",
              "       width=\"24px\">\n",
              "    <path d=\"M0 0h24v24H0V0z\" fill=\"none\"/>\n",
              "    <path d=\"M18.56 5.44l.94 2.06.94-2.06 2.06-.94-2.06-.94-.94-2.06-.94 2.06-2.06.94zm-11 1L8.5 8.5l.94-2.06 2.06-.94-2.06-.94L8.5 2.5l-.94 2.06-2.06.94zm10 10l.94 2.06.94-2.06 2.06-.94-2.06-.94-.94-2.06-.94 2.06-2.06.94z\"/><path d=\"M17.41 7.96l-1.37-1.37c-.4-.4-.92-.59-1.43-.59-.52 0-1.04.2-1.43.59L10.3 9.45l-7.72 7.72c-.78.78-.78 2.05 0 2.83L4 21.41c.39.39.9.59 1.41.59.51 0 1.02-.2 1.41-.59l7.78-7.78 2.81-2.81c.8-.78.8-2.07 0-2.86zM5.41 20L4 18.59l7.72-7.72 1.47 1.35L5.41 20z\"/>\n",
              "  </svg>\n",
              "      </button>\n",
              "      \n",
              "  <style>\n",
              "    .colab-df-container {\n",
              "      display:flex;\n",
              "      flex-wrap:wrap;\n",
              "      gap: 12px;\n",
              "    }\n",
              "\n",
              "    .colab-df-convert {\n",
              "      background-color: #E8F0FE;\n",
              "      border: none;\n",
              "      border-radius: 50%;\n",
              "      cursor: pointer;\n",
              "      display: none;\n",
              "      fill: #1967D2;\n",
              "      height: 32px;\n",
              "      padding: 0 0 0 0;\n",
              "      width: 32px;\n",
              "    }\n",
              "\n",
              "    .colab-df-convert:hover {\n",
              "      background-color: #E2EBFA;\n",
              "      box-shadow: 0px 1px 2px rgba(60, 64, 67, 0.3), 0px 1px 3px 1px rgba(60, 64, 67, 0.15);\n",
              "      fill: #174EA6;\n",
              "    }\n",
              "\n",
              "    [theme=dark] .colab-df-convert {\n",
              "      background-color: #3B4455;\n",
              "      fill: #D2E3FC;\n",
              "    }\n",
              "\n",
              "    [theme=dark] .colab-df-convert:hover {\n",
              "      background-color: #434B5C;\n",
              "      box-shadow: 0px 1px 3px 1px rgba(0, 0, 0, 0.15);\n",
              "      filter: drop-shadow(0px 1px 2px rgba(0, 0, 0, 0.3));\n",
              "      fill: #FFFFFF;\n",
              "    }\n",
              "  </style>\n",
              "\n",
              "      <script>\n",
              "        const buttonEl =\n",
              "          document.querySelector('#df-ba40920f-0786-4436-8c09-97b14d59a3d2 button.colab-df-convert');\n",
              "        buttonEl.style.display =\n",
              "          google.colab.kernel.accessAllowed ? 'block' : 'none';\n",
              "\n",
              "        async function convertToInteractive(key) {\n",
              "          const element = document.querySelector('#df-ba40920f-0786-4436-8c09-97b14d59a3d2');\n",
              "          const dataTable =\n",
              "            await google.colab.kernel.invokeFunction('convertToInteractive',\n",
              "                                                     [key], {});\n",
              "          if (!dataTable) return;\n",
              "\n",
              "          const docLinkHtml = 'Like what you see? Visit the ' +\n",
              "            '<a target=\"_blank\" href=https://colab.research.google.com/notebooks/data_table.ipynb>data table notebook</a>'\n",
              "            + ' to learn more about interactive tables.';\n",
              "          element.innerHTML = '';\n",
              "          dataTable['output_type'] = 'display_data';\n",
              "          await google.colab.output.renderOutput(dataTable, element);\n",
              "          const docLink = document.createElement('div');\n",
              "          docLink.innerHTML = docLinkHtml;\n",
              "          element.appendChild(docLink);\n",
              "        }\n",
              "      </script>\n",
              "    </div>\n",
              "  </div>\n",
              "  "
            ]
          },
          "metadata": {},
          "execution_count": 8
        }
      ]
    },
    {
      "cell_type": "markdown",
      "source": [
        "Para simplificar un poco nuestro análisis eliminaremos los simbolos muy rebuscados. Es decir, solo nos quedamos con los caracteres alfanuméricos y unos pocos simbolos (!\"#$%&'()*+,-./:;<=>?@[\\]^_`{|}~). Puede modificarlo si gusta, una opción interesante es solo utilizar carácteres alfanuméricos, dejando de lado los símbolos."
      ],
      "metadata": {
        "id": "nozP9v8W-aOa"
      }
    },
    {
      "cell_type": "code",
      "source": [
        "def remove_special_characters(text):\n",
        "\n",
        "    # Reemplazamos el caracter especial \\xa0 que representa un espacio\n",
        "    text = text.replace(u'\\xa0', u' ')\n",
        "\n",
        "    # Tambien eliminamos los tab y los reemplazamos por un espacio\n",
        "    text = text.replace(u'\\t', u' ')\n",
        "\n",
        "    # Definir el patrón de la expresión regular\n",
        "    pattern = r'[^a-zA-Z0-9\\s' + re.escape(string.punctuation) + ']'\n",
        "\n",
        "    # Remover los caracteres especiales\n",
        "    processed_text = re.sub(pattern, '', text)\n",
        "\n",
        "    return processed_text"
      ],
      "metadata": {
        "id": "OdFPv-Ty_L-4"
      },
      "execution_count": 9,
      "outputs": []
    },
    {
      "cell_type": "code",
      "source": [
        "df['texto_limpio'] = df['texto'].apply(remove_special_characters)"
      ],
      "metadata": {
        "id": "HM0_yt18_OXY"
      },
      "execution_count": 10,
      "outputs": []
    },
    {
      "cell_type": "code",
      "source": [
        "df"
      ],
      "metadata": {
        "colab": {
          "base_uri": "https://localhost:8080/",
          "height": 423
        },
        "id": "7xzEM-UkAz_m",
        "outputId": "10392558-13a1-4fd8-c91e-ab4e76ff8263"
      },
      "execution_count": 11,
      "outputs": [
        {
          "output_type": "execute_result",
          "data": {
            "text/plain": [
              "        sentimiento                                              texto  \\\n",
              "0          Positivo  I LOVE u guys r the best!!  http://bkite.com/0...   \n",
              "1          Positivo  im meeting up with one of my besties tonight! ...   \n",
              "2          Positivo  Being sick can be really cheap when it hurts t...   \n",
              "3          Positivo                    he has that effect on everyone    \n",
              "4          Positivo  You can tell him that I just burst out laughin...   \n",
              "...             ...                                                ...   \n",
              "1599992    Negativo  Tried to get the mutant Fawkes to follow me bu...   \n",
              "1599993    Negativo  Sick  Spending my day laying in bed listening ...   \n",
              "1599994    Negativo                                    Gmail is down?    \n",
              "1599995    Negativo                      rest in peace Farrah! So sad    \n",
              "1599996    Negativo  Sounds like a rival is flagging your ads. Not ...   \n",
              "\n",
              "                                              texto_limpio  \n",
              "0        I LOVE u guys r the best!!  http://bkite.com/0...  \n",
              "1        im meeting up with one of my besties tonight! ...  \n",
              "2        Being sick can be really cheap when it hurts t...  \n",
              "3                          he has that effect on everyone   \n",
              "4        You can tell him that I just burst out laughin...  \n",
              "...                                                    ...  \n",
              "1599992  Tried to get the mutant Fawkes to follow me bu...  \n",
              "1599993  Sick  Spending my day laying in bed listening ...  \n",
              "1599994                                    Gmail is down?   \n",
              "1599995                      rest in peace Farrah! So sad   \n",
              "1599996  Sounds like a rival is flagging your ads. Not ...  \n",
              "\n",
              "[1599997 rows x 3 columns]"
            ],
            "text/html": [
              "\n",
              "  <div id=\"df-aed0e211-b6eb-4543-a251-6d96971e983a\">\n",
              "    <div class=\"colab-df-container\">\n",
              "      <div>\n",
              "<style scoped>\n",
              "    .dataframe tbody tr th:only-of-type {\n",
              "        vertical-align: middle;\n",
              "    }\n",
              "\n",
              "    .dataframe tbody tr th {\n",
              "        vertical-align: top;\n",
              "    }\n",
              "\n",
              "    .dataframe thead th {\n",
              "        text-align: right;\n",
              "    }\n",
              "</style>\n",
              "<table border=\"1\" class=\"dataframe\">\n",
              "  <thead>\n",
              "    <tr style=\"text-align: right;\">\n",
              "      <th></th>\n",
              "      <th>sentimiento</th>\n",
              "      <th>texto</th>\n",
              "      <th>texto_limpio</th>\n",
              "    </tr>\n",
              "  </thead>\n",
              "  <tbody>\n",
              "    <tr>\n",
              "      <th>0</th>\n",
              "      <td>Positivo</td>\n",
              "      <td>I LOVE u guys r the best!!  http://bkite.com/0...</td>\n",
              "      <td>I LOVE u guys r the best!!  http://bkite.com/0...</td>\n",
              "    </tr>\n",
              "    <tr>\n",
              "      <th>1</th>\n",
              "      <td>Positivo</td>\n",
              "      <td>im meeting up with one of my besties tonight! ...</td>\n",
              "      <td>im meeting up with one of my besties tonight! ...</td>\n",
              "    </tr>\n",
              "    <tr>\n",
              "      <th>2</th>\n",
              "      <td>Positivo</td>\n",
              "      <td>Being sick can be really cheap when it hurts t...</td>\n",
              "      <td>Being sick can be really cheap when it hurts t...</td>\n",
              "    </tr>\n",
              "    <tr>\n",
              "      <th>3</th>\n",
              "      <td>Positivo</td>\n",
              "      <td>he has that effect on everyone</td>\n",
              "      <td>he has that effect on everyone</td>\n",
              "    </tr>\n",
              "    <tr>\n",
              "      <th>4</th>\n",
              "      <td>Positivo</td>\n",
              "      <td>You can tell him that I just burst out laughin...</td>\n",
              "      <td>You can tell him that I just burst out laughin...</td>\n",
              "    </tr>\n",
              "    <tr>\n",
              "      <th>...</th>\n",
              "      <td>...</td>\n",
              "      <td>...</td>\n",
              "      <td>...</td>\n",
              "    </tr>\n",
              "    <tr>\n",
              "      <th>1599992</th>\n",
              "      <td>Negativo</td>\n",
              "      <td>Tried to get the mutant Fawkes to follow me bu...</td>\n",
              "      <td>Tried to get the mutant Fawkes to follow me bu...</td>\n",
              "    </tr>\n",
              "    <tr>\n",
              "      <th>1599993</th>\n",
              "      <td>Negativo</td>\n",
              "      <td>Sick  Spending my day laying in bed listening ...</td>\n",
              "      <td>Sick  Spending my day laying in bed listening ...</td>\n",
              "    </tr>\n",
              "    <tr>\n",
              "      <th>1599994</th>\n",
              "      <td>Negativo</td>\n",
              "      <td>Gmail is down?</td>\n",
              "      <td>Gmail is down?</td>\n",
              "    </tr>\n",
              "    <tr>\n",
              "      <th>1599995</th>\n",
              "      <td>Negativo</td>\n",
              "      <td>rest in peace Farrah! So sad</td>\n",
              "      <td>rest in peace Farrah! So sad</td>\n",
              "    </tr>\n",
              "    <tr>\n",
              "      <th>1599996</th>\n",
              "      <td>Negativo</td>\n",
              "      <td>Sounds like a rival is flagging your ads. Not ...</td>\n",
              "      <td>Sounds like a rival is flagging your ads. Not ...</td>\n",
              "    </tr>\n",
              "  </tbody>\n",
              "</table>\n",
              "<p>1599997 rows × 3 columns</p>\n",
              "</div>\n",
              "      <button class=\"colab-df-convert\" onclick=\"convertToInteractive('df-aed0e211-b6eb-4543-a251-6d96971e983a')\"\n",
              "              title=\"Convert this dataframe to an interactive table.\"\n",
              "              style=\"display:none;\">\n",
              "        \n",
              "  <svg xmlns=\"http://www.w3.org/2000/svg\" height=\"24px\"viewBox=\"0 0 24 24\"\n",
              "       width=\"24px\">\n",
              "    <path d=\"M0 0h24v24H0V0z\" fill=\"none\"/>\n",
              "    <path d=\"M18.56 5.44l.94 2.06.94-2.06 2.06-.94-2.06-.94-.94-2.06-.94 2.06-2.06.94zm-11 1L8.5 8.5l.94-2.06 2.06-.94-2.06-.94L8.5 2.5l-.94 2.06-2.06.94zm10 10l.94 2.06.94-2.06 2.06-.94-2.06-.94-.94-2.06-.94 2.06-2.06.94z\"/><path d=\"M17.41 7.96l-1.37-1.37c-.4-.4-.92-.59-1.43-.59-.52 0-1.04.2-1.43.59L10.3 9.45l-7.72 7.72c-.78.78-.78 2.05 0 2.83L4 21.41c.39.39.9.59 1.41.59.51 0 1.02-.2 1.41-.59l7.78-7.78 2.81-2.81c.8-.78.8-2.07 0-2.86zM5.41 20L4 18.59l7.72-7.72 1.47 1.35L5.41 20z\"/>\n",
              "  </svg>\n",
              "      </button>\n",
              "      \n",
              "  <style>\n",
              "    .colab-df-container {\n",
              "      display:flex;\n",
              "      flex-wrap:wrap;\n",
              "      gap: 12px;\n",
              "    }\n",
              "\n",
              "    .colab-df-convert {\n",
              "      background-color: #E8F0FE;\n",
              "      border: none;\n",
              "      border-radius: 50%;\n",
              "      cursor: pointer;\n",
              "      display: none;\n",
              "      fill: #1967D2;\n",
              "      height: 32px;\n",
              "      padding: 0 0 0 0;\n",
              "      width: 32px;\n",
              "    }\n",
              "\n",
              "    .colab-df-convert:hover {\n",
              "      background-color: #E2EBFA;\n",
              "      box-shadow: 0px 1px 2px rgba(60, 64, 67, 0.3), 0px 1px 3px 1px rgba(60, 64, 67, 0.15);\n",
              "      fill: #174EA6;\n",
              "    }\n",
              "\n",
              "    [theme=dark] .colab-df-convert {\n",
              "      background-color: #3B4455;\n",
              "      fill: #D2E3FC;\n",
              "    }\n",
              "\n",
              "    [theme=dark] .colab-df-convert:hover {\n",
              "      background-color: #434B5C;\n",
              "      box-shadow: 0px 1px 3px 1px rgba(0, 0, 0, 0.15);\n",
              "      filter: drop-shadow(0px 1px 2px rgba(0, 0, 0, 0.3));\n",
              "      fill: #FFFFFF;\n",
              "    }\n",
              "  </style>\n",
              "\n",
              "      <script>\n",
              "        const buttonEl =\n",
              "          document.querySelector('#df-aed0e211-b6eb-4543-a251-6d96971e983a button.colab-df-convert');\n",
              "        buttonEl.style.display =\n",
              "          google.colab.kernel.accessAllowed ? 'block' : 'none';\n",
              "\n",
              "        async function convertToInteractive(key) {\n",
              "          const element = document.querySelector('#df-aed0e211-b6eb-4543-a251-6d96971e983a');\n",
              "          const dataTable =\n",
              "            await google.colab.kernel.invokeFunction('convertToInteractive',\n",
              "                                                     [key], {});\n",
              "          if (!dataTable) return;\n",
              "\n",
              "          const docLinkHtml = 'Like what you see? Visit the ' +\n",
              "            '<a target=\"_blank\" href=https://colab.research.google.com/notebooks/data_table.ipynb>data table notebook</a>'\n",
              "            + ' to learn more about interactive tables.';\n",
              "          element.innerHTML = '';\n",
              "          dataTable['output_type'] = 'display_data';\n",
              "          await google.colab.output.renderOutput(dataTable, element);\n",
              "          const docLink = document.createElement('div');\n",
              "          docLink.innerHTML = docLinkHtml;\n",
              "          element.appendChild(docLink);\n",
              "        }\n",
              "      </script>\n",
              "    </div>\n",
              "  </div>\n",
              "  "
            ]
          },
          "metadata": {},
          "execution_count": 11
        }
      ]
    },
    {
      "cell_type": "markdown",
      "source": [
        "Primero transformaremos los sentimientos guardados en la lista labels en una variable numérica. 0 para negativo y 1 para positivo. Para eso utilizaré un diccionario que contiene la transformación"
      ],
      "metadata": {
        "id": "-h_yJeJXqN0A"
      }
    },
    {
      "cell_type": "code",
      "source": [
        "transf_sentimiento = {\n",
        "    'Negativo': 0,\n",
        "    'Positivo': 1,\n",
        "}"
      ],
      "metadata": {
        "id": "OLJ0CU2DuB0Y"
      },
      "execution_count": 12,
      "outputs": []
    },
    {
      "cell_type": "code",
      "source": [
        "df['sentimiento_numerico'] = df['sentimiento'].map(transf_sentimiento)"
      ],
      "metadata": {
        "id": "EyToBfpXuFGq"
      },
      "execution_count": 13,
      "outputs": []
    },
    {
      "cell_type": "code",
      "source": [
        "df"
      ],
      "metadata": {
        "colab": {
          "base_uri": "https://localhost:8080/",
          "height": 485
        },
        "id": "UYBi8LjJuVQ4",
        "outputId": "81bdd851-abb6-4128-e44d-049787414f95"
      },
      "execution_count": 14,
      "outputs": [
        {
          "output_type": "execute_result",
          "data": {
            "text/plain": [
              "        sentimiento                                              texto  \\\n",
              "0          Positivo  I LOVE u guys r the best!!  http://bkite.com/0...   \n",
              "1          Positivo  im meeting up with one of my besties tonight! ...   \n",
              "2          Positivo  Being sick can be really cheap when it hurts t...   \n",
              "3          Positivo                    he has that effect on everyone    \n",
              "4          Positivo  You can tell him that I just burst out laughin...   \n",
              "...             ...                                                ...   \n",
              "1599992    Negativo  Tried to get the mutant Fawkes to follow me bu...   \n",
              "1599993    Negativo  Sick  Spending my day laying in bed listening ...   \n",
              "1599994    Negativo                                    Gmail is down?    \n",
              "1599995    Negativo                      rest in peace Farrah! So sad    \n",
              "1599996    Negativo  Sounds like a rival is flagging your ads. Not ...   \n",
              "\n",
              "                                              texto_limpio  \\\n",
              "0        I LOVE u guys r the best!!  http://bkite.com/0...   \n",
              "1        im meeting up with one of my besties tonight! ...   \n",
              "2        Being sick can be really cheap when it hurts t...   \n",
              "3                          he has that effect on everyone    \n",
              "4        You can tell him that I just burst out laughin...   \n",
              "...                                                    ...   \n",
              "1599992  Tried to get the mutant Fawkes to follow me bu...   \n",
              "1599993  Sick  Spending my day laying in bed listening ...   \n",
              "1599994                                    Gmail is down?    \n",
              "1599995                      rest in peace Farrah! So sad    \n",
              "1599996  Sounds like a rival is flagging your ads. Not ...   \n",
              "\n",
              "         sentimiento_numerico  \n",
              "0                           1  \n",
              "1                           1  \n",
              "2                           1  \n",
              "3                           1  \n",
              "4                           1  \n",
              "...                       ...  \n",
              "1599992                     0  \n",
              "1599993                     0  \n",
              "1599994                     0  \n",
              "1599995                     0  \n",
              "1599996                     0  \n",
              "\n",
              "[1599997 rows x 4 columns]"
            ],
            "text/html": [
              "\n",
              "  <div id=\"df-99832bd8-a9a4-40f6-87de-71b65c28ed43\">\n",
              "    <div class=\"colab-df-container\">\n",
              "      <div>\n",
              "<style scoped>\n",
              "    .dataframe tbody tr th:only-of-type {\n",
              "        vertical-align: middle;\n",
              "    }\n",
              "\n",
              "    .dataframe tbody tr th {\n",
              "        vertical-align: top;\n",
              "    }\n",
              "\n",
              "    .dataframe thead th {\n",
              "        text-align: right;\n",
              "    }\n",
              "</style>\n",
              "<table border=\"1\" class=\"dataframe\">\n",
              "  <thead>\n",
              "    <tr style=\"text-align: right;\">\n",
              "      <th></th>\n",
              "      <th>sentimiento</th>\n",
              "      <th>texto</th>\n",
              "      <th>texto_limpio</th>\n",
              "      <th>sentimiento_numerico</th>\n",
              "    </tr>\n",
              "  </thead>\n",
              "  <tbody>\n",
              "    <tr>\n",
              "      <th>0</th>\n",
              "      <td>Positivo</td>\n",
              "      <td>I LOVE u guys r the best!!  http://bkite.com/0...</td>\n",
              "      <td>I LOVE u guys r the best!!  http://bkite.com/0...</td>\n",
              "      <td>1</td>\n",
              "    </tr>\n",
              "    <tr>\n",
              "      <th>1</th>\n",
              "      <td>Positivo</td>\n",
              "      <td>im meeting up with one of my besties tonight! ...</td>\n",
              "      <td>im meeting up with one of my besties tonight! ...</td>\n",
              "      <td>1</td>\n",
              "    </tr>\n",
              "    <tr>\n",
              "      <th>2</th>\n",
              "      <td>Positivo</td>\n",
              "      <td>Being sick can be really cheap when it hurts t...</td>\n",
              "      <td>Being sick can be really cheap when it hurts t...</td>\n",
              "      <td>1</td>\n",
              "    </tr>\n",
              "    <tr>\n",
              "      <th>3</th>\n",
              "      <td>Positivo</td>\n",
              "      <td>he has that effect on everyone</td>\n",
              "      <td>he has that effect on everyone</td>\n",
              "      <td>1</td>\n",
              "    </tr>\n",
              "    <tr>\n",
              "      <th>4</th>\n",
              "      <td>Positivo</td>\n",
              "      <td>You can tell him that I just burst out laughin...</td>\n",
              "      <td>You can tell him that I just burst out laughin...</td>\n",
              "      <td>1</td>\n",
              "    </tr>\n",
              "    <tr>\n",
              "      <th>...</th>\n",
              "      <td>...</td>\n",
              "      <td>...</td>\n",
              "      <td>...</td>\n",
              "      <td>...</td>\n",
              "    </tr>\n",
              "    <tr>\n",
              "      <th>1599992</th>\n",
              "      <td>Negativo</td>\n",
              "      <td>Tried to get the mutant Fawkes to follow me bu...</td>\n",
              "      <td>Tried to get the mutant Fawkes to follow me bu...</td>\n",
              "      <td>0</td>\n",
              "    </tr>\n",
              "    <tr>\n",
              "      <th>1599993</th>\n",
              "      <td>Negativo</td>\n",
              "      <td>Sick  Spending my day laying in bed listening ...</td>\n",
              "      <td>Sick  Spending my day laying in bed listening ...</td>\n",
              "      <td>0</td>\n",
              "    </tr>\n",
              "    <tr>\n",
              "      <th>1599994</th>\n",
              "      <td>Negativo</td>\n",
              "      <td>Gmail is down?</td>\n",
              "      <td>Gmail is down?</td>\n",
              "      <td>0</td>\n",
              "    </tr>\n",
              "    <tr>\n",
              "      <th>1599995</th>\n",
              "      <td>Negativo</td>\n",
              "      <td>rest in peace Farrah! So sad</td>\n",
              "      <td>rest in peace Farrah! So sad</td>\n",
              "      <td>0</td>\n",
              "    </tr>\n",
              "    <tr>\n",
              "      <th>1599996</th>\n",
              "      <td>Negativo</td>\n",
              "      <td>Sounds like a rival is flagging your ads. Not ...</td>\n",
              "      <td>Sounds like a rival is flagging your ads. Not ...</td>\n",
              "      <td>0</td>\n",
              "    </tr>\n",
              "  </tbody>\n",
              "</table>\n",
              "<p>1599997 rows × 4 columns</p>\n",
              "</div>\n",
              "      <button class=\"colab-df-convert\" onclick=\"convertToInteractive('df-99832bd8-a9a4-40f6-87de-71b65c28ed43')\"\n",
              "              title=\"Convert this dataframe to an interactive table.\"\n",
              "              style=\"display:none;\">\n",
              "        \n",
              "  <svg xmlns=\"http://www.w3.org/2000/svg\" height=\"24px\"viewBox=\"0 0 24 24\"\n",
              "       width=\"24px\">\n",
              "    <path d=\"M0 0h24v24H0V0z\" fill=\"none\"/>\n",
              "    <path d=\"M18.56 5.44l.94 2.06.94-2.06 2.06-.94-2.06-.94-.94-2.06-.94 2.06-2.06.94zm-11 1L8.5 8.5l.94-2.06 2.06-.94-2.06-.94L8.5 2.5l-.94 2.06-2.06.94zm10 10l.94 2.06.94-2.06 2.06-.94-2.06-.94-.94-2.06-.94 2.06-2.06.94z\"/><path d=\"M17.41 7.96l-1.37-1.37c-.4-.4-.92-.59-1.43-.59-.52 0-1.04.2-1.43.59L10.3 9.45l-7.72 7.72c-.78.78-.78 2.05 0 2.83L4 21.41c.39.39.9.59 1.41.59.51 0 1.02-.2 1.41-.59l7.78-7.78 2.81-2.81c.8-.78.8-2.07 0-2.86zM5.41 20L4 18.59l7.72-7.72 1.47 1.35L5.41 20z\"/>\n",
              "  </svg>\n",
              "      </button>\n",
              "      \n",
              "  <style>\n",
              "    .colab-df-container {\n",
              "      display:flex;\n",
              "      flex-wrap:wrap;\n",
              "      gap: 12px;\n",
              "    }\n",
              "\n",
              "    .colab-df-convert {\n",
              "      background-color: #E8F0FE;\n",
              "      border: none;\n",
              "      border-radius: 50%;\n",
              "      cursor: pointer;\n",
              "      display: none;\n",
              "      fill: #1967D2;\n",
              "      height: 32px;\n",
              "      padding: 0 0 0 0;\n",
              "      width: 32px;\n",
              "    }\n",
              "\n",
              "    .colab-df-convert:hover {\n",
              "      background-color: #E2EBFA;\n",
              "      box-shadow: 0px 1px 2px rgba(60, 64, 67, 0.3), 0px 1px 3px 1px rgba(60, 64, 67, 0.15);\n",
              "      fill: #174EA6;\n",
              "    }\n",
              "\n",
              "    [theme=dark] .colab-df-convert {\n",
              "      background-color: #3B4455;\n",
              "      fill: #D2E3FC;\n",
              "    }\n",
              "\n",
              "    [theme=dark] .colab-df-convert:hover {\n",
              "      background-color: #434B5C;\n",
              "      box-shadow: 0px 1px 3px 1px rgba(0, 0, 0, 0.15);\n",
              "      filter: drop-shadow(0px 1px 2px rgba(0, 0, 0, 0.3));\n",
              "      fill: #FFFFFF;\n",
              "    }\n",
              "  </style>\n",
              "\n",
              "      <script>\n",
              "        const buttonEl =\n",
              "          document.querySelector('#df-99832bd8-a9a4-40f6-87de-71b65c28ed43 button.colab-df-convert');\n",
              "        buttonEl.style.display =\n",
              "          google.colab.kernel.accessAllowed ? 'block' : 'none';\n",
              "\n",
              "        async function convertToInteractive(key) {\n",
              "          const element = document.querySelector('#df-99832bd8-a9a4-40f6-87de-71b65c28ed43');\n",
              "          const dataTable =\n",
              "            await google.colab.kernel.invokeFunction('convertToInteractive',\n",
              "                                                     [key], {});\n",
              "          if (!dataTable) return;\n",
              "\n",
              "          const docLinkHtml = 'Like what you see? Visit the ' +\n",
              "            '<a target=\"_blank\" href=https://colab.research.google.com/notebooks/data_table.ipynb>data table notebook</a>'\n",
              "            + ' to learn more about interactive tables.';\n",
              "          element.innerHTML = '';\n",
              "          dataTable['output_type'] = 'display_data';\n",
              "          await google.colab.output.renderOutput(dataTable, element);\n",
              "          const docLink = document.createElement('div');\n",
              "          docLink.innerHTML = docLinkHtml;\n",
              "          element.appendChild(docLink);\n",
              "        }\n",
              "      </script>\n",
              "    </div>\n",
              "  </div>\n",
              "  "
            ]
          },
          "metadata": {},
          "execution_count": 14
        }
      ]
    },
    {
      "cell_type": "markdown",
      "source": [
        "El conjunto de datos tiene más de un millón y medio de *tweets*. Sin pérdida de generalidad, tomaremos una muestra más pequeña, de 10000 *tweets*, que nos permita entrenar nuestra red recurrente en un tiempo razonable."
      ],
      "metadata": {
        "id": "quy9bCWPu2tk"
      }
    },
    {
      "cell_type": "code",
      "source": [
        "muestra_df = df.sample(n=10000)"
      ],
      "metadata": {
        "id": "f7QRVa4vvm_G"
      },
      "execution_count": 15,
      "outputs": []
    },
    {
      "cell_type": "markdown",
      "source": [
        "Nos cercioramos que tenemos una cantidad similar de ejemplos negativos y positivos."
      ],
      "metadata": {
        "id": "yp3IrfH-wL8T"
      }
    },
    {
      "cell_type": "code",
      "source": [
        "muestra_df.groupby(\"sentimiento\").count()"
      ],
      "metadata": {
        "colab": {
          "base_uri": "https://localhost:8080/",
          "height": 143
        },
        "id": "zMDes-pNv-1q",
        "outputId": "cc50e5c5-a11d-4221-915a-496ab9454950"
      },
      "execution_count": 16,
      "outputs": [
        {
          "output_type": "execute_result",
          "data": {
            "text/plain": [
              "             texto  texto_limpio  sentimiento_numerico\n",
              "sentimiento                                           \n",
              "Negativo      5087          5087                  5087\n",
              "Positivo      4913          4913                  4913"
            ],
            "text/html": [
              "\n",
              "  <div id=\"df-58770f02-a107-4b50-97b7-f557fcaf5d2e\">\n",
              "    <div class=\"colab-df-container\">\n",
              "      <div>\n",
              "<style scoped>\n",
              "    .dataframe tbody tr th:only-of-type {\n",
              "        vertical-align: middle;\n",
              "    }\n",
              "\n",
              "    .dataframe tbody tr th {\n",
              "        vertical-align: top;\n",
              "    }\n",
              "\n",
              "    .dataframe thead th {\n",
              "        text-align: right;\n",
              "    }\n",
              "</style>\n",
              "<table border=\"1\" class=\"dataframe\">\n",
              "  <thead>\n",
              "    <tr style=\"text-align: right;\">\n",
              "      <th></th>\n",
              "      <th>texto</th>\n",
              "      <th>texto_limpio</th>\n",
              "      <th>sentimiento_numerico</th>\n",
              "    </tr>\n",
              "    <tr>\n",
              "      <th>sentimiento</th>\n",
              "      <th></th>\n",
              "      <th></th>\n",
              "      <th></th>\n",
              "    </tr>\n",
              "  </thead>\n",
              "  <tbody>\n",
              "    <tr>\n",
              "      <th>Negativo</th>\n",
              "      <td>5087</td>\n",
              "      <td>5087</td>\n",
              "      <td>5087</td>\n",
              "    </tr>\n",
              "    <tr>\n",
              "      <th>Positivo</th>\n",
              "      <td>4913</td>\n",
              "      <td>4913</td>\n",
              "      <td>4913</td>\n",
              "    </tr>\n",
              "  </tbody>\n",
              "</table>\n",
              "</div>\n",
              "      <button class=\"colab-df-convert\" onclick=\"convertToInteractive('df-58770f02-a107-4b50-97b7-f557fcaf5d2e')\"\n",
              "              title=\"Convert this dataframe to an interactive table.\"\n",
              "              style=\"display:none;\">\n",
              "        \n",
              "  <svg xmlns=\"http://www.w3.org/2000/svg\" height=\"24px\"viewBox=\"0 0 24 24\"\n",
              "       width=\"24px\">\n",
              "    <path d=\"M0 0h24v24H0V0z\" fill=\"none\"/>\n",
              "    <path d=\"M18.56 5.44l.94 2.06.94-2.06 2.06-.94-2.06-.94-.94-2.06-.94 2.06-2.06.94zm-11 1L8.5 8.5l.94-2.06 2.06-.94-2.06-.94L8.5 2.5l-.94 2.06-2.06.94zm10 10l.94 2.06.94-2.06 2.06-.94-2.06-.94-.94-2.06-.94 2.06-2.06.94z\"/><path d=\"M17.41 7.96l-1.37-1.37c-.4-.4-.92-.59-1.43-.59-.52 0-1.04.2-1.43.59L10.3 9.45l-7.72 7.72c-.78.78-.78 2.05 0 2.83L4 21.41c.39.39.9.59 1.41.59.51 0 1.02-.2 1.41-.59l7.78-7.78 2.81-2.81c.8-.78.8-2.07 0-2.86zM5.41 20L4 18.59l7.72-7.72 1.47 1.35L5.41 20z\"/>\n",
              "  </svg>\n",
              "      </button>\n",
              "      \n",
              "  <style>\n",
              "    .colab-df-container {\n",
              "      display:flex;\n",
              "      flex-wrap:wrap;\n",
              "      gap: 12px;\n",
              "    }\n",
              "\n",
              "    .colab-df-convert {\n",
              "      background-color: #E8F0FE;\n",
              "      border: none;\n",
              "      border-radius: 50%;\n",
              "      cursor: pointer;\n",
              "      display: none;\n",
              "      fill: #1967D2;\n",
              "      height: 32px;\n",
              "      padding: 0 0 0 0;\n",
              "      width: 32px;\n",
              "    }\n",
              "\n",
              "    .colab-df-convert:hover {\n",
              "      background-color: #E2EBFA;\n",
              "      box-shadow: 0px 1px 2px rgba(60, 64, 67, 0.3), 0px 1px 3px 1px rgba(60, 64, 67, 0.15);\n",
              "      fill: #174EA6;\n",
              "    }\n",
              "\n",
              "    [theme=dark] .colab-df-convert {\n",
              "      background-color: #3B4455;\n",
              "      fill: #D2E3FC;\n",
              "    }\n",
              "\n",
              "    [theme=dark] .colab-df-convert:hover {\n",
              "      background-color: #434B5C;\n",
              "      box-shadow: 0px 1px 3px 1px rgba(0, 0, 0, 0.15);\n",
              "      filter: drop-shadow(0px 1px 2px rgba(0, 0, 0, 0.3));\n",
              "      fill: #FFFFFF;\n",
              "    }\n",
              "  </style>\n",
              "\n",
              "      <script>\n",
              "        const buttonEl =\n",
              "          document.querySelector('#df-58770f02-a107-4b50-97b7-f557fcaf5d2e button.colab-df-convert');\n",
              "        buttonEl.style.display =\n",
              "          google.colab.kernel.accessAllowed ? 'block' : 'none';\n",
              "\n",
              "        async function convertToInteractive(key) {\n",
              "          const element = document.querySelector('#df-58770f02-a107-4b50-97b7-f557fcaf5d2e');\n",
              "          const dataTable =\n",
              "            await google.colab.kernel.invokeFunction('convertToInteractive',\n",
              "                                                     [key], {});\n",
              "          if (!dataTable) return;\n",
              "\n",
              "          const docLinkHtml = 'Like what you see? Visit the ' +\n",
              "            '<a target=\"_blank\" href=https://colab.research.google.com/notebooks/data_table.ipynb>data table notebook</a>'\n",
              "            + ' to learn more about interactive tables.';\n",
              "          element.innerHTML = '';\n",
              "          dataTable['output_type'] = 'display_data';\n",
              "          await google.colab.output.renderOutput(dataTable, element);\n",
              "          const docLink = document.createElement('div');\n",
              "          docLink.innerHTML = docLinkHtml;\n",
              "          element.appendChild(docLink);\n",
              "        }\n",
              "      </script>\n",
              "    </div>\n",
              "  </div>\n",
              "  "
            ]
          },
          "metadata": {},
          "execution_count": 16
        }
      ]
    },
    {
      "cell_type": "markdown",
      "source": [
        "Ahora transformaremos los textos en secuencias numéricas. Para ello necesitamos hacer un \"mapeo\" de carácteres a números. Lo que haremos será primero ver que carácteres tenemos en nuestro conjunto de datos, y luego darle a cada uno de ellos un número único. Para ello utilizaremos el siguiente código que nos retorna un `set` con los caracteres que no se repiten y que estan presentes en nuestra muestra (ref: https://stackoverflow.com/questions/44226628/get-unique-list-of-chars-used-in-a-given-column). Note que por definición, un `set` en python es un conjunto de elementos únicos ¡justo lo que necesitamos!."
      ],
      "metadata": {
        "id": "A8560eC1wapo"
      }
    },
    {
      "cell_type": "code",
      "source": [
        "input_characters = set(muestra_df['texto_limpio'].apply(list).sum())"
      ],
      "metadata": {
        "id": "4MV2dDu7wUjy"
      },
      "execution_count": 17,
      "outputs": []
    },
    {
      "cell_type": "code",
      "source": [
        "input_characters = sorted(list(input_characters))\n",
        "input_characters"
      ],
      "metadata": {
        "colab": {
          "base_uri": "https://localhost:8080/"
        },
        "id": "Zyk-p7ZczJex",
        "outputId": "cae3c909-366f-4157-a1a4-8ce987ef5afa"
      },
      "execution_count": 18,
      "outputs": [
        {
          "output_type": "execute_result",
          "data": {
            "text/plain": [
              "[' ',\n",
              " '!',\n",
              " '#',\n",
              " '$',\n",
              " '%',\n",
              " '&',\n",
              " \"'\",\n",
              " '(',\n",
              " ')',\n",
              " '*',\n",
              " '+',\n",
              " ',',\n",
              " '-',\n",
              " '.',\n",
              " '/',\n",
              " '0',\n",
              " '1',\n",
              " '2',\n",
              " '3',\n",
              " '4',\n",
              " '5',\n",
              " '6',\n",
              " '7',\n",
              " '8',\n",
              " '9',\n",
              " ':',\n",
              " '=',\n",
              " '?',\n",
              " 'A',\n",
              " 'B',\n",
              " 'C',\n",
              " 'D',\n",
              " 'E',\n",
              " 'F',\n",
              " 'G',\n",
              " 'H',\n",
              " 'I',\n",
              " 'J',\n",
              " 'K',\n",
              " 'L',\n",
              " 'M',\n",
              " 'N',\n",
              " 'O',\n",
              " 'P',\n",
              " 'Q',\n",
              " 'R',\n",
              " 'S',\n",
              " 'T',\n",
              " 'U',\n",
              " 'V',\n",
              " 'W',\n",
              " 'X',\n",
              " 'Y',\n",
              " 'Z',\n",
              " '[',\n",
              " '\\\\',\n",
              " ']',\n",
              " '^',\n",
              " '_',\n",
              " '`',\n",
              " 'a',\n",
              " 'b',\n",
              " 'c',\n",
              " 'd',\n",
              " 'e',\n",
              " 'f',\n",
              " 'g',\n",
              " 'h',\n",
              " 'i',\n",
              " 'j',\n",
              " 'k',\n",
              " 'l',\n",
              " 'm',\n",
              " 'n',\n",
              " 'o',\n",
              " 'p',\n",
              " 'q',\n",
              " 'r',\n",
              " 's',\n",
              " 't',\n",
              " 'u',\n",
              " 'v',\n",
              " 'w',\n",
              " 'x',\n",
              " 'y',\n",
              " 'z',\n",
              " '{',\n",
              " '|',\n",
              " '}',\n",
              " '~']"
            ]
          },
          "metadata": {},
          "execution_count": 18
        }
      ]
    },
    {
      "cell_type": "markdown",
      "source": [
        "A cada caracter le asignamos un numero según el orden en que están en nuestra lista. También creamos la transformación contraria, por si nos es útil más adelante."
      ],
      "metadata": {
        "id": "WvFqgzRczMKd"
      }
    },
    {
      "cell_type": "code",
      "source": [
        "transf_char_to_num = {char: i for i, char in enumerate(input_characters)}\n",
        "transf_num_to_char = dict((i, c) for i, c in enumerate(input_characters))"
      ],
      "metadata": {
        "id": "eZkmaNXizUda"
      },
      "execution_count": 19,
      "outputs": []
    },
    {
      "cell_type": "markdown",
      "source": [
        "Ahora aplicamos la trasnformación anterior a nuestros datos"
      ],
      "metadata": {
        "id": "dp-FzV_M08oy"
      }
    },
    {
      "cell_type": "code",
      "source": [
        "def transform_sentence_to_numbers(sentence):\n",
        "    return [transf_char_to_num[char] for char in sentence]"
      ],
      "metadata": {
        "id": "jxqQeAGK073R"
      },
      "execution_count": 20,
      "outputs": []
    },
    {
      "cell_type": "code",
      "source": [
        " muestra_df['texto_numerico'] = muestra_df['texto_limpio'].map(transform_sentence_to_numbers)"
      ],
      "metadata": {
        "id": "O7IvUh1FIdPc"
      },
      "execution_count": 21,
      "outputs": []
    },
    {
      "cell_type": "code",
      "source": [
        "muestra_df"
      ],
      "metadata": {
        "colab": {
          "base_uri": "https://localhost:8080/",
          "height": 641
        },
        "id": "WHG3t2a2FUlC",
        "outputId": "860b8593-8fa9-4b54-8de0-989f745bd556"
      },
      "execution_count": 22,
      "outputs": [
        {
          "output_type": "execute_result",
          "data": {
            "text/plain": [
              "        sentimiento                                              texto  \\\n",
              "6459       Positivo  Gimme that $1m, we'll take a tour to the UK, a...   \n",
              "429715     Positivo  is watching *You've Got Mail* on HBO.  http://...   \n",
              "314062     Positivo         bored! anyone wanna do something? txt me!    \n",
              "803930     Negativo                             ARGH! GEESE ATTACK!!!    \n",
              "21234      Positivo                          is LOVING this weather!!    \n",
              "...             ...                                                ...   \n",
              "25927      Positivo                     Happy Sunday to you as well.     \n",
              "113942     Positivo  Is finally back from the dinner party, had fun...   \n",
              "252513     Positivo                             xD gives me many lols    \n",
              "712487     Positivo                                      Just got it!    \n",
              "1000513    Negativo                                    whats going on?   \n",
              "\n",
              "                                              texto_limpio  \\\n",
              "6459     Gimme that $1m, we'll take a tour to the UK, a...   \n",
              "429715   is watching *You've Got Mail* on HBO.  http://...   \n",
              "314062          bored! anyone wanna do something? txt me!    \n",
              "803930                              ARGH! GEESE ATTACK!!!    \n",
              "21234                            is LOVING this weather!!    \n",
              "...                                                    ...   \n",
              "25927                       Happy Sunday to you as well.     \n",
              "113942   Is finally back from the dinner party, had fun...   \n",
              "252513                              xD gives me many lols    \n",
              "712487                                       Just got it!    \n",
              "1000513                                    whats going on?   \n",
              "\n",
              "         sentimiento_numerico  \\\n",
              "6459                        1   \n",
              "429715                      1   \n",
              "314062                      1   \n",
              "803930                      0   \n",
              "21234                       1   \n",
              "...                       ...   \n",
              "25927                       1   \n",
              "113942                      1   \n",
              "252513                      1   \n",
              "712487                      1   \n",
              "1000513                     0   \n",
              "\n",
              "                                            texto_numerico  \n",
              "6459     [34, 68, 72, 72, 64, 0, 79, 67, 60, 79, 0, 3, ...  \n",
              "429715   [68, 78, 0, 82, 60, 79, 62, 67, 68, 73, 66, 0,...  \n",
              "314062   [61, 74, 77, 64, 63, 1, 0, 60, 73, 84, 74, 73,...  \n",
              "803930   [28, 45, 34, 35, 1, 0, 34, 32, 32, 46, 32, 0, ...  \n",
              "21234    [68, 78, 0, 39, 42, 49, 36, 41, 34, 0, 79, 67,...  \n",
              "...                                                    ...  \n",
              "25927    [35, 60, 75, 75, 84, 0, 46, 80, 73, 63, 60, 84...  \n",
              "113942   [36, 78, 0, 65, 68, 73, 60, 71, 71, 84, 0, 61,...  \n",
              "252513   [83, 31, 0, 66, 68, 81, 64, 78, 0, 72, 64, 0, ...  \n",
              "712487    [37, 80, 78, 79, 0, 66, 74, 79, 0, 68, 79, 1, 0]  \n",
              "1000513  [0, 82, 67, 60, 79, 78, 0, 66, 74, 68, 73, 66,...  \n",
              "\n",
              "[10000 rows x 5 columns]"
            ],
            "text/html": [
              "\n",
              "  <div id=\"df-b89263da-e677-4dad-8471-8c3fc4f54b18\">\n",
              "    <div class=\"colab-df-container\">\n",
              "      <div>\n",
              "<style scoped>\n",
              "    .dataframe tbody tr th:only-of-type {\n",
              "        vertical-align: middle;\n",
              "    }\n",
              "\n",
              "    .dataframe tbody tr th {\n",
              "        vertical-align: top;\n",
              "    }\n",
              "\n",
              "    .dataframe thead th {\n",
              "        text-align: right;\n",
              "    }\n",
              "</style>\n",
              "<table border=\"1\" class=\"dataframe\">\n",
              "  <thead>\n",
              "    <tr style=\"text-align: right;\">\n",
              "      <th></th>\n",
              "      <th>sentimiento</th>\n",
              "      <th>texto</th>\n",
              "      <th>texto_limpio</th>\n",
              "      <th>sentimiento_numerico</th>\n",
              "      <th>texto_numerico</th>\n",
              "    </tr>\n",
              "  </thead>\n",
              "  <tbody>\n",
              "    <tr>\n",
              "      <th>6459</th>\n",
              "      <td>Positivo</td>\n",
              "      <td>Gimme that $1m, we'll take a tour to the UK, a...</td>\n",
              "      <td>Gimme that $1m, we'll take a tour to the UK, a...</td>\n",
              "      <td>1</td>\n",
              "      <td>[34, 68, 72, 72, 64, 0, 79, 67, 60, 79, 0, 3, ...</td>\n",
              "    </tr>\n",
              "    <tr>\n",
              "      <th>429715</th>\n",
              "      <td>Positivo</td>\n",
              "      <td>is watching *You've Got Mail* on HBO.  http://...</td>\n",
              "      <td>is watching *You've Got Mail* on HBO.  http://...</td>\n",
              "      <td>1</td>\n",
              "      <td>[68, 78, 0, 82, 60, 79, 62, 67, 68, 73, 66, 0,...</td>\n",
              "    </tr>\n",
              "    <tr>\n",
              "      <th>314062</th>\n",
              "      <td>Positivo</td>\n",
              "      <td>bored! anyone wanna do something? txt me!</td>\n",
              "      <td>bored! anyone wanna do something? txt me!</td>\n",
              "      <td>1</td>\n",
              "      <td>[61, 74, 77, 64, 63, 1, 0, 60, 73, 84, 74, 73,...</td>\n",
              "    </tr>\n",
              "    <tr>\n",
              "      <th>803930</th>\n",
              "      <td>Negativo</td>\n",
              "      <td>ARGH! GEESE ATTACK!!!</td>\n",
              "      <td>ARGH! GEESE ATTACK!!!</td>\n",
              "      <td>0</td>\n",
              "      <td>[28, 45, 34, 35, 1, 0, 34, 32, 32, 46, 32, 0, ...</td>\n",
              "    </tr>\n",
              "    <tr>\n",
              "      <th>21234</th>\n",
              "      <td>Positivo</td>\n",
              "      <td>is LOVING this weather!!</td>\n",
              "      <td>is LOVING this weather!!</td>\n",
              "      <td>1</td>\n",
              "      <td>[68, 78, 0, 39, 42, 49, 36, 41, 34, 0, 79, 67,...</td>\n",
              "    </tr>\n",
              "    <tr>\n",
              "      <th>...</th>\n",
              "      <td>...</td>\n",
              "      <td>...</td>\n",
              "      <td>...</td>\n",
              "      <td>...</td>\n",
              "      <td>...</td>\n",
              "    </tr>\n",
              "    <tr>\n",
              "      <th>25927</th>\n",
              "      <td>Positivo</td>\n",
              "      <td>Happy Sunday to you as well.</td>\n",
              "      <td>Happy Sunday to you as well.</td>\n",
              "      <td>1</td>\n",
              "      <td>[35, 60, 75, 75, 84, 0, 46, 80, 73, 63, 60, 84...</td>\n",
              "    </tr>\n",
              "    <tr>\n",
              "      <th>113942</th>\n",
              "      <td>Positivo</td>\n",
              "      <td>Is finally back from the dinner party, had fun...</td>\n",
              "      <td>Is finally back from the dinner party, had fun...</td>\n",
              "      <td>1</td>\n",
              "      <td>[36, 78, 0, 65, 68, 73, 60, 71, 71, 84, 0, 61,...</td>\n",
              "    </tr>\n",
              "    <tr>\n",
              "      <th>252513</th>\n",
              "      <td>Positivo</td>\n",
              "      <td>xD gives me many lols</td>\n",
              "      <td>xD gives me many lols</td>\n",
              "      <td>1</td>\n",
              "      <td>[83, 31, 0, 66, 68, 81, 64, 78, 0, 72, 64, 0, ...</td>\n",
              "    </tr>\n",
              "    <tr>\n",
              "      <th>712487</th>\n",
              "      <td>Positivo</td>\n",
              "      <td>Just got it!</td>\n",
              "      <td>Just got it!</td>\n",
              "      <td>1</td>\n",
              "      <td>[37, 80, 78, 79, 0, 66, 74, 79, 0, 68, 79, 1, 0]</td>\n",
              "    </tr>\n",
              "    <tr>\n",
              "      <th>1000513</th>\n",
              "      <td>Negativo</td>\n",
              "      <td>whats going on?</td>\n",
              "      <td>whats going on?</td>\n",
              "      <td>0</td>\n",
              "      <td>[0, 82, 67, 60, 79, 78, 0, 66, 74, 68, 73, 66,...</td>\n",
              "    </tr>\n",
              "  </tbody>\n",
              "</table>\n",
              "<p>10000 rows × 5 columns</p>\n",
              "</div>\n",
              "      <button class=\"colab-df-convert\" onclick=\"convertToInteractive('df-b89263da-e677-4dad-8471-8c3fc4f54b18')\"\n",
              "              title=\"Convert this dataframe to an interactive table.\"\n",
              "              style=\"display:none;\">\n",
              "        \n",
              "  <svg xmlns=\"http://www.w3.org/2000/svg\" height=\"24px\"viewBox=\"0 0 24 24\"\n",
              "       width=\"24px\">\n",
              "    <path d=\"M0 0h24v24H0V0z\" fill=\"none\"/>\n",
              "    <path d=\"M18.56 5.44l.94 2.06.94-2.06 2.06-.94-2.06-.94-.94-2.06-.94 2.06-2.06.94zm-11 1L8.5 8.5l.94-2.06 2.06-.94-2.06-.94L8.5 2.5l-.94 2.06-2.06.94zm10 10l.94 2.06.94-2.06 2.06-.94-2.06-.94-.94-2.06-.94 2.06-2.06.94z\"/><path d=\"M17.41 7.96l-1.37-1.37c-.4-.4-.92-.59-1.43-.59-.52 0-1.04.2-1.43.59L10.3 9.45l-7.72 7.72c-.78.78-.78 2.05 0 2.83L4 21.41c.39.39.9.59 1.41.59.51 0 1.02-.2 1.41-.59l7.78-7.78 2.81-2.81c.8-.78.8-2.07 0-2.86zM5.41 20L4 18.59l7.72-7.72 1.47 1.35L5.41 20z\"/>\n",
              "  </svg>\n",
              "      </button>\n",
              "      \n",
              "  <style>\n",
              "    .colab-df-container {\n",
              "      display:flex;\n",
              "      flex-wrap:wrap;\n",
              "      gap: 12px;\n",
              "    }\n",
              "\n",
              "    .colab-df-convert {\n",
              "      background-color: #E8F0FE;\n",
              "      border: none;\n",
              "      border-radius: 50%;\n",
              "      cursor: pointer;\n",
              "      display: none;\n",
              "      fill: #1967D2;\n",
              "      height: 32px;\n",
              "      padding: 0 0 0 0;\n",
              "      width: 32px;\n",
              "    }\n",
              "\n",
              "    .colab-df-convert:hover {\n",
              "      background-color: #E2EBFA;\n",
              "      box-shadow: 0px 1px 2px rgba(60, 64, 67, 0.3), 0px 1px 3px 1px rgba(60, 64, 67, 0.15);\n",
              "      fill: #174EA6;\n",
              "    }\n",
              "\n",
              "    [theme=dark] .colab-df-convert {\n",
              "      background-color: #3B4455;\n",
              "      fill: #D2E3FC;\n",
              "    }\n",
              "\n",
              "    [theme=dark] .colab-df-convert:hover {\n",
              "      background-color: #434B5C;\n",
              "      box-shadow: 0px 1px 3px 1px rgba(0, 0, 0, 0.15);\n",
              "      filter: drop-shadow(0px 1px 2px rgba(0, 0, 0, 0.3));\n",
              "      fill: #FFFFFF;\n",
              "    }\n",
              "  </style>\n",
              "\n",
              "      <script>\n",
              "        const buttonEl =\n",
              "          document.querySelector('#df-b89263da-e677-4dad-8471-8c3fc4f54b18 button.colab-df-convert');\n",
              "        buttonEl.style.display =\n",
              "          google.colab.kernel.accessAllowed ? 'block' : 'none';\n",
              "\n",
              "        async function convertToInteractive(key) {\n",
              "          const element = document.querySelector('#df-b89263da-e677-4dad-8471-8c3fc4f54b18');\n",
              "          const dataTable =\n",
              "            await google.colab.kernel.invokeFunction('convertToInteractive',\n",
              "                                                     [key], {});\n",
              "          if (!dataTable) return;\n",
              "\n",
              "          const docLinkHtml = 'Like what you see? Visit the ' +\n",
              "            '<a target=\"_blank\" href=https://colab.research.google.com/notebooks/data_table.ipynb>data table notebook</a>'\n",
              "            + ' to learn more about interactive tables.';\n",
              "          element.innerHTML = '';\n",
              "          dataTable['output_type'] = 'display_data';\n",
              "          await google.colab.output.renderOutput(dataTable, element);\n",
              "          const docLink = document.createElement('div');\n",
              "          docLink.innerHTML = docLinkHtml;\n",
              "          element.appendChild(docLink);\n",
              "        }\n",
              "      </script>\n",
              "    </div>\n",
              "  </div>\n",
              "  "
            ]
          },
          "metadata": {},
          "execution_count": 22
        }
      ]
    },
    {
      "cell_type": "markdown",
      "source": [
        "## Vectorización de los datos"
      ],
      "metadata": {
        "id": "PKwixFnbms0x"
      }
    },
    {
      "cell_type": "markdown",
      "source": [
        "Una vez que hemos preprocesado los datos, procederemos a darle forma a los datos de modo que puedan alimentar nuestra red neuronal. Para ello utilizaremos arreglos Numpy.\n",
        "\n",
        "Lo primero que tenemos que lograr es crear un tensor de entrada con dimensiones fijas. Recuerde de que una red recursiva puede trabajar con entradas de largo variable, sin embargo, realizaremos una implementación más sencilla para términos demostrativos. La idea es buscar el tweet más largo de los que tenemos, y usar ese largo para todo el resto. Los espacios faltantes los rellenamos con ceros (equivalente a espacios).\n",
        "\n",
        "También utilizamos la técnica de one-hot encoding sobre los caracteres, es decir, utilizamos una representación del tipo:\n",
        "```\n",
        "       |  0  |           | ' ' |\n",
        "       | ... |           | ... |\n",
        "       |  0  |           | 'v' |\n",
        "       |  0  |           | 'w' |\n",
        "'x' -> |  1  |   donde   | 'x' |\n",
        "       |  0  |           | 'y' |\n",
        "       |  0  |           | 'z' |\n",
        "       | ... |           | ... |\n",
        "       |  0  |           | '~' |\n",
        "```"
      ],
      "metadata": {
        "id": "yxHzbwA4HxGi"
      }
    },
    {
      "cell_type": "code",
      "source": [
        "# Transformamos la columna 'texto_numerico' en una lista de listas.\n",
        "input_texts = list(muestra_df['texto_numerico'].values)\n",
        "\n",
        "# Transformamos la columna 'sentimiento_numerico' en una lista de ints.\n",
        "sentimiento_target = list(muestra_df['sentimiento_numerico'].values)"
      ],
      "metadata": {
        "id": "DnNQg2c5HxRK"
      },
      "execution_count": 23,
      "outputs": []
    },
    {
      "cell_type": "code",
      "source": [
        "# Buscamos el tweet mas largo\n",
        "max_seq_length = max([len(txt) for txt in input_texts])\n",
        "print(max_seq_length)"
      ],
      "metadata": {
        "colab": {
          "base_uri": "https://localhost:8080/"
        },
        "id": "d5G-9yK7HxVk",
        "outputId": "fbecd8e6-6264-4610-f827-617588b6c9eb"
      },
      "execution_count": 24,
      "outputs": [
        {
          "output_type": "stream",
          "name": "stdout",
          "text": [
            "169\n"
          ]
        }
      ]
    },
    {
      "cell_type": "code",
      "source": [
        "# Contamos cuantos caracteres distintos tenemos\n",
        "num_caracteres_unicos = len(input_characters)\n",
        "print(num_caracteres_unicos)"
      ],
      "metadata": {
        "colab": {
          "base_uri": "https://localhost:8080/"
        },
        "id": "gspyzshwLr8o",
        "outputId": "03a53af4-51d6-4b9e-d973-63af45dee5ac"
      },
      "execution_count": 25,
      "outputs": [
        {
          "output_type": "stream",
          "name": "stdout",
          "text": [
            "90\n"
          ]
        }
      ]
    },
    {
      "cell_type": "code",
      "source": [
        "# Ahora creamos el numpy array para el tensor de entrada (inicializado todo en cero)\n",
        "# Shape=(# ejemplos, # caracteres tweet mas largo, # de caracteres distintos)\n",
        "input_shape = (\n",
        "    len(input_texts),\n",
        "    max_seq_length,\n",
        "    num_caracteres_unicos,\n",
        ")\n",
        "\n",
        "X = np.zeros(input_shape, dtype='float32')"
      ],
      "metadata": {
        "id": "VvYA9QTEHxae"
      },
      "execution_count": 26,
      "outputs": []
    },
    {
      "cell_type": "code",
      "source": [
        "input_shape"
      ],
      "metadata": {
        "colab": {
          "base_uri": "https://localhost:8080/"
        },
        "id": "01gJdSQfSvTF",
        "outputId": "597781cc-ae59-4267-bf0c-813cdf506101"
      },
      "execution_count": 27,
      "outputs": [
        {
          "output_type": "execute_result",
          "data": {
            "text/plain": [
              "(10000, 169, 90)"
            ]
          },
          "metadata": {},
          "execution_count": 27
        }
      ]
    },
    {
      "cell_type": "code",
      "source": [
        "# Rellenamos el Numpy array input_data con los datos preprocesados\n",
        "for i, input_text in enumerate(input_texts):\n",
        "    for t, token in enumerate(reversed(input_text)):\n",
        "      X[i, -(t+1), token] = 1."
      ],
      "metadata": {
        "id": "pQzO-VctHxcg"
      },
      "execution_count": 28,
      "outputs": []
    },
    {
      "cell_type": "markdown",
      "source": [
        "Notar el truco que podría pasar desapercibido: el texto se coloca \"alineado a la izquierda\". Por ejemplo, seria algo así:\n",
        "\n",
        "```\n",
        "[0 0 0 0 0 0 0 0 0 t e x to]\n",
        "```\n",
        "\n",
        "\n",
        "La motivación es que dado que la red recurrente pasa información de izquierda a derecha, es probable que la información que está más a la izquierda se diluya a medida que se va iterando. Hay formas más elegantes de solucionar este problema (máscaras), pero la idea aquí es mantener el ejemplo lo más sencillo posible."
      ],
      "metadata": {
        "id": "zIv24Wh3p6W1"
      }
    },
    {
      "cell_type": "markdown",
      "source": [
        "Ahora creamos el tensor que es nuestra etiqueta (0 o 1 dependiendo si es un sentimiento positivo o negativo)"
      ],
      "metadata": {
        "id": "XWEcpvTBHxj9"
      }
    },
    {
      "cell_type": "code",
      "source": [
        "output_shape = (len(input_texts), 2)\n",
        "y = np.zeros(output_shape, dtype='float32')"
      ],
      "metadata": {
        "id": "bfe6LyLrHxoH"
      },
      "execution_count": 29,
      "outputs": []
    },
    {
      "cell_type": "code",
      "source": [
        "for i, sentimiento in enumerate(sentimiento_target):\n",
        "    y[i, sentimiento] = 1"
      ],
      "metadata": {
        "id": "yIGrHjoyHxqY"
      },
      "execution_count": 30,
      "outputs": []
    },
    {
      "cell_type": "markdown",
      "source": [
        "## Dividimos los datos en Test y train"
      ],
      "metadata": {
        "id": "Y6e3JZVTk0fF"
      }
    },
    {
      "cell_type": "code",
      "source": [
        "from sklearn.model_selection import train_test_split\n",
        "\n",
        "X_train, X_test, y_train, y_test = train_test_split(\n",
        "    X, y,\n",
        "    test_size=0.33,\n",
        "    random_state=42\n",
        ")"
      ],
      "metadata": {
        "id": "U-UB25kFk35k"
      },
      "execution_count": 31,
      "outputs": []
    },
    {
      "cell_type": "markdown",
      "source": [
        "## Redes recurrentes\n",
        "\n",
        "A continuación, veamos unos ejemplos muy sencillos de redes recurrentes de una sola capa."
      ],
      "metadata": {
        "id": "ZsLAhFaoRJMH"
      }
    },
    {
      "cell_type": "markdown",
      "source": [
        "### Red recurrente Simple de una capa"
      ],
      "metadata": {
        "id": "ZYzR1yKnhPWZ"
      }
    },
    {
      "cell_type": "markdown",
      "source": [
        "Ahora creamos una red recurrente para entrenarla con el conjunto de datos que creamos anteriormente."
      ],
      "metadata": {
        "id": "Wtpg7hogRQVw"
      }
    },
    {
      "cell_type": "code",
      "source": [
        "from keras.layers import SimpleRNN, GRU, LSTM, Bidirectional\n",
        "from keras.models import Sequential\n",
        "from keras.layers import Dense, Activation\n",
        "\n",
        "import matplotlib.pyplot as plt"
      ],
      "metadata": {
        "id": "Bq7rH5mWRZm0"
      },
      "execution_count": 32,
      "outputs": []
    },
    {
      "cell_type": "code",
      "source": [
        "HIDDEN_SIZE = 128\n",
        "BATCH_SIZE = 64"
      ],
      "metadata": {
        "id": "3gVdG_tsHxsY"
      },
      "execution_count": 33,
      "outputs": []
    },
    {
      "cell_type": "code",
      "source": [
        "model = Sequential()\n",
        "model.add(\n",
        "    SimpleRNN(\n",
        "        HIDDEN_SIZE,\n",
        "        return_sequences=False,\n",
        "        input_shape=(max_seq_length, num_caracteres_unicos),\n",
        "        unroll=True\n",
        "        )\n",
        "    )\n",
        "model.add(Dense(2))  # Dos salidas posibles: 0 ó 1\n",
        "model.add(Activation(\"softmax\"))\n",
        "\n"
      ],
      "metadata": {
        "id": "bvBed8vAHxup"
      },
      "execution_count": 34,
      "outputs": []
    },
    {
      "cell_type": "code",
      "source": [
        "model.compile(\n",
        "    loss=\"categorical_crossentropy\",\n",
        "    optimizer=\"rmsprop\",\n",
        "    metrics=[\"accuracy\"],\n",
        ")"
      ],
      "metadata": {
        "id": "0DsGwED5Hxw6"
      },
      "execution_count": 35,
      "outputs": []
    },
    {
      "cell_type": "code",
      "source": [
        "model.summary()"
      ],
      "metadata": {
        "colab": {
          "base_uri": "https://localhost:8080/"
        },
        "id": "FHkSiumttoRR",
        "outputId": "84ecf04b-6872-443a-deaa-f603a03f87e8"
      },
      "execution_count": 36,
      "outputs": [
        {
          "output_type": "stream",
          "name": "stdout",
          "text": [
            "Model: \"sequential\"\n",
            "_________________________________________________________________\n",
            " Layer (type)                Output Shape              Param #   \n",
            "=================================================================\n",
            " simple_rnn (SimpleRNN)      (None, 128)               28032     \n",
            "                                                                 \n",
            " dense (Dense)               (None, 2)                 258       \n",
            "                                                                 \n",
            " activation (Activation)     (None, 2)                 0         \n",
            "                                                                 \n",
            "=================================================================\n",
            "Total params: 28,290\n",
            "Trainable params: 28,290\n",
            "Non-trainable params: 0\n",
            "_________________________________________________________________\n"
          ]
        }
      ]
    },
    {
      "cell_type": "code",
      "source": [
        "history = model.fit(\n",
        "    X_train, y_train,\n",
        "    validation_data=(X_test, y_test),\n",
        "    batch_size=BATCH_SIZE,\n",
        "    epochs=20\n",
        ")"
      ],
      "metadata": {
        "colab": {
          "base_uri": "https://localhost:8080/"
        },
        "id": "Y2ddVSUuHxy-",
        "outputId": "fb50de4a-3fde-4ca1-ee05-704b7070dfca"
      },
      "execution_count": 37,
      "outputs": [
        {
          "output_type": "stream",
          "name": "stdout",
          "text": [
            "Epoch 1/20\n",
            "105/105 [==============================] - 24s 107ms/step - loss: 0.6955 - accuracy: 0.5410 - val_loss: 0.7376 - val_accuracy: 0.5133\n",
            "Epoch 2/20\n",
            "105/105 [==============================] - 8s 79ms/step - loss: 0.6773 - accuracy: 0.5775 - val_loss: 0.6826 - val_accuracy: 0.5497\n",
            "Epoch 3/20\n",
            "105/105 [==============================] - 9s 87ms/step - loss: 0.6737 - accuracy: 0.5839 - val_loss: 0.6835 - val_accuracy: 0.5594\n",
            "Epoch 4/20\n",
            "105/105 [==============================] - 8s 76ms/step - loss: 0.6639 - accuracy: 0.5979 - val_loss: 0.6929 - val_accuracy: 0.5621\n",
            "Epoch 5/20\n",
            "105/105 [==============================] - 9s 84ms/step - loss: 0.6640 - accuracy: 0.5979 - val_loss: 0.7183 - val_accuracy: 0.5303\n",
            "Epoch 6/20\n",
            "105/105 [==============================] - 8s 81ms/step - loss: 0.6654 - accuracy: 0.5970 - val_loss: 0.6953 - val_accuracy: 0.5555\n",
            "Epoch 7/20\n",
            "105/105 [==============================] - 8s 81ms/step - loss: 0.6554 - accuracy: 0.6097 - val_loss: 0.6939 - val_accuracy: 0.5473\n",
            "Epoch 8/20\n",
            "105/105 [==============================] - 10s 93ms/step - loss: 0.6538 - accuracy: 0.6101 - val_loss: 0.6922 - val_accuracy: 0.5561\n",
            "Epoch 9/20\n",
            "105/105 [==============================] - 8s 76ms/step - loss: 0.6570 - accuracy: 0.5979 - val_loss: 0.6832 - val_accuracy: 0.5721\n",
            "Epoch 10/20\n",
            "105/105 [==============================] - 9s 84ms/step - loss: 0.6669 - accuracy: 0.5918 - val_loss: 0.6964 - val_accuracy: 0.5697\n",
            "Epoch 11/20\n",
            "105/105 [==============================] - 11s 107ms/step - loss: 0.6566 - accuracy: 0.6088 - val_loss: 0.6850 - val_accuracy: 0.5694\n",
            "Epoch 12/20\n",
            "105/105 [==============================] - 8s 77ms/step - loss: 0.6589 - accuracy: 0.6019 - val_loss: 0.6871 - val_accuracy: 0.5733\n",
            "Epoch 13/20\n",
            "105/105 [==============================] - 11s 109ms/step - loss: 0.6501 - accuracy: 0.6187 - val_loss: 0.7407 - val_accuracy: 0.5552\n",
            "Epoch 14/20\n",
            "105/105 [==============================] - 10s 97ms/step - loss: 0.6519 - accuracy: 0.6130 - val_loss: 0.7096 - val_accuracy: 0.5542\n",
            "Epoch 15/20\n",
            "105/105 [==============================] - 8s 76ms/step - loss: 0.6508 - accuracy: 0.6178 - val_loss: 0.6866 - val_accuracy: 0.5736\n",
            "Epoch 16/20\n",
            "105/105 [==============================] - 9s 88ms/step - loss: 0.6464 - accuracy: 0.6252 - val_loss: 0.6841 - val_accuracy: 0.5712\n",
            "Epoch 17/20\n",
            "105/105 [==============================] - 10s 91ms/step - loss: 0.6503 - accuracy: 0.6182 - val_loss: 0.6853 - val_accuracy: 0.5800\n",
            "Epoch 18/20\n",
            "105/105 [==============================] - 8s 78ms/step - loss: 0.6423 - accuracy: 0.6261 - val_loss: 0.6989 - val_accuracy: 0.5548\n",
            "Epoch 19/20\n",
            "105/105 [==============================] - 10s 95ms/step - loss: 0.6369 - accuracy: 0.6354 - val_loss: 0.6898 - val_accuracy: 0.5688\n",
            "Epoch 20/20\n",
            "105/105 [==============================] - 9s 89ms/step - loss: 0.6317 - accuracy: 0.6400 - val_loss: 0.6823 - val_accuracy: 0.5761\n"
          ]
        }
      ]
    },
    {
      "cell_type": "code",
      "source": [
        "plt.subplot(211)\n",
        "plt.title('Precision')\n",
        "plt.plot(history.history['accuracy'], label='Entrenamiento')\n",
        "plt.plot(history.history['val_accuracy'], label='Validacion')\n",
        "plt.legend(loc='upper left')\n",
        "\n",
        "plt.subplot(212)\n",
        "plt.title('Perdida')\n",
        "plt.plot(history.history['loss'], label='Entrenamiento')\n",
        "plt.plot(history.history['val_loss'], label='Validacion')\n",
        "plt.legend(loc='upper right')\n",
        "\n",
        "plt.tight_layout()\n",
        "plt.show()"
      ],
      "metadata": {
        "colab": {
          "base_uri": "https://localhost:8080/",
          "height": 486
        },
        "id": "_750nhUvtZMy",
        "outputId": "a5f82c1a-254e-4895-eb32-1caa335c028e"
      },
      "execution_count": 38,
      "outputs": [
        {
          "output_type": "display_data",
          "data": {
            "text/plain": [
              "<Figure size 640x480 with 2 Axes>"
            ],
            "image/png": "[encoded data removed]"
          },
          "metadata": {}
        }
      ]
    },
    {
      "cell_type": "markdown",
      "source": [
        "Ahora veamos un ejemplo concreto para ver que tal funciona nuestra red."
      ],
      "metadata": {
        "id": "lDKyeHJwVQ21"
      }
    },
    {
      "cell_type": "code",
      "source": [
        "# Ejemplo a probar\n",
        "ejemplo = \"rest in peace Farrah! So sad\"  # Sabemos que es negativo\n",
        "\n",
        "# Transformamos utilizando nuestra representacion numerica\n",
        "ejemplo_en_numeros = transform_sentence_to_numbers(ejemplo)\n",
        "\n",
        "# Creamos el tensor. La primera dimension es 1 porque es \"un\" solo ejemplo\n",
        "texto_tensor_ejemplo = np.zeros(shape=(1, max_seq_length, num_caracteres_unicos))\n",
        "\n",
        "# Rellenamos el tensor con el texto de ejemplo ya transformado\n",
        "for t, token in enumerate(reversed(ejemplo_en_numeros)):\n",
        "      texto_tensor_ejemplo[0, -(t+1), token] = 1.\n",
        "\n"
      ],
      "metadata": {
        "id": "5pex-l4GTg_2"
      },
      "execution_count": 39,
      "outputs": []
    },
    {
      "cell_type": "code",
      "source": [
        "# Ahora lo probamos en la red\n",
        "pred = model.predict(texto_tensor_ejemplo)"
      ],
      "metadata": {
        "colab": {
          "base_uri": "https://localhost:8080/"
        },
        "id": "Gq3RYFIxXMXH",
        "outputId": "e3c594d8-edc3-42e0-92d7-5f1f77ad5ffe"
      },
      "execution_count": 40,
      "outputs": [
        {
          "output_type": "stream",
          "name": "stdout",
          "text": [
            "1/1 [==============================] - 2s 2s/step\n"
          ]
        }
      ]
    },
    {
      "cell_type": "code",
      "source": [
        "print(pred)"
      ],
      "metadata": {
        "colab": {
          "base_uri": "https://localhost:8080/"
        },
        "id": "UG7Zusk6XMY6",
        "outputId": "eb30e0a0-980c-45b9-f1d9-6099a0296c96"
      },
      "execution_count": 41,
      "outputs": [
        {
          "output_type": "stream",
          "name": "stdout",
          "text": [
            "[[0.5387852  0.46121478]]\n"
          ]
        }
      ]
    },
    {
      "cell_type": "markdown",
      "source": [
        "Observamos que a pesar de que la predicción es correcta (53% a que es un sentimiento negativo), realmente esta predicción no es muy robusta, ya que el valor es muy cercano al 50% (equivalente a lanzar una moneda al aire)."
      ],
      "metadata": {
        "id": "yP6mJkL4gtoq"
      }
    },
    {
      "cell_type": "markdown",
      "source": [
        "### Red Recurrente LSTM"
      ],
      "metadata": {
        "id": "icfk3jIIhwgM"
      }
    },
    {
      "cell_type": "code",
      "source": [
        "model = Sequential()\n",
        "model.add(\n",
        "    LSTM(\n",
        "        HIDDEN_SIZE,\n",
        "        return_sequences=False,\n",
        "        input_shape=(max_seq_length, num_caracteres_unicos),\n",
        "        unroll=True\n",
        "        )\n",
        "    )\n",
        "model.add(Dense(2))  # Dos salidas posibles: 0 ó 1\n",
        "model.add(Activation(\"softmax\"))"
      ],
      "metadata": {
        "id": "z5kNQ3Q8XMau"
      },
      "execution_count": 42,
      "outputs": []
    },
    {
      "cell_type": "code",
      "source": [
        "model.compile(\n",
        "    loss=\"categorical_crossentropy\",\n",
        "    optimizer=\"rmsprop\",\n",
        "    metrics=[\"accuracy\"],\n",
        ")"
      ],
      "metadata": {
        "id": "OOW8AcGkhzeE"
      },
      "execution_count": 43,
      "outputs": []
    },
    {
      "cell_type": "code",
      "source": [
        "model.summary()"
      ],
      "metadata": {
        "colab": {
          "base_uri": "https://localhost:8080/"
        },
        "id": "Bh_Rq6Tui9rz",
        "outputId": "31a105cc-49c6-45e1-b565-c12028f80e25"
      },
      "execution_count": 44,
      "outputs": [
        {
          "output_type": "stream",
          "name": "stdout",
          "text": [
            "Model: \"sequential_1\"\n",
            "_________________________________________________________________\n",
            " Layer (type)                Output Shape              Param #   \n",
            "=================================================================\n",
            " lstm (LSTM)                 (None, 128)               112128    \n",
            "                                                                 \n",
            " dense_1 (Dense)             (None, 2)                 258       \n",
            "                                                                 \n",
            " activation_1 (Activation)   (None, 2)                 0         \n",
            "                                                                 \n",
            "=================================================================\n",
            "Total params: 112,386\n",
            "Trainable params: 112,386\n",
            "Non-trainable params: 0\n",
            "_________________________________________________________________\n"
          ]
        }
      ]
    },
    {
      "cell_type": "code",
      "source": [
        "history = model.fit(\n",
        "    X_train, y_train,\n",
        "    validation_data=(X_test, y_test),\n",
        "    batch_size=BATCH_SIZE,\n",
        "    epochs=20\n",
        ")"
      ],
      "metadata": {
        "colab": {
          "base_uri": "https://localhost:8080/"
        },
        "id": "Kc5eJSdjhzf6",
        "outputId": "f2b96d64-a62f-4b6f-afa3-013bec0563cc"
      },
      "execution_count": 45,
      "outputs": [
        {
          "output_type": "stream",
          "name": "stdout",
          "text": [
            "Epoch 1/20\n",
            "105/105 [==============================] - 84s 445ms/step - loss: 0.6850 - accuracy: 0.5504 - val_loss: 0.6800 - val_accuracy: 0.5676\n",
            "Epoch 2/20\n",
            "105/105 [==============================] - 46s 441ms/step - loss: 0.6723 - accuracy: 0.5928 - val_loss: 0.6730 - val_accuracy: 0.5900\n",
            "Epoch 3/20\n",
            "105/105 [==============================] - 52s 497ms/step - loss: 0.6647 - accuracy: 0.6028 - val_loss: 0.6685 - val_accuracy: 0.5948\n",
            "Epoch 4/20\n",
            "105/105 [==============================] - 35s 333ms/step - loss: 0.6553 - accuracy: 0.6152 - val_loss: 0.6636 - val_accuracy: 0.6058\n",
            "Epoch 5/20\n",
            "105/105 [==============================] - 39s 376ms/step - loss: 0.6521 - accuracy: 0.6225 - val_loss: 0.6632 - val_accuracy: 0.6061\n",
            "Epoch 6/20\n",
            "105/105 [==============================] - 39s 363ms/step - loss: 0.6483 - accuracy: 0.6178 - val_loss: 0.6586 - val_accuracy: 0.6161\n",
            "Epoch 7/20\n",
            "105/105 [==============================] - 37s 355ms/step - loss: 0.6452 - accuracy: 0.6296 - val_loss: 0.6598 - val_accuracy: 0.6133\n",
            "Epoch 8/20\n",
            "105/105 [==============================] - 39s 376ms/step - loss: 0.6415 - accuracy: 0.6346 - val_loss: 0.6582 - val_accuracy: 0.6170\n",
            "Epoch 9/20\n",
            "105/105 [==============================] - 34s 327ms/step - loss: 0.6350 - accuracy: 0.6400 - val_loss: 0.6535 - val_accuracy: 0.6242\n",
            "Epoch 10/20\n",
            "105/105 [==============================] - 43s 408ms/step - loss: 0.6359 - accuracy: 0.6357 - val_loss: 0.6555 - val_accuracy: 0.6188\n",
            "Epoch 11/20\n",
            "105/105 [==============================] - 40s 378ms/step - loss: 0.6335 - accuracy: 0.6461 - val_loss: 0.6626 - val_accuracy: 0.6158\n",
            "Epoch 12/20\n",
            "105/105 [==============================] - 34s 328ms/step - loss: 0.6299 - accuracy: 0.6384 - val_loss: 0.6746 - val_accuracy: 0.5900\n",
            "Epoch 13/20\n",
            "105/105 [==============================] - 39s 377ms/step - loss: 0.6271 - accuracy: 0.6415 - val_loss: 0.6527 - val_accuracy: 0.6318\n",
            "Epoch 14/20\n",
            "105/105 [==============================] - 41s 396ms/step - loss: 0.6251 - accuracy: 0.6587 - val_loss: 0.6557 - val_accuracy: 0.6133\n",
            "Epoch 15/20\n",
            "105/105 [==============================] - 35s 332ms/step - loss: 0.6236 - accuracy: 0.6491 - val_loss: 0.6593 - val_accuracy: 0.6194\n",
            "Epoch 16/20\n",
            "105/105 [==============================] - 40s 379ms/step - loss: 0.6204 - accuracy: 0.6567 - val_loss: 0.6561 - val_accuracy: 0.6197\n",
            "Epoch 17/20\n",
            "105/105 [==============================] - 39s 376ms/step - loss: 0.6177 - accuracy: 0.6590 - val_loss: 0.6592 - val_accuracy: 0.6182\n",
            "Epoch 18/20\n",
            "105/105 [==============================] - 35s 330ms/step - loss: 0.6150 - accuracy: 0.6627 - val_loss: 0.6600 - val_accuracy: 0.6155\n",
            "Epoch 19/20\n",
            "105/105 [==============================] - 39s 377ms/step - loss: 0.6124 - accuracy: 0.6682 - val_loss: 0.6661 - val_accuracy: 0.6012\n",
            "Epoch 20/20\n",
            "105/105 [==============================] - 34s 328ms/step - loss: 0.6125 - accuracy: 0.6640 - val_loss: 0.6566 - val_accuracy: 0.6282\n"
          ]
        }
      ]
    },
    {
      "cell_type": "code",
      "source": [
        "plt.subplot(211)\n",
        "plt.title('Precision')\n",
        "plt.plot(history.history['accuracy'], label='Entrenamiento')\n",
        "plt.plot(history.history['val_accuracy'], label='Validacion')\n",
        "plt.legend(loc='upper left')\n",
        "\n",
        "plt.subplot(212)\n",
        "plt.title('Perdida')\n",
        "plt.plot(history.history['loss'], label='Entrenamiento')\n",
        "plt.plot(history.history['val_loss'], label='Validacion')\n",
        "plt.legend(loc='upper right')\n",
        "\n",
        "plt.tight_layout()\n",
        "plt.show()"
      ],
      "metadata": {
        "colab": {
          "base_uri": "https://localhost:8080/",
          "height": 486
        },
        "id": "el0NbIdNseFY",
        "outputId": "7993ad4c-3596-4891-abb5-d9b6afdec43f"
      },
      "execution_count": 46,
      "outputs": [
        {
          "output_type": "display_data",
          "data": {
            "text/plain": [
              "<Figure size 640x480 with 2 Axes>"
            ],
            "image/png": "[encoded data removed]"
          },
          "metadata": {}
        }
      ]
    },
    {
      "cell_type": "markdown",
      "source": [
        "### Red Recurrente LSTM bidireccional"
      ],
      "metadata": {
        "id": "PiJz68AUiARu"
      }
    },
    {
      "cell_type": "code",
      "source": [
        "model = Sequential()\n",
        "model.add(\n",
        "    Bidirectional(\n",
        "        LSTM(\n",
        "            HIDDEN_SIZE,\n",
        "            return_sequences=False,\n",
        "        ),\n",
        "        input_shape=(max_seq_length, num_caracteres_unicos),\n",
        "    )\n",
        ")\n",
        "\n",
        "model.add(Dense(2))  # Dos salidas posibles: 0 ó 1\n",
        "model.add(Activation(\"softmax\"))"
      ],
      "metadata": {
        "id": "Mq94XpLahzh1"
      },
      "execution_count": 47,
      "outputs": []
    },
    {
      "cell_type": "code",
      "source": [
        "model.summary()"
      ],
      "metadata": {
        "colab": {
          "base_uri": "https://localhost:8080/"
        },
        "id": "hapzmL7Shzjs",
        "outputId": "f67b9281-a338-44d0-b63c-64f2da8a9ad8"
      },
      "execution_count": 48,
      "outputs": [
        {
          "output_type": "stream",
          "name": "stdout",
          "text": [
            "Model: \"sequential_2\"\n",
            "_________________________________________________________________\n",
            " Layer (type)                Output Shape              Param #   \n",
            "=================================================================\n",
            " bidirectional (Bidirectiona  (None, 256)              224256    \n",
            " l)                                                              \n",
            "                                                                 \n",
            " dense_2 (Dense)             (None, 2)                 514       \n",
            "                                                                 \n",
            " activation_2 (Activation)   (None, 2)                 0         \n",
            "                                                                 \n",
            "=================================================================\n",
            "Total params: 224,770\n",
            "Trainable params: 224,770\n",
            "Non-trainable params: 0\n",
            "_________________________________________________________________\n"
          ]
        }
      ]
    },
    {
      "cell_type": "code",
      "source": [
        "model.compile(\n",
        "    loss=\"categorical_crossentropy\",\n",
        "    optimizer=\"rmsprop\",\n",
        "    metrics=[\"accuracy\"],\n",
        ")"
      ],
      "metadata": {
        "id": "XeQeCk8ejwjk"
      },
      "execution_count": 49,
      "outputs": []
    },
    {
      "cell_type": "code",
      "source": [
        "history = model.fit(\n",
        "    X_train, y_train,\n",
        "    validation_data=(X_test, y_test),\n",
        "    batch_size=BATCH_SIZE,\n",
        "    epochs=20\n",
        ")"
      ],
      "metadata": {
        "colab": {
          "base_uri": "https://localhost:8080/"
        },
        "id": "kMpcj60YXMc0",
        "outputId": "ec345099-a7eb-4ac7-8ae0-89c886e56629"
      },
      "execution_count": 51,
      "outputs": [
        {
          "output_type": "stream",
          "name": "stdout",
          "text": [
            "Epoch 1/20\n",
            "105/105 [==============================] - 86s 819ms/step - loss: 0.6545 - accuracy: 0.6187 - val_loss: 0.6677 - val_accuracy: 0.5976\n",
            "Epoch 2/20\n",
            "105/105 [==============================] - 79s 756ms/step - loss: 0.6579 - accuracy: 0.6143 - val_loss: 0.6646 - val_accuracy: 0.6045\n",
            "Epoch 3/20\n",
            "105/105 [==============================] - 84s 803ms/step - loss: 0.6516 - accuracy: 0.6290 - val_loss: 0.6565 - val_accuracy: 0.6197\n",
            "Epoch 4/20\n",
            "105/105 [==============================] - 89s 841ms/step - loss: 0.6447 - accuracy: 0.6282 - val_loss: 0.6679 - val_accuracy: 0.6021\n",
            "Epoch 5/20\n",
            "105/105 [==============================] - 86s 826ms/step - loss: 0.6470 - accuracy: 0.6363 - val_loss: 0.6625 - val_accuracy: 0.6145\n",
            "Epoch 6/20\n",
            "105/105 [==============================] - 94s 899ms/step - loss: 0.6421 - accuracy: 0.6291 - val_loss: 0.6564 - val_accuracy: 0.6236\n",
            "Epoch 7/20\n",
            "105/105 [==============================] - 85s 817ms/step - loss: 0.6373 - accuracy: 0.6387 - val_loss: 0.6591 - val_accuracy: 0.6139\n",
            "Epoch 8/20\n",
            "105/105 [==============================] - 87s 833ms/step - loss: 0.6336 - accuracy: 0.6397 - val_loss: 0.6565 - val_accuracy: 0.6142\n",
            "Epoch 9/20\n",
            "105/105 [==============================] - 84s 805ms/step - loss: 0.6294 - accuracy: 0.6421 - val_loss: 0.6541 - val_accuracy: 0.6233\n",
            "Epoch 10/20\n",
            "105/105 [==============================] - 87s 829ms/step - loss: 0.6291 - accuracy: 0.6425 - val_loss: 0.6574 - val_accuracy: 0.6203\n",
            "Epoch 11/20\n",
            "105/105 [==============================] - 86s 825ms/step - loss: 0.6293 - accuracy: 0.6527 - val_loss: 0.6622 - val_accuracy: 0.6003\n",
            "Epoch 12/20\n",
            "105/105 [==============================] - 89s 851ms/step - loss: 0.6232 - accuracy: 0.6481 - val_loss: 0.6880 - val_accuracy: 0.5915\n",
            "Epoch 13/20\n",
            "105/105 [==============================] - 89s 851ms/step - loss: 0.6231 - accuracy: 0.6501 - val_loss: 0.6573 - val_accuracy: 0.6258\n",
            "Epoch 14/20\n",
            "105/105 [==============================] - 86s 826ms/step - loss: 0.6197 - accuracy: 0.6579 - val_loss: 0.6590 - val_accuracy: 0.6121\n",
            "Epoch 15/20\n",
            "105/105 [==============================] - 86s 822ms/step - loss: 0.6173 - accuracy: 0.6548 - val_loss: 0.6589 - val_accuracy: 0.6209\n",
            "Epoch 16/20\n",
            "105/105 [==============================] - 89s 848ms/step - loss: 0.6153 - accuracy: 0.6599 - val_loss: 0.6571 - val_accuracy: 0.6221\n",
            "Epoch 17/20\n",
            "105/105 [==============================] - 87s 830ms/step - loss: 0.6136 - accuracy: 0.6624 - val_loss: 0.6619 - val_accuracy: 0.6245\n",
            "Epoch 18/20\n",
            "105/105 [==============================] - 89s 846ms/step - loss: 0.6112 - accuracy: 0.6667 - val_loss: 0.6619 - val_accuracy: 0.6155\n",
            "Epoch 19/20\n",
            "105/105 [==============================] - 89s 846ms/step - loss: 0.6086 - accuracy: 0.6716 - val_loss: 0.6639 - val_accuracy: 0.6024\n",
            "Epoch 20/20\n",
            "105/105 [==============================] - 86s 817ms/step - loss: 0.6070 - accuracy: 0.6672 - val_loss: 0.6580 - val_accuracy: 0.6258\n"
          ]
        }
      ]
    },
    {
      "cell_type": "code",
      "source": [
        "plt.subplot(211)\n",
        "plt.title('Precision')\n",
        "plt.plot(history.history['accuracy'], label='Entrenamiento')\n",
        "plt.plot(history.history['val_accuracy'], label='Validacion')\n",
        "plt.legend(loc='upper left')\n",
        "\n",
        "plt.subplot(212)\n",
        "plt.title('Perdida')\n",
        "plt.plot(history.history['loss'], label='Entrenamiento')\n",
        "plt.plot(history.history['val_loss'], label='Validacion')\n",
        "plt.legend(loc='upper right')\n",
        "\n",
        "plt.tight_layout()\n",
        "plt.show()"
      ],
      "metadata": {
        "colab": {
          "base_uri": "https://localhost:8080/",
          "height": 486
        },
        "id": "4eBQkQvYisM2",
        "outputId": "e3579c90-b33e-42ab-97ac-801d8628dcee"
      },
      "execution_count": 52,
      "outputs": [
        {
          "output_type": "display_data",
          "data": {
            "text/plain": [
              "<Figure size 640x480 with 2 Axes>"
            ],
            "image/png": "[encoded data removed]"
          },
          "metadata": {}
        }
      ]
    },
    {
      "cell_type": "markdown",
      "source": [
        "Por último les dejo unas preguntas para que refleccionar.\n",
        "\n",
        "¿Cuál es la red con mejor rendimiento? ¿qué podemos hacer para incrementar aún más el procentaje de acierto de la red? ¿cómo podemos aumentar la capacidad de la red?¿Creees que utilizar caractéres es una buena idea? ¿Qué alternativas distinas propondrías?"
      ],
      "metadata": {
        "id": "5w_CSfZt8Cq9"
      }
    }
  ]
}